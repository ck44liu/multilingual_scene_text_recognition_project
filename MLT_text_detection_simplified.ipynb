{
 "cells": [
  {
   "cell_type": "markdown",
   "metadata": {
    "id": "QnMX68gcw_ZH"
   },
   "source": [
    "This is the text detection task implementation on MLT-2019 dataset. The image data can be downloaded from https://rrc.cvc.uab.es/?ch=15 after registration. This iPython notebook contains both of our methods in the report. By changing the initialization and input of the combined \"MyModel\" class, both the mobilenet+2d transformer and mobilenet+inception blocks method can be implemented."
   ]
  },
  {
   "cell_type": "code",
   "execution_count": null,
   "metadata": {
    "colab": {
     "base_uri": "https://localhost:8080/"
    },
    "id": "RwmKfFGriSxt",
    "outputId": "c4f7a0b5-e84a-4500-9cfd-3b266620f9d6"
   },
   "outputs": [
    {
     "name": "stdout",
     "output_type": "stream",
     "text": [
      "Thu Dec  9 18:54:08 2021       \n",
      "+-----------------------------------------------------------------------------+\n",
      "| NVIDIA-SMI 495.44       Driver Version: 460.32.03    CUDA Version: 11.2     |\n",
      "|-------------------------------+----------------------+----------------------+\n",
      "| GPU  Name        Persistence-M| Bus-Id        Disp.A | Volatile Uncorr. ECC |\n",
      "| Fan  Temp  Perf  Pwr:Usage/Cap|         Memory-Usage | GPU-Util  Compute M. |\n",
      "|                               |                      |               MIG M. |\n",
      "|===============================+======================+======================|\n",
      "|   0  Tesla K80           Off  | 00000000:00:04.0 Off |                    0 |\n",
      "| N/A   73C    P0    93W / 149W |      0MiB / 11441MiB |      0%      Default |\n",
      "|                               |                      |                  N/A |\n",
      "+-------------------------------+----------------------+----------------------+\n",
      "                                                                               \n",
      "+-----------------------------------------------------------------------------+\n",
      "| Processes:                                                                  |\n",
      "|  GPU   GI   CI        PID   Type   Process name                  GPU Memory |\n",
      "|        ID   ID                                                   Usage      |\n",
      "|=============================================================================|\n",
      "|  No running processes found                                                 |\n",
      "+-----------------------------------------------------------------------------+\n"
     ]
    }
   ],
   "source": [
    "# check gpu status\n",
    "!nvidia-smi"
   ]
  },
  {
   "cell_type": "code",
   "execution_count": null,
   "metadata": {
    "colab": {
     "base_uri": "https://localhost:8080/"
    },
    "id": "FW46eJKiid-w",
    "outputId": "ce4e9ff1-d1a4-4c10-e9ff-649d2a97743b"
   },
   "outputs": [
    {
     "name": "stdout",
     "output_type": "stream",
     "text": [
      "Mounted at /content/gdrive\n"
     ]
    }
   ],
   "source": [
    "# mount Google drive\n",
    "from google.colab import drive\n",
    "drive.mount('/content/gdrive')"
   ]
  },
  {
   "cell_type": "code",
   "execution_count": null,
   "metadata": {
    "id": "xHMgPg4vilRC"
   },
   "outputs": [],
   "source": [
    "%matplotlib inline \n",
    "import tensorflow as tf\n",
    "from tensorflow import keras\n",
    "from tensorflow.keras import backend as K\n",
    "from tensorflow.keras import layers\n",
    "from tensorflow.keras.layers import Input, DepthwiseConv2D\n",
    "from tensorflow.keras.layers import Conv2D, BatchNormalization\n",
    "from tensorflow.keras.layers import ReLU, LeakyReLU, Flatten, Dense\n",
    "from PIL import Image\n",
    "import cv2\n",
    "import pandas as pd\n",
    "import numpy as np\n",
    "import pickle\n",
    "import os\n",
    "from matplotlib import pyplot as plt"
   ]
  },
  {
   "cell_type": "markdown",
   "metadata": {
    "id": "VEw9DWS3w8ue"
   },
   "source": [
    "Sample image visualization"
   ]
  },
  {
   "cell_type": "code",
   "execution_count": null,
   "metadata": {
    "colab": {
     "base_uri": "https://localhost:8080/",
     "height": 144
    },
    "id": "Hx5VgCB6X2Bh",
    "outputId": "93f8e732-5927-4f92-dda2-2cbc6c5d8478"
   },
   "outputs": [
    {
     "name": "stdout",
     "output_type": "stream",
     "text": [
      "(47, 387, 3)\n",
      "3\n"
     ]
    },
    {
     "data": {
      "text/plain": [
       "<matplotlib.image.AxesImage at 0x7efc000e4bd0>"
      ]
     },
     "execution_count": 4,
     "metadata": {},
     "output_type": "execute_result"
    },
    {
     "data": {
      "image/png": "[encoded data removed]",
      "text/plain": [
       "<Figure size 432x288 with 1 Axes>"
      ]
     },
     "metadata": {
      "needs_background": "light"
     },
     "output_type": "display_data"
    }
   ],
   "source": [
    "im = Image.open('./gdrive/MyDrive/Colab_Notebooks/computer_vision_project/img_data/ImagesPart2/tr_img_08565.jpg')\n",
    "k = np.asarray(im)\n",
    "print(k.shape)\n",
    "print(len(k.shape))\n",
    "# im = tf.image.rgb_to_grayscale(np.asarray(im))\n",
    "# h, w = im.shape[0], im.shape[1]\n",
    "# print(im.shape)\n",
    "plt.imshow(k[:,:,0:3], cmap='gray')"
   ]
  },
  {
   "cell_type": "code",
   "execution_count": null,
   "metadata": {
    "colab": {
     "base_uri": "https://localhost:8080/"
    },
    "id": "aDAGWQA2jF9g",
    "outputId": "d80f32d8-bd3e-491b-cab5-b7157a4921fe"
   },
   "outputs": [
    {
     "name": "stdout",
     "output_type": "stream",
     "text": [
      "(1300, 3638, 1)\n"
     ]
    }
   ],
   "source": [
    "img = Image.open('./gdrive/MyDrive/Colab_Notebooks/computer_vision_project/img_data/ImagesPart1/tr_img_00011.jpg')\n",
    "img = tf.image.rgb_to_grayscale(np.asarray(img))\n",
    "h, w = img.shape[0], img.shape[1]\n",
    "print(img.shape)"
   ]
  },
  {
   "cell_type": "code",
   "execution_count": null,
   "metadata": {
    "colab": {
     "base_uri": "https://localhost:8080/"
    },
    "id": "23J0iq9QjR1y",
    "outputId": "ea22b649-a586-4f8e-fdee-82251082c401"
   },
   "outputs": [
    {
     "name": "stdout",
     "output_type": "stream",
     "text": [
      "320 1024\n",
      "5 16\n"
     ]
    }
   ],
   "source": [
    "# image resizing\n",
    "if max(h, w) <=1024:\n",
    "  new_w = max(int((w//64)*64), 64)\n",
    "  new_h = max(int((h//64)*64), 64)\n",
    "elif h <= w:\n",
    "  new_w = 1024\n",
    "  new_h = max(int(((new_w*h/w)//64)*64), 64)\n",
    "else:\n",
    "  new_h = 1024\n",
    "  new_w = max(int(((new_h*w/h)//64)*64), 64)\n",
    "print(new_h, new_w)\n",
    "h_blocks, w_blocks = int(new_h/64), int(new_w/64)\n",
    "print(h_blocks, w_blocks)"
   ]
  },
  {
   "cell_type": "code",
   "execution_count": null,
   "metadata": {
    "colab": {
     "base_uri": "https://localhost:8080/",
     "height": 191
    },
    "id": "yQVeOQb5lLsh",
    "outputId": "f1e79490-c930-4bff-de4f-d6a4cddb13ee"
   },
   "outputs": [
    {
     "name": "stdout",
     "output_type": "stream",
     "text": [
      "(1, 320, 1024, 1)\n"
     ]
    },
    {
     "data": {
      "text/plain": [
       "<matplotlib.image.AxesImage at 0x7efbf0794950>"
      ]
     },
     "execution_count": 7,
     "metadata": {},
     "output_type": "execute_result"
    },
    {
     "data": {
      "image/png": "[encoded data removed]",
      "text/plain": [
       "<Figure size 432x288 with 1 Axes>"
      ]
     },
     "metadata": {
      "needs_background": "light"
     },
     "output_type": "display_data"
    }
   ],
   "source": [
    "xxx = tf.image.resize(tf.reshape(img, [1,h,w,1]), (new_h, new_w),\n",
    "                      method = tf.image.ResizeMethod.BILINEAR)\n",
    "print(xxx.shape)\n",
    "plt.imshow(xxx[0,:,:,0], cmap='gray')"
   ]
  },
  {
   "cell_type": "code",
   "execution_count": null,
   "metadata": {
    "colab": {
     "base_uri": "https://localhost:8080/"
    },
    "id": "NhVHLyGJS2cA",
    "outputId": "b428a62c-0a47-403a-c9a1-c3223118ba34"
   },
   "outputs": [
    {
     "data": {
      "text/plain": [
       "(1, 320, 1024, 1)"
      ]
     },
     "execution_count": 8,
     "metadata": {},
     "output_type": "execute_result"
    }
   ],
   "source": [
    "x_np = xxx.numpy()/255\n",
    "x_np.shape"
   ]
  },
  {
   "cell_type": "code",
   "execution_count": null,
   "metadata": {
    "colab": {
     "base_uri": "https://localhost:8080/"
    },
    "id": "WbvqSM3nmNX-",
    "outputId": "cd6e4267-6514-4fba-822c-5c2e4bc74b36"
   },
   "outputs": [
    {
     "data": {
      "text/plain": [
       "TensorShape([5, 16, 64, 64, 1])"
      ]
     },
     "execution_count": 9,
     "metadata": {},
     "output_type": "execute_result"
    }
   ],
   "source": [
    "# convert to (64, 64, 1) patches\n",
    "img_patches = tf.convert_to_tensor([[xxx[0,i*64:(i+1)*64,j*64:(j+1)*64,:] for j in range(w_blocks)] for i in range(h_blocks)])\n",
    "img_patches.shape"
   ]
  },
  {
   "cell_type": "code",
   "execution_count": null,
   "metadata": {
    "colab": {
     "base_uri": "https://localhost:8080/",
     "height": 306
    },
    "id": "80t6W7ufmnwj",
    "outputId": "d1da2dbe-3f19-48fc-bf77-80fac45d0cff"
   },
   "outputs": [
    {
     "data": {
      "image/png": "[encoded data removed]",
      "text/plain": [
       "<Figure size 720x360 with 80 Axes>"
      ]
     },
     "metadata": {
      "needs_background": "light"
     },
     "output_type": "display_data"
    }
   ],
   "source": [
    "# patches visualization\n",
    "plt.figure(figsize = (10,5))\n",
    "for i in range(h_blocks*w_blocks):\n",
    "  plt.subplot(h_blocks, w_blocks, i+1)\n",
    "  plt.imshow(img_patches[i//w_blocks][i%w_blocks][...,0], cmap='gray')"
   ]
  },
  {
   "cell_type": "code",
   "execution_count": null,
   "metadata": {
    "id": "Xq7Fxw_VnoFm"
   },
   "outputs": [],
   "source": [
    "# Load dataframe from csv ground truth labels\n",
    "df = pd.read_csv('./gdrive/MyDrive/Colab_Notebooks/computer_vision_project/img_data/groundtruth_df.csv')\n",
    "df = df[df['word'] != '###']"
   ]
  },
  {
   "cell_type": "code",
   "execution_count": null,
   "metadata": {
    "colab": {
     "base_uri": "https://localhost:8080/"
    },
    "id": "wseNzcpV4Wmv",
    "outputId": "4d54b920-a3b5-4cd1-9c7d-d3c6a4b644f0"
   },
   "outputs": [
    {
     "data": {
      "text/plain": [
       "983796"
      ]
     },
     "execution_count": 12,
     "metadata": {},
     "output_type": "execute_result"
    }
   ],
   "source": [
    "df.size"
   ]
  },
  {
   "cell_type": "code",
   "execution_count": null,
   "metadata": {
    "colab": {
     "base_uri": "https://localhost:8080/"
    },
    "id": "eOx6fSOVnu60",
    "outputId": "0b1c7bbf-281c-4ca5-95d4-a0d3b972d1c7"
   },
   "outputs": [
    {
     "data": {
      "text/plain": [
       "array([[11, 1370, 167, 1682, 169, 1695, 241, 1378, 255, 'Latin',\n",
       "        'Violette'],\n",
       "       [11, 252, 223, 413, 219, 413, 290, 252, 293, 'Latin', 'Fell'],\n",
       "       [11, 1498, 64, 1759, 45, 1759, 143, 1501, 164, 'Arabic',\n",
       "        'البنفسج'],\n",
       "       [11, 941, 98, 1177, 76, 1188, 160, 938, 175, 'Arabic', 'الليمون'],\n",
       "       [11, 481, 107, 589, 111, 617, 188, 478, 191, 'Arabic', 'الفل'],\n",
       "       [11, 816, 205, 1066, 198, 1064, 265, 814, 272, 'Latin', 'Citron'],\n",
       "       [11, 2083, 27, 2343, 23, 2336, 114, 2076, 118, 'Arabic',\n",
       "        'الزخامة'],\n",
       "       [11, 1948, 151, 2307, 135, 2308, 205, 1939, 227, 'Latin',\n",
       "        'Lavande'],\n",
       "       [11, 1407, 487, 1515, 484, 1545, 636, 1434, 644, 'Latin', '5'],\n",
       "       [11, 1684, 463, 1818, 450, 1818, 620, 1682, 622, 'Latin', '7'],\n",
       "       [11, 1965, 433, 2098, 426, 2096, 592, 1963, 599, 'Latin', '8'],\n",
       "       [11, 2241, 405, 2378, 388, 2373, 559, 2236, 576, 'Latin', '9']],\n",
       "      dtype=object)"
      ]
     },
     "execution_count": 13,
     "metadata": {},
     "output_type": "execute_result"
    }
   ],
   "source": [
    "# visualize sample ground truth\n",
    "gt_np = np.asarray(df[df['image_id']==11])\n",
    "gt_np"
   ]
  },
  {
   "cell_type": "code",
   "execution_count": null,
   "metadata": {
    "colab": {
     "base_uri": "https://localhost:8080/"
    },
    "id": "YttKrqfVofdl",
    "outputId": "02c03e69-935f-48a5-d1d3-a69daf39e27f"
   },
   "outputs": [
    {
     "data": {
      "text/plain": [
       "(array([[0.0, 0.0, 0.0, 0.0, 0.0, 0.0, 0.0, 0.0, 2.0, 2.0, 1.0, 1.0],\n",
       "        [6.0, 1.0, 7.0, 4.0, 2.0, 4.0, 9.0, 9.0, 6.0, 7.0, 8.0, 10.0]],\n",
       "       dtype=object), (2, 12))"
      ]
     },
     "execution_count": 14,
     "metadata": {},
     "output_type": "execute_result"
    }
   ],
   "source": [
    "# x->width, y->height\n",
    "# transform into blocks containing the image center\n",
    "centers_x = ((gt_np[:,1]+gt_np[:,3]+gt_np[:,5]+gt_np[:,7])/4)/w * new_w //64\n",
    "centers_y = ((gt_np[:,2]+gt_np[:,4]+gt_np[:,6]+gt_np[:,8])/4)/h * new_h //64\n",
    "truth = np.concatenate([[centers_y], [centers_x]], axis=0)\n",
    "truth, truth.shape"
   ]
  },
  {
   "cell_type": "code",
   "execution_count": null,
   "metadata": {
    "colab": {
     "base_uri": "https://localhost:8080/"
    },
    "id": "JxsYgXQHuXx1",
    "outputId": "07db77e5-1c42-4751-8b6a-6371100d0999"
   },
   "outputs": [
    {
     "data": {
      "text/plain": [
       "[[0, 6],\n",
       " [0, 1],\n",
       " [0, 7],\n",
       " [0, 4],\n",
       " [0, 2],\n",
       " [0, 4],\n",
       " [0, 9],\n",
       " [0, 9],\n",
       " [2, 6],\n",
       " [2, 7],\n",
       " [1, 8],\n",
       " [1, 10]]"
      ]
     },
     "execution_count": 15,
     "metadata": {},
     "output_type": "execute_result"
    }
   ],
   "source": [
    "truth_locs = [[int(truth[0][i]), int(truth[1][i])] for i in range(truth.shape[1])]\n",
    "truth_locs"
   ]
  },
  {
   "cell_type": "code",
   "execution_count": null,
   "metadata": {
    "colab": {
     "base_uri": "https://localhost:8080/"
    },
    "id": "M4MFRE-1uzU_",
    "outputId": "ce28a683-5b81-47a9-8bc4-c5a110e1ca28"
   },
   "outputs": [
    {
     "data": {
      "text/plain": [
       "(array([[1., 1., 1., 1., 1., 1., 1., 1., 1., 1., 1., 1., 1., 1., 1., 1.],\n",
       "        [1., 1., 1., 1., 1., 1., 1., 1., 1., 1., 1., 1., 1., 1., 1., 1.],\n",
       "        [1., 1., 1., 1., 1., 1., 1., 1., 1., 1., 1., 1., 1., 1., 1., 1.],\n",
       "        [1., 1., 1., 1., 1., 1., 1., 1., 1., 1., 1., 1., 1., 1., 1., 1.],\n",
       "        [1., 1., 1., 1., 1., 1., 1., 1., 1., 1., 1., 1., 1., 1., 1., 1.],\n",
       "        [0., 0., 0., 0., 0., 0., 0., 0., 0., 0., 0., 0., 0., 0., 0., 0.],\n",
       "        [0., 0., 0., 0., 0., 0., 0., 0., 0., 0., 0., 0., 0., 0., 0., 0.],\n",
       "        [0., 0., 0., 0., 0., 0., 0., 0., 0., 0., 0., 0., 0., 0., 0., 0.],\n",
       "        [0., 0., 0., 0., 0., 0., 0., 0., 0., 0., 0., 0., 0., 0., 0., 0.],\n",
       "        [0., 0., 0., 0., 0., 0., 0., 0., 0., 0., 0., 0., 0., 0., 0., 0.],\n",
       "        [0., 0., 0., 0., 0., 0., 0., 0., 0., 0., 0., 0., 0., 0., 0., 0.],\n",
       "        [0., 0., 0., 0., 0., 0., 0., 0., 0., 0., 0., 0., 0., 0., 0., 0.],\n",
       "        [0., 0., 0., 0., 0., 0., 0., 0., 0., 0., 0., 0., 0., 0., 0., 0.],\n",
       "        [0., 0., 0., 0., 0., 0., 0., 0., 0., 0., 0., 0., 0., 0., 0., 0.],\n",
       "        [0., 0., 0., 0., 0., 0., 0., 0., 0., 0., 0., 0., 0., 0., 0., 0.],\n",
       "        [0., 0., 0., 0., 0., 0., 0., 0., 0., 0., 0., 0., 0., 0., 0., 0.]]),\n",
       " array([[0., 1., 1., 0., 1., 0., 1., 1., 0., 1., 0., 0., 0., 0., 0., 0.],\n",
       "        [0., 0., 0., 0., 0., 0., 0., 0., 1., 0., 1., 0., 0., 0., 0., 0.],\n",
       "        [0., 0., 0., 0., 0., 0., 1., 1., 0., 0., 0., 0., 0., 0., 0., 0.],\n",
       "        [0., 0., 0., 0., 0., 0., 0., 0., 0., 0., 0., 0., 0., 0., 0., 0.],\n",
       "        [0., 0., 0., 0., 0., 0., 0., 0., 0., 0., 0., 0., 0., 0., 0., 0.],\n",
       "        [0., 0., 0., 0., 0., 0., 0., 0., 0., 0., 0., 0., 0., 0., 0., 0.],\n",
       "        [0., 0., 0., 0., 0., 0., 0., 0., 0., 0., 0., 0., 0., 0., 0., 0.],\n",
       "        [0., 0., 0., 0., 0., 0., 0., 0., 0., 0., 0., 0., 0., 0., 0., 0.],\n",
       "        [0., 0., 0., 0., 0., 0., 0., 0., 0., 0., 0., 0., 0., 0., 0., 0.],\n",
       "        [0., 0., 0., 0., 0., 0., 0., 0., 0., 0., 0., 0., 0., 0., 0., 0.],\n",
       "        [0., 0., 0., 0., 0., 0., 0., 0., 0., 0., 0., 0., 0., 0., 0., 0.],\n",
       "        [0., 0., 0., 0., 0., 0., 0., 0., 0., 0., 0., 0., 0., 0., 0., 0.],\n",
       "        [0., 0., 0., 0., 0., 0., 0., 0., 0., 0., 0., 0., 0., 0., 0., 0.],\n",
       "        [0., 0., 0., 0., 0., 0., 0., 0., 0., 0., 0., 0., 0., 0., 0., 0.],\n",
       "        [0., 0., 0., 0., 0., 0., 0., 0., 0., 0., 0., 0., 0., 0., 0., 0.],\n",
       "        [0., 0., 0., 0., 0., 0., 0., 0., 0., 0., 0., 0., 0., 0., 0., 0.]]))"
      ]
     },
     "execution_count": 16,
     "metadata": {},
     "output_type": "execute_result"
    }
   ],
   "source": [
    "# visualize the padded (16, 16) masks and labels\n",
    "mask = np.zeros((16, 16))\n",
    "binary_map = np.zeros((16, 16))\n",
    "mask[0:h_blocks, 0:w_blocks] = 1\n",
    "for i in range(len(truth_locs)):\n",
    "  binary_map[truth_locs[i][0], truth_locs[i][1]] = 1\n",
    "mask, binary_map"
   ]
  },
  {
   "cell_type": "code",
   "execution_count": null,
   "metadata": {
    "colab": {
     "base_uri": "https://localhost:8080/"
    },
    "id": "IzyLsVw4TdbN",
    "outputId": "45357a98-9e53-4a9b-a9f8-061f19a2f8b7"
   },
   "outputs": [
    {
     "data": {
      "text/plain": [
       "array([0., 1., 1., 0., 1., 0., 1., 1., 0., 1., 0., 0., 0., 0., 0., 0., 0.,\n",
       "       0., 0., 0., 0., 0., 0., 0., 1., 0., 1., 0., 0., 0., 0., 0., 0., 0.,\n",
       "       0., 0., 0., 0., 1., 1., 0., 0., 0., 0., 0., 0., 0., 0., 0., 0., 0.,\n",
       "       0., 0., 0., 0., 0., 0., 0., 0., 0., 0., 0., 0., 0., 0., 0., 0., 0.,\n",
       "       0., 0., 0., 0., 0., 0., 0., 0., 0., 0., 0., 0., 0., 0., 0., 0., 0.,\n",
       "       0., 0., 0., 0., 0., 0., 0., 0., 0., 0., 0., 0., 0., 0., 0., 0., 0.,\n",
       "       0., 0., 0., 0., 0., 0., 0., 0., 0., 0., 0., 0., 0., 0., 0., 0., 0.,\n",
       "       0., 0., 0., 0., 0., 0., 0., 0., 0., 0., 0., 0., 0., 0., 0., 0., 0.,\n",
       "       0., 0., 0., 0., 0., 0., 0., 0., 0., 0., 0., 0., 0., 0., 0., 0., 0.,\n",
       "       0., 0., 0., 0., 0., 0., 0., 0., 0., 0., 0., 0., 0., 0., 0., 0., 0.,\n",
       "       0., 0., 0., 0., 0., 0., 0., 0., 0., 0., 0., 0., 0., 0., 0., 0., 0.,\n",
       "       0., 0., 0., 0., 0., 0., 0., 0., 0., 0., 0., 0., 0., 0., 0., 0., 0.,\n",
       "       0., 0., 0., 0., 0., 0., 0., 0., 0., 0., 0., 0., 0., 0., 0., 0., 0.,\n",
       "       0., 0., 0., 0., 0., 0., 0., 0., 0., 0., 0., 0., 0., 0., 0., 0., 0.,\n",
       "       0., 0., 0., 0., 0., 0., 0., 0., 0., 0., 0., 0., 0., 0., 0., 0., 0.,\n",
       "       0.])"
      ]
     },
     "execution_count": 17,
     "metadata": {},
     "output_type": "execute_result"
    }
   ],
   "source": [
    "binary_map.reshape((256,))"
   ]
  },
  {
   "cell_type": "markdown",
   "metadata": {
    "id": "oOh9NYqLQENs"
   },
   "source": [
    "Create and store grayscaled images, truth binary maps and masks for all images"
   ]
  },
  {
   "cell_type": "code",
   "execution_count": null,
   "metadata": {
    "id": "jac8_j60RgGG"
   },
   "outputs": [],
   "source": [
    "parent_path = './gdrive/MyDrive/Colab_Notebooks/computer_vision_project/img_data/'"
   ]
  },
  {
   "cell_type": "code",
   "execution_count": null,
   "metadata": {
    "id": "v0gwPP_8QD11"
   },
   "outputs": [],
   "source": [
    "# for i in range(10000):\n",
    "#   print(f'saving img_{i} numpy files ...')\n",
    "\n",
    "#   idx = str(i + 1).zfill(5)\n",
    "#   if i < 5000:\n",
    "#     name = f'{parent_path}/ImagesPart1/tr_img_{idx}'\n",
    "#   else:\n",
    "#     name = f'{parent_path}/ImagesPart2/tr_img_{idx}'\n",
    "\n",
    "#   if os.path.isfile(f'{name}.jpg'):\n",
    "#     path = f'{name}.jpg'\n",
    "#   elif os.path.isfile(f'{name}.png'):\n",
    "#     path = f'{name}.png'\n",
    "#   else:\n",
    "#     path = f'{name}.gif'\n",
    "\n",
    "#   img = np.asarray(Image.open(path))\n",
    "#   if len(img.shape) == 3:\n",
    "#     img = tf.image.rgb_to_grayscale(img[:,:,0:3])\n",
    "#   h, w = img.shape[0], img.shape[1]\n",
    "\n",
    "#   if max(h, w) <=1024:\n",
    "#     new_w = max(int((w//64)*64), 64)\n",
    "#     new_h = max(int((h//64)*64), 64)\n",
    "#   elif h <= w:\n",
    "#     new_w = 1024\n",
    "#     new_h = max(int(((new_w*h/w)//64)*64), 64)\n",
    "#   else:\n",
    "#     new_h = 1024\n",
    "#     new_w = max(int(((new_h*w/h)//64)*64), 64)\n",
    "#   h_blocks, w_blocks = int(new_h/64), int(new_w/64)\n",
    "\n",
    "#   xxx = tf.image.resize(tf.reshape(img, [1,h,w,1]), (new_h, new_w),\n",
    "#                         method = tf.image.ResizeMethod.BILINEAR)\n",
    "#   xxx = xxx.numpy()/255\n",
    "#   # img_patches = tf.convert_to_tensor([[xxx[0,i*64:(i+1)*64,j*64:(j+1)*64,:] for j in range(w_blocks)] for i in range(h_blocks)])\n",
    "#   gt_np = np.asarray(df[df['image_id']==i+1])\n",
    "\n",
    "#   # x->width, y->height\n",
    "#   centers_x = ((gt_np[:,1]+gt_np[:,3]+gt_np[:,5]+gt_np[:,7])/4)/w * new_w //64\n",
    "#   centers_y = ((gt_np[:,2]+gt_np[:,4]+gt_np[:,6]+gt_np[:,8])/4)/h * new_h //64\n",
    "#   truth = np.concatenate([[centers_y], [centers_x]], axis=0)\n",
    "#   truth_locs = [[int(truth[0][j]), int(truth[1][j])] for j in range(truth.shape[1])]\n",
    "\n",
    "#   mask = np.zeros((16, 16))\n",
    "#   binary_map = np.zeros((16, 16))\n",
    "#   mask[0:h_blocks, 0:w_blocks] = 1\n",
    "#   for j in range(len(truth_locs)):\n",
    "#     binary_map[truth_locs[j][0], truth_locs[j][1]] = 1\n",
    "\n",
    "#   mask_1d = mask.reshape((256,))\n",
    "#   binary_map_1d = binary_map.reshape((256,))\n",
    "\n",
    "#   save_path = f'{parent_path}/npy_files'\n",
    "#   with open(f'{save_path}/img_npys/img_{i+1}.npy', 'wb') as f:\n",
    "#     np.save(f, xxx)\n",
    "#   with open(f'{save_path}/label_npys/label_{i+1}.npy', 'wb') as f:\n",
    "#     np.save(f, binary_map_1d)\n",
    "#   with open(f'{save_path}/mask_npys/mask_{i+1}.npy', 'wb') as f:\n",
    "#     np.save(f, mask_1d)\n"
   ]
  },
  {
   "cell_type": "code",
   "execution_count": null,
   "metadata": {
    "id": "sPfzwOOBocmF"
   },
   "outputs": [],
   "source": [
    "sizes = np.load(f'./gdrive/MyDrive/Colab_Notebooks/computer_vision_project/img_data/sizes.npy')"
   ]
  },
  {
   "cell_type": "code",
   "execution_count": null,
   "metadata": {
    "id": "mUwuglt636Nw"
   },
   "outputs": [],
   "source": [
    "num_blocks = []\n",
    "for i in range(10000):\n",
    "  h, w = sizes[i,1], sizes[i,0]\n",
    "  if max(h, w) <=1024:\n",
    "    new_w = max(int((w//64)*64), 64)\n",
    "    new_h = max(int((h//64)*64), 64)\n",
    "  elif h <= w:\n",
    "    new_w = 1024\n",
    "    new_h = max(int(((new_w*h/w)//64)*64), 64)\n",
    "  else:\n",
    "    new_h = 1024\n",
    "    new_w = max(int(((new_h*w/h)//64)*64), 64)\n",
    "  num_blocks.append([new_h//64, new_w//64])"
   ]
  },
  {
   "cell_type": "code",
   "execution_count": null,
   "metadata": {
    "colab": {
     "base_uri": "https://localhost:8080/"
    },
    "id": "gG_bVDjy5sQ8",
    "outputId": "95a9ba91-32e3-4065-d22b-8d85ef023281"
   },
   "outputs": [
    {
     "data": {
      "text/plain": [
       "array([[ 9, 16],\n",
       "       [ 9,  6],\n",
       "       [ 6,  9],\n",
       "       [ 6,  8],\n",
       "       [16, 12],\n",
       "       [ 6,  9],\n",
       "       [ 9,  7],\n",
       "       [ 4,  6],\n",
       "       [ 5,  9],\n",
       "       [16, 12]])"
      ]
     },
     "execution_count": 21,
     "metadata": {},
     "output_type": "execute_result"
    }
   ],
   "source": [
    "num_blocks = np.asarray(num_blocks)\n",
    "num_blocks[0:10]"
   ]
  },
  {
   "cell_type": "code",
   "execution_count": null,
   "metadata": {
    "colab": {
     "base_uri": "https://localhost:8080/"
    },
    "id": "o650gMGVQi4Q",
    "outputId": "d2d9ef4c-a771-4b25-e33a-e0c6f58cda11"
   },
   "outputs": [
    {
     "data": {
      "text/plain": [
       "(2, 256)"
      ]
     },
     "execution_count": 22,
     "metadata": {},
     "output_type": "execute_result"
    }
   ],
   "source": [
    "min(num_blocks[:,0]*num_blocks[:,1]), max(num_blocks[:,0]*num_blocks[:,1])"
   ]
  },
  {
   "cell_type": "code",
   "execution_count": null,
   "metadata": {
    "id": "TEyPBLHQQCBi"
   },
   "outputs": [],
   "source": [
    "# # create and store word center locations\n",
    "# word_center_locs = []\n",
    "# for i in range(10000):\n",
    "#   print(f'saving img_{i} numpy files ...')\n",
    "#   h, w = sizes[i,1], sizes[i,0]\n",
    "\n",
    "#   if max(h, w) <=1024:\n",
    "#     new_w = max(int((w//64)*64), 64)\n",
    "#     new_h = max(int((h//64)*64), 64)\n",
    "#   elif h <= w:\n",
    "#     new_w = 1024\n",
    "#     new_h = max(int(((new_w*h/w)//64)*64), 64)\n",
    "#   else:\n",
    "#     new_h = 1024\n",
    "#     new_w = max(int(((new_h*w/h)//64)*64), 64)\n",
    "#   h_blocks, w_blocks = int(new_h/64), int(new_w/64)\n",
    "\n",
    "#   gt_np = np.asarray(df[df['image_id']==i+1])\n",
    "\n",
    "#   # x->width, y->height\n",
    "#   centers_x = ((gt_np[:,1]+gt_np[:,3]+gt_np[:,5]+gt_np[:,7])/4)/w * new_w //64\n",
    "#   centers_y = ((gt_np[:,2]+gt_np[:,4]+gt_np[:,6]+gt_np[:,8])/4)/h * new_h //64\n",
    "#   truth = np.concatenate([[centers_y], [centers_x]], axis=0)\n",
    "#   truth_locs = [[int(truth[0][j]), int(truth[1][j])] for j in range(truth.shape[1])]\n",
    "#   word_center_locs.append(truth_locs) "
   ]
  },
  {
   "cell_type": "code",
   "execution_count": null,
   "metadata": {
    "id": "glocorj0prGP"
   },
   "outputs": [],
   "source": [
    "# word_center_locs[0:5]"
   ]
  },
  {
   "cell_type": "code",
   "execution_count": null,
   "metadata": {
    "id": "XVUw7hJGqB49"
   },
   "outputs": [],
   "source": [
    "# with open(f\"{parent_path}/npy_files/word_center_list\", \"wb\") as fp:   # Pickling\n",
    "#   pickle.dump(word_center_locs, fp)"
   ]
  },
  {
   "cell_type": "code",
   "execution_count": null,
   "metadata": {
    "id": "pTbSvrE6qW2r"
   },
   "outputs": [],
   "source": [
    "with open(f\"{parent_path}/npy_files/word_center_list\", \"rb\") as fp:   # Unpickling\n",
    "  label_list = pickle.load(fp)"
   ]
  },
  {
   "cell_type": "code",
   "execution_count": null,
   "metadata": {
    "colab": {
     "base_uri": "https://localhost:8080/"
    },
    "id": "Sz_trTZYqwSx",
    "outputId": "e9152e47-9b92-4524-b557-288fec5d15a6"
   },
   "outputs": [
    {
     "data": {
      "text/plain": [
       "[[[8, 0],\n",
       "  [6, 7],\n",
       "  [4, 2],\n",
       "  [4, 4],\n",
       "  [3, 4],\n",
       "  [4, 1],\n",
       "  [3, 1],\n",
       "  [2, 9],\n",
       "  [5, 5],\n",
       "  [8, 6],\n",
       "  [7, 10],\n",
       "  [7, 4],\n",
       "  [7, 2],\n",
       "  [1, 10],\n",
       "  [2, 5],\n",
       "  [8, 3],\n",
       "  [8, 2],\n",
       "  [8, 3],\n",
       "  [3, 11],\n",
       "  [3, 9],\n",
       "  [3, 6],\n",
       "  [8, 1]],\n",
       " [[6, 4], [6, 1], [7, 2], [7, 3], [7, 4]],\n",
       " [[2, 6], [2, 1], [2, 8], [1, 2], [2, 2], [2, 6], [3, 5]],\n",
       " [[2, 4], [2, 4], [2, 3], [2, 3], [2, 4], [2, 4]],\n",
       " [[3, 7], [3, 6]]]"
      ]
     },
     "execution_count": 25,
     "metadata": {},
     "output_type": "execute_result"
    }
   ],
   "source": [
    "label_list[0:5]"
   ]
  },
  {
   "cell_type": "markdown",
   "metadata": {
    "id": "5edzn8xLw5eQ"
   },
   "source": [
    "Model Construction"
   ]
  },
  {
   "cell_type": "code",
   "execution_count": null,
   "metadata": {
    "id": "_w_Xvk8Xw64i"
   },
   "outputs": [],
   "source": [
    "# Build customized mobileNet model\n",
    "# MobileNet block\n",
    "def mobilnet_block (x, filters, strides):\n",
    "  x = DepthwiseConv2D(kernel_size = 3, strides = strides, padding = 'same')(x)\n",
    "  x = BatchNormalization(epsilon=1e-6)(x)\n",
    "  x = LeakyReLU(alpha=0.1)(x)\n",
    "    \n",
    "  x = Conv2D(filters = filters, kernel_size = 1, strides = 1)(x)\n",
    "  x = BatchNormalization(epsilon=1e-6)(x)\n",
    "  x = LeakyReLU(alpha=0.1)(x)\n",
    "    \n",
    "  return x"
   ]
  },
  {
   "cell_type": "code",
   "execution_count": null,
   "metadata": {
    "id": "YmkcRUYNxjXp"
   },
   "outputs": [],
   "source": [
    "#stem of the model\n",
    "def mobile_net():\n",
    "  input = Input(shape = (64, 64, 1))\n",
    "  x = Conv2D(filters = 32, kernel_size = 3, strides = 2, padding = 'same')(input)\n",
    "  x = BatchNormalization(epsilon=1e-6)(x)\n",
    "  x = LeakyReLU(alpha=0.1)(x)\n",
    "  # main part of the model\n",
    "  x = mobilnet_block(x, filters = 64, strides = 1)\n",
    "  x = mobilnet_block(x, filters = 128, strides = 2)\n",
    "  x = mobilnet_block(x, filters = 128, strides = 1)\n",
    "  x = mobilnet_block(x, filters = 256, strides = 2)\n",
    "  x = mobilnet_block(x, filters = 256, strides = 1)\n",
    "  x = mobilnet_block(x, filters = 512, strides = 2)\n",
    "  x = mobilnet_block(x, filters = 512, strides = 1)\n",
    "\n",
    "  # for _ in range (5):\n",
    "  #   x = mobilnet_block(x, filters = 512, strides = 1)\n",
    "  x = mobilnet_block(x, filters = 512, strides = 1)\n",
    "  x = mobilnet_block(x, filters = 512, strides = 1)\n",
    "\n",
    "  x = mobilnet_block(x, filters = 1024, strides = 2)\n",
    "  x = mobilnet_block(x, filters = 1024, strides = 1)\n",
    "  x = keras.layers.AveragePooling2D(pool_size=(2, 2))(x)\n",
    "  x = keras.layers.Flatten()(x)\n",
    "  mobile_out = keras.layers.Dense(512)(x)\n",
    "  return keras.Model(inputs=input, outputs=mobile_out)"
   ]
  },
  {
   "cell_type": "code",
   "execution_count": null,
   "metadata": {
    "colab": {
     "base_uri": "https://localhost:8080/"
    },
    "id": "OPsiGSizxzZB",
    "outputId": "11e663be-fe31-458a-a0d7-4738afbcd087"
   },
   "outputs": [
    {
     "name": "stdout",
     "output_type": "stream",
     "text": [
      "Model: \"model\"\n",
      "_________________________________________________________________\n",
      " Layer (type)                Output Shape              Param #   \n",
      "=================================================================\n",
      " input_1 (InputLayer)        [(None, 64, 64, 1)]       0         \n",
      "                                                                 \n",
      " conv2d (Conv2D)             (None, 32, 32, 32)        320       \n",
      "                                                                 \n",
      " batch_normalization (BatchN  (None, 32, 32, 32)       128       \n",
      " ormalization)                                                   \n",
      "                                                                 \n",
      " leaky_re_lu (LeakyReLU)     (None, 32, 32, 32)        0         \n",
      "                                                                 \n",
      " depthwise_conv2d (Depthwise  (None, 32, 32, 32)       320       \n",
      " Conv2D)                                                         \n",
      "                                                                 \n",
      " batch_normalization_1 (Batc  (None, 32, 32, 32)       128       \n",
      " hNormalization)                                                 \n",
      "                                                                 \n",
      " leaky_re_lu_1 (LeakyReLU)   (None, 32, 32, 32)        0         \n",
      "                                                                 \n",
      " conv2d_1 (Conv2D)           (None, 32, 32, 64)        2112      \n",
      "                                                                 \n",
      " batch_normalization_2 (Batc  (None, 32, 32, 64)       256       \n",
      " hNormalization)                                                 \n",
      "                                                                 \n",
      " leaky_re_lu_2 (LeakyReLU)   (None, 32, 32, 64)        0         \n",
      "                                                                 \n",
      " depthwise_conv2d_1 (Depthwi  (None, 16, 16, 64)       640       \n",
      " seConv2D)                                                       \n",
      "                                                                 \n",
      " batch_normalization_3 (Batc  (None, 16, 16, 64)       256       \n",
      " hNormalization)                                                 \n",
      "                                                                 \n",
      " leaky_re_lu_3 (LeakyReLU)   (None, 16, 16, 64)        0         \n",
      "                                                                 \n",
      " conv2d_2 (Conv2D)           (None, 16, 16, 128)       8320      \n",
      "                                                                 \n",
      " batch_normalization_4 (Batc  (None, 16, 16, 128)      512       \n",
      " hNormalization)                                                 \n",
      "                                                                 \n",
      " leaky_re_lu_4 (LeakyReLU)   (None, 16, 16, 128)       0         \n",
      "                                                                 \n",
      " depthwise_conv2d_2 (Depthwi  (None, 16, 16, 128)      1280      \n",
      " seConv2D)                                                       \n",
      "                                                                 \n",
      " batch_normalization_5 (Batc  (None, 16, 16, 128)      512       \n",
      " hNormalization)                                                 \n",
      "                                                                 \n",
      " leaky_re_lu_5 (LeakyReLU)   (None, 16, 16, 128)       0         \n",
      "                                                                 \n",
      " conv2d_3 (Conv2D)           (None, 16, 16, 128)       16512     \n",
      "                                                                 \n",
      " batch_normalization_6 (Batc  (None, 16, 16, 128)      512       \n",
      " hNormalization)                                                 \n",
      "                                                                 \n",
      " leaky_re_lu_6 (LeakyReLU)   (None, 16, 16, 128)       0         \n",
      "                                                                 \n",
      " depthwise_conv2d_3 (Depthwi  (None, 8, 8, 128)        1280      \n",
      " seConv2D)                                                       \n",
      "                                                                 \n",
      " batch_normalization_7 (Batc  (None, 8, 8, 128)        512       \n",
      " hNormalization)                                                 \n",
      "                                                                 \n",
      " leaky_re_lu_7 (LeakyReLU)   (None, 8, 8, 128)         0         \n",
      "                                                                 \n",
      " conv2d_4 (Conv2D)           (None, 8, 8, 256)         33024     \n",
      "                                                                 \n",
      " batch_normalization_8 (Batc  (None, 8, 8, 256)        1024      \n",
      " hNormalization)                                                 \n",
      "                                                                 \n",
      " leaky_re_lu_8 (LeakyReLU)   (None, 8, 8, 256)         0         \n",
      "                                                                 \n",
      " depthwise_conv2d_4 (Depthwi  (None, 8, 8, 256)        2560      \n",
      " seConv2D)                                                       \n",
      "                                                                 \n",
      " batch_normalization_9 (Batc  (None, 8, 8, 256)        1024      \n",
      " hNormalization)                                                 \n",
      "                                                                 \n",
      " leaky_re_lu_9 (LeakyReLU)   (None, 8, 8, 256)         0         \n",
      "                                                                 \n",
      " conv2d_5 (Conv2D)           (None, 8, 8, 256)         65792     \n",
      "                                                                 \n",
      " batch_normalization_10 (Bat  (None, 8, 8, 256)        1024      \n",
      " chNormalization)                                                \n",
      "                                                                 \n",
      " leaky_re_lu_10 (LeakyReLU)  (None, 8, 8, 256)         0         \n",
      "                                                                 \n",
      " depthwise_conv2d_5 (Depthwi  (None, 4, 4, 256)        2560      \n",
      " seConv2D)                                                       \n",
      "                                                                 \n",
      " batch_normalization_11 (Bat  (None, 4, 4, 256)        1024      \n",
      " chNormalization)                                                \n",
      "                                                                 \n",
      " leaky_re_lu_11 (LeakyReLU)  (None, 4, 4, 256)         0         \n",
      "                                                                 \n",
      " conv2d_6 (Conv2D)           (None, 4, 4, 512)         131584    \n",
      "                                                                 \n",
      " batch_normalization_12 (Bat  (None, 4, 4, 512)        2048      \n",
      " chNormalization)                                                \n",
      "                                                                 \n",
      " leaky_re_lu_12 (LeakyReLU)  (None, 4, 4, 512)         0         \n",
      "                                                                 \n",
      " depthwise_conv2d_6 (Depthwi  (None, 4, 4, 512)        5120      \n",
      " seConv2D)                                                       \n",
      "                                                                 \n",
      " batch_normalization_13 (Bat  (None, 4, 4, 512)        2048      \n",
      " chNormalization)                                                \n",
      "                                                                 \n",
      " leaky_re_lu_13 (LeakyReLU)  (None, 4, 4, 512)         0         \n",
      "                                                                 \n",
      " conv2d_7 (Conv2D)           (None, 4, 4, 512)         262656    \n",
      "                                                                 \n",
      " batch_normalization_14 (Bat  (None, 4, 4, 512)        2048      \n",
      " chNormalization)                                                \n",
      "                                                                 \n",
      " leaky_re_lu_14 (LeakyReLU)  (None, 4, 4, 512)         0         \n",
      "                                                                 \n",
      " depthwise_conv2d_7 (Depthwi  (None, 4, 4, 512)        5120      \n",
      " seConv2D)                                                       \n",
      "                                                                 \n",
      " batch_normalization_15 (Bat  (None, 4, 4, 512)        2048      \n",
      " chNormalization)                                                \n",
      "                                                                 \n",
      " leaky_re_lu_15 (LeakyReLU)  (None, 4, 4, 512)         0         \n",
      "                                                                 \n",
      " conv2d_8 (Conv2D)           (None, 4, 4, 512)         262656    \n",
      "                                                                 \n",
      " batch_normalization_16 (Bat  (None, 4, 4, 512)        2048      \n",
      " chNormalization)                                                \n",
      "                                                                 \n",
      " leaky_re_lu_16 (LeakyReLU)  (None, 4, 4, 512)         0         \n",
      "                                                                 \n",
      " depthwise_conv2d_8 (Depthwi  (None, 4, 4, 512)        5120      \n",
      " seConv2D)                                                       \n",
      "                                                                 \n",
      " batch_normalization_17 (Bat  (None, 4, 4, 512)        2048      \n",
      " chNormalization)                                                \n",
      "                                                                 \n",
      " leaky_re_lu_17 (LeakyReLU)  (None, 4, 4, 512)         0         \n",
      "                                                                 \n",
      " conv2d_9 (Conv2D)           (None, 4, 4, 512)         262656    \n",
      "                                                                 \n",
      " batch_normalization_18 (Bat  (None, 4, 4, 512)        2048      \n",
      " chNormalization)                                                \n",
      "                                                                 \n",
      " leaky_re_lu_18 (LeakyReLU)  (None, 4, 4, 512)         0         \n",
      "                                                                 \n",
      " depthwise_conv2d_9 (Depthwi  (None, 2, 2, 512)        5120      \n",
      " seConv2D)                                                       \n",
      "                                                                 \n",
      " batch_normalization_19 (Bat  (None, 2, 2, 512)        2048      \n",
      " chNormalization)                                                \n",
      "                                                                 \n",
      " leaky_re_lu_19 (LeakyReLU)  (None, 2, 2, 512)         0         \n",
      "                                                                 \n",
      " conv2d_10 (Conv2D)          (None, 2, 2, 1024)        525312    \n",
      "                                                                 \n",
      " batch_normalization_20 (Bat  (None, 2, 2, 1024)       4096      \n",
      " chNormalization)                                                \n",
      "                                                                 \n",
      " leaky_re_lu_20 (LeakyReLU)  (None, 2, 2, 1024)        0         \n",
      "                                                                 \n",
      " depthwise_conv2d_10 (Depthw  (None, 2, 2, 1024)       10240     \n",
      " iseConv2D)                                                      \n",
      "                                                                 \n",
      " batch_normalization_21 (Bat  (None, 2, 2, 1024)       4096      \n",
      " chNormalization)                                                \n",
      "                                                                 \n",
      " leaky_re_lu_21 (LeakyReLU)  (None, 2, 2, 1024)        0         \n",
      "                                                                 \n",
      " conv2d_11 (Conv2D)          (None, 2, 2, 1024)        1049600   \n",
      "                                                                 \n",
      " batch_normalization_22 (Bat  (None, 2, 2, 1024)       4096      \n",
      " chNormalization)                                                \n",
      "                                                                 \n",
      " leaky_re_lu_22 (LeakyReLU)  (None, 2, 2, 1024)        0         \n",
      "                                                                 \n",
      " average_pooling2d (AverageP  (None, 1, 1, 1024)       0         \n",
      " ooling2D)                                                       \n",
      "                                                                 \n",
      " flatten (Flatten)           (None, 1024)              0         \n",
      "                                                                 \n",
      " dense (Dense)               (None, 512)               524800    \n",
      "                                                                 \n",
      "=================================================================\n",
      "Total params: 3,220,288\n",
      "Trainable params: 3,202,496\n",
      "Non-trainable params: 17,792\n",
      "_________________________________________________________________\n"
     ]
    }
   ],
   "source": [
    "mobile_net = mobile_net()\n",
    "mobile_net.summary()"
   ]
  },
  {
   "cell_type": "markdown",
   "metadata": {
    "id": "vhTb4VFmy3xB"
   },
   "source": [
    "This is the 2d-transformer encoder used in Method 1"
   ]
  },
  {
   "cell_type": "code",
   "execution_count": null,
   "metadata": {
    "id": "Wj92mr9NyAnl"
   },
   "outputs": [],
   "source": [
    "class Encoder(tf.keras.Model):\n",
    "\n",
    "  def __init__(self, head_size: int, num_heads: int, ff_dim: int, stack=3, dropout=0):\n",
    "    super(Encoder, self).__init__()\n",
    "    self.head_size = head_size\n",
    "    self.num_heads = num_heads\n",
    "    self.ff_dim = ff_dim\n",
    "    self.stack = stack\n",
    "    self.scale = tf.sqrt(float(head_size))\n",
    "    self.pos_embeds = self._position_embedding()\n",
    "\n",
    "    self.attention = [[layers.Attention(use_scale=False) for j in range(num_heads)] for i in range(stack)]\n",
    "    self.attn_dense = [[[layers.Dense(head_size, use_bias=False) for k in range(2)] for j in range(num_heads)] for i in range(stack)]\n",
    "    self.dropout = layers.Dropout(dropout)\n",
    "    self.layer_norm = [[layers.LayerNormalization(epsilon=1e-6) for j in range(2)] for i in range(stack)]\n",
    "    self.conv1 = [layers.Conv1D(filters=ff_dim, kernel_size=1) for i in range(stack)]\n",
    "    self.leakyrelu = layers.LeakyReLU(alpha=0.1)\n",
    "    self.conv2 = [layers.Conv1D(filters=head_size*num_heads, kernel_size=1) for i in range(stack)]\n",
    "\n",
    "    self.avgpool = layers.GlobalAveragePooling1D()\n",
    "    self.dense1 = layers.Dense(256)\n",
    "    self.dropout2 = layers.Dropout(0.2)\n",
    "    self.dense2 = layers.Dense(1)\n",
    "\n",
    "  def get_angles(self, idx, d_model):\n",
    "    angle_rates = 1 / np.power(10000, 4*idx/np.float32(d_model))\n",
    "    return angle_rates\n",
    "\n",
    "  # 2d positional embedding\n",
    "  def _position_embedding(self, d_model=512):\n",
    "    cube = np.zeros((16, 16, d_model))\n",
    "    for x in range(16):\n",
    "      for y in range(16):\n",
    "        cube[x,y,0:256:2] = np.sin(x*self.get_angles(np.arange(0,128,1), d_model))\n",
    "        cube[x,y,1:256:2] = np.cos(x*self.get_angles(np.arange(0,128,1), d_model))\n",
    "        cube[x,y,256:512:2] = np.sin(y*self.get_angles(np.arange(0,128,1), d_model))\n",
    "        cube[x,y,257:512:2] = np.cos(y*self.get_angles(np.arange(0,128,1), d_model))\n",
    "\n",
    "    pos_enc = tf.cast(cube, dtype=tf.float32)\n",
    "    return tf.reshape(tf.constant(pos_enc), [16*16, 512])\n",
    "\n",
    "  def call(self, inputs, mask, training=False):\n",
    "    # inputs shape: (batch_size, 16*16, 512)\n",
    "    initials = inputs\n",
    "    batch_size, seq_len, d_model = inputs.shape\n",
    "    pos_embeds = tf.broadcast_to(self.pos_embeds, [batch_size, seq_len, d_model])\n",
    "    pos_mask = tf.expand_dims(tf.constant(tf.cast(mask, dtype=tf.float32)), axis=-1)\n",
    "    # print(pos_embeds.shape)\n",
    "    # print(pos_embeds)\n",
    "    inputs += pos_embeds * pos_mask\n",
    "\n",
    "    for i in range(self.stack):\n",
    "      # Attention\n",
    "      x = inputs\n",
    "      entries = [[self.attn_dense[i][j][0](x), self.attn_dense[i][j][1](x)] \n",
    "                 for j in range(self.num_heads)]\n",
    "      attentions = [self.attention[i][j](inputs = [entries[j][0]/self.scale, entries[j][1], entries[j][1]],\n",
    "                                         mask = [mask, mask])   \n",
    "                    for j in range(self.num_heads)]\n",
    "      x = tf.concat(attentions, axis=-1)\n",
    "      # print(x.shape)\n",
    "      # print(x)\n",
    "      x = self.dropout(x, training=training)\n",
    "      res = x + inputs\n",
    "\n",
    "      # Feed Forward\n",
    "      x = self.layer_norm[i][0](res)\n",
    "      x = self.conv1[i](x)\n",
    "      x = self.leakyrelu(x)\n",
    "      x = self.dropout(x, training=training)\n",
    "      x = self.conv2[i](x)\n",
    "      inputs = self.layer_norm[i][1](x + res)\n",
    "\n",
    "    # mask size is (batch_size, 16*16)\n",
    "    # shape is (batch_size, 16*16, 512)\n",
    "\n",
    "    x = tf.concat([inputs, initials], axis=-1)\n",
    "    x = self.dropout2(x, training=training)\n",
    "    x = self.dense1(x)\n",
    "    x = self.leakyrelu(x)\n",
    "    output = self.dense2(x)\n",
    "\n",
    "    return output"
   ]
  },
  {
   "cell_type": "code",
   "execution_count": null,
   "metadata": {
    "id": "0qXaQsNW_go4"
   },
   "outputs": [],
   "source": [
    "# pass sample inputs to build the model\n",
    "encoder = Encoder(head_size=64, num_heads=8, ff_dim=512, stack=2, dropout=0)\n",
    "a = np.random.normal(size=(2, 256, 512))\n",
    "mk = np.zeros((2, 256), dtype=bool)\n",
    "mk[0, 0:10] = 1\n",
    "mk[1, 0:20] = 1\n",
    "a = tf.convert_to_tensor(a)\n",
    "mk = tf.convert_to_tensor(mk)"
   ]
  },
  {
   "cell_type": "code",
   "execution_count": null,
   "metadata": {
    "colab": {
     "base_uri": "https://localhost:8080/"
    },
    "id": "aLqbB8--_9eM",
    "outputId": "efa9c67f-7c5c-4382-a041-a2ed276ebdea"
   },
   "outputs": [
    {
     "data": {
      "text/plain": [
       "TensorShape([2, 256, 1])"
      ]
     },
     "execution_count": 36,
     "metadata": {},
     "output_type": "execute_result"
    }
   ],
   "source": [
    "out_enc = encoder(a, mk, training=False)\n",
    "out_enc.shape"
   ]
  },
  {
   "cell_type": "code",
   "execution_count": null,
   "metadata": {
    "colab": {
     "base_uri": "https://localhost:8080/"
    },
    "id": "HfJjlTNCekcW",
    "outputId": "ba754887-bd67-4977-d5c0-8c43914837dc"
   },
   "outputs": [
    {
     "name": "stdout",
     "output_type": "stream",
     "text": [
      "Model: \"encoder\"\n",
      "_________________________________________________________________\n",
      " Layer (type)                Output Shape              Param #   \n",
      "=================================================================\n",
      " attention (Attention)       multiple                  0         \n",
      "                                                                 \n",
      " attention_1 (Attention)     multiple                  0         \n",
      "                                                                 \n",
      " attention_2 (Attention)     multiple                  0         \n",
      "                                                                 \n",
      " attention_3 (Attention)     multiple                  0         \n",
      "                                                                 \n",
      " attention_4 (Attention)     multiple                  0         \n",
      "                                                                 \n",
      " attention_5 (Attention)     multiple                  0         \n",
      "                                                                 \n",
      " attention_6 (Attention)     multiple                  0         \n",
      "                                                                 \n",
      " attention_7 (Attention)     multiple                  0         \n",
      "                                                                 \n",
      " attention_8 (Attention)     multiple                  0         \n",
      "                                                                 \n",
      " attention_9 (Attention)     multiple                  0         \n",
      "                                                                 \n",
      " attention_10 (Attention)    multiple                  0         \n",
      "                                                                 \n",
      " attention_11 (Attention)    multiple                  0         \n",
      "                                                                 \n",
      " attention_12 (Attention)    multiple                  0         \n",
      "                                                                 \n",
      " attention_13 (Attention)    multiple                  0         \n",
      "                                                                 \n",
      " attention_14 (Attention)    multiple                  0         \n",
      "                                                                 \n",
      " attention_15 (Attention)    multiple                  0         \n",
      "                                                                 \n",
      " dense_1 (Dense)             multiple                  32768     \n",
      "                                                                 \n",
      " dense_2 (Dense)             multiple                  32768     \n",
      "                                                                 \n",
      " dense_3 (Dense)             multiple                  32768     \n",
      "                                                                 \n",
      " dense_4 (Dense)             multiple                  32768     \n",
      "                                                                 \n",
      " dense_5 (Dense)             multiple                  32768     \n",
      "                                                                 \n",
      " dense_6 (Dense)             multiple                  32768     \n",
      "                                                                 \n",
      " dense_7 (Dense)             multiple                  32768     \n",
      "                                                                 \n",
      " dense_8 (Dense)             multiple                  32768     \n",
      "                                                                 \n",
      " dense_9 (Dense)             multiple                  32768     \n",
      "                                                                 \n",
      " dense_10 (Dense)            multiple                  32768     \n",
      "                                                                 \n",
      " dense_11 (Dense)            multiple                  32768     \n",
      "                                                                 \n",
      " dense_12 (Dense)            multiple                  32768     \n",
      "                                                                 \n",
      " dense_13 (Dense)            multiple                  32768     \n",
      "                                                                 \n",
      " dense_14 (Dense)            multiple                  32768     \n",
      "                                                                 \n",
      " dense_15 (Dense)            multiple                  32768     \n",
      "                                                                 \n",
      " dense_16 (Dense)            multiple                  32768     \n",
      "                                                                 \n",
      " dense_17 (Dense)            multiple                  32768     \n",
      "                                                                 \n",
      " dense_18 (Dense)            multiple                  32768     \n",
      "                                                                 \n",
      " dense_19 (Dense)            multiple                  32768     \n",
      "                                                                 \n",
      " dense_20 (Dense)            multiple                  32768     \n",
      "                                                                 \n",
      " dense_21 (Dense)            multiple                  32768     \n",
      "                                                                 \n",
      " dense_22 (Dense)            multiple                  32768     \n",
      "                                                                 \n",
      " dense_23 (Dense)            multiple                  32768     \n",
      "                                                                 \n",
      " dense_24 (Dense)            multiple                  32768     \n",
      "                                                                 \n",
      " dense_25 (Dense)            multiple                  32768     \n",
      "                                                                 \n",
      " dense_26 (Dense)            multiple                  32768     \n",
      "                                                                 \n",
      " dense_27 (Dense)            multiple                  32768     \n",
      "                                                                 \n",
      " dense_28 (Dense)            multiple                  32768     \n",
      "                                                                 \n",
      " dense_29 (Dense)            multiple                  32768     \n",
      "                                                                 \n",
      " dense_30 (Dense)            multiple                  32768     \n",
      "                                                                 \n",
      " dense_31 (Dense)            multiple                  32768     \n",
      "                                                                 \n",
      " dense_32 (Dense)            multiple                  32768     \n",
      "                                                                 \n",
      " dropout (Dropout)           multiple                  0         \n",
      "                                                                 \n",
      " layer_normalization (LayerN  multiple                 1024      \n",
      " ormalization)                                                   \n",
      "                                                                 \n",
      " layer_normalization_1 (Laye  multiple                 1024      \n",
      " rNormalization)                                                 \n",
      "                                                                 \n",
      " layer_normalization_2 (Laye  multiple                 1024      \n",
      " rNormalization)                                                 \n",
      "                                                                 \n",
      " layer_normalization_3 (Laye  multiple                 1024      \n",
      " rNormalization)                                                 \n",
      "                                                                 \n",
      " conv1d (Conv1D)             multiple                  262656    \n",
      "                                                                 \n",
      " conv1d_1 (Conv1D)           multiple                  262656    \n",
      "                                                                 \n",
      " leaky_re_lu_23 (LeakyReLU)  multiple                  0         \n",
      "                                                                 \n",
      " conv1d_2 (Conv1D)           multiple                  262656    \n",
      "                                                                 \n",
      " conv1d_3 (Conv1D)           multiple                  262656    \n",
      "                                                                 \n",
      " global_average_pooling1d (G  multiple                 0 (unused)\n",
      " lobalAveragePooling1D)                                          \n",
      "                                                                 \n",
      " dense_33 (Dense)            multiple                  262400    \n",
      "                                                                 \n",
      " dropout_1 (Dropout)         multiple                  0         \n",
      "                                                                 \n",
      " dense_34 (Dense)            multiple                  257       \n",
      "                                                                 \n",
      "=================================================================\n",
      "Total params: 2,365,953\n",
      "Trainable params: 2,365,953\n",
      "Non-trainable params: 0\n",
      "_________________________________________________________________\n"
     ]
    }
   ],
   "source": [
    "encoder.summary()"
   ]
  },
  {
   "cell_type": "markdown",
   "metadata": {
    "id": "hcvBC0hbzQQT"
   },
   "source": [
    "This is the customized inception block used in Method 2"
   ]
  },
  {
   "cell_type": "code",
   "execution_count": null,
   "metadata": {
    "id": "d__qzgZN9oGV"
   },
   "outputs": [],
   "source": [
    "def inception_blocks(stacks=2, embed_dim=512):\n",
    "  inputs = Input(shape = (16, 16, embed_dim))\n",
    "  x = inputs\n",
    "\n",
    "  for i in range(stacks):\n",
    "    conv_1 = layers.Conv2D(128, 1, padding=\"same\")(x)\n",
    "    conv_1 = BatchNormalization(epsilon=1e-6)(conv_1)\n",
    "    conv_1 = LeakyReLU(alpha=0.1)(conv_1)\n",
    "\n",
    "    conv_3 = layers.SeparableConv2D(128, 3, padding=\"same\")(x)\n",
    "    conv_3 = BatchNormalization(epsilon=1e-6)(conv_3)\n",
    "    conv_3 = LeakyReLU(alpha=0.1)(conv_3)\n",
    "\n",
    "    conv_5 = layers.SeparableConv2D(128, 5, padding=\"same\")(x)\n",
    "    conv_5 = BatchNormalization(epsilon=1e-6)(conv_5)\n",
    "    conv_5 = LeakyReLU(alpha=0.1)(conv_5)\n",
    "\n",
    "    conv_7 = layers.SeparableConv2D(128, 7, padding=\"same\")(x)\n",
    "    conv_7 = BatchNormalization(epsilon=1e-6)(conv_7)\n",
    "    conv_7 = LeakyReLU(alpha=0.1)(conv_7)    \n",
    "    # concatenate\n",
    "    x = layers.Concatenate(axis=-1)([conv_1, conv_3, conv_5, conv_7])\n",
    "\n",
    "  x = layers.Conv2D(512, 1, padding=\"same\")(x)\n",
    "  x = BatchNormalization(epsilon=1e-6)(x)\n",
    "  x = LeakyReLU(alpha=0.1)(x)  \n",
    "\n",
    "  outputs = layers.Concatenate(axis=-1)([x, inputs])\n",
    "  outputs = layers.Reshape((256, -1))(outputs)\n",
    "\n",
    "  outputs = layers.Dropout(0.2)(outputs)\n",
    "  outputs = layers.Dense(256)(outputs)\n",
    "  outputs = LeakyReLU(alpha=0.1)(outputs) \n",
    "  outputs = layers.Dense(1)(outputs)\n",
    "\n",
    "  # Define the model\n",
    "  model = keras.Model(inputs, outputs)\n",
    "  return model"
   ]
  },
  {
   "cell_type": "code",
   "execution_count": null,
   "metadata": {
    "colab": {
     "base_uri": "https://localhost:8080/"
    },
    "id": "RM7VXtEvAPCv",
    "outputId": "d7d73e46-be4d-43ec-c970-f993bb9731d9"
   },
   "outputs": [
    {
     "name": "stdout",
     "output_type": "stream",
     "text": [
      "Model: \"model_1\"\n",
      "__________________________________________________________________________________________________\n",
      " Layer (type)                   Output Shape         Param #     Connected to                     \n",
      "==================================================================================================\n",
      " input_2 (InputLayer)           [(None, 16, 16, 512  0           []                               \n",
      "                                )]                                                                \n",
      "                                                                                                  \n",
      " conv2d_12 (Conv2D)             (None, 16, 16, 128)  65664       ['input_2[0][0]']                \n",
      "                                                                                                  \n",
      " separable_conv2d (SeparableCon  (None, 16, 16, 128)  70272      ['input_2[0][0]']                \n",
      " v2D)                                                                                             \n",
      "                                                                                                  \n",
      " separable_conv2d_1 (SeparableC  (None, 16, 16, 128)  78464      ['input_2[0][0]']                \n",
      " onv2D)                                                                                           \n",
      "                                                                                                  \n",
      " separable_conv2d_2 (SeparableC  (None, 16, 16, 128)  90752      ['input_2[0][0]']                \n",
      " onv2D)                                                                                           \n",
      "                                                                                                  \n",
      " batch_normalization_23 (BatchN  (None, 16, 16, 128)  512        ['conv2d_12[0][0]']              \n",
      " ormalization)                                                                                    \n",
      "                                                                                                  \n",
      " batch_normalization_24 (BatchN  (None, 16, 16, 128)  512        ['separable_conv2d[0][0]']       \n",
      " ormalization)                                                                                    \n",
      "                                                                                                  \n",
      " batch_normalization_25 (BatchN  (None, 16, 16, 128)  512        ['separable_conv2d_1[0][0]']     \n",
      " ormalization)                                                                                    \n",
      "                                                                                                  \n",
      " batch_normalization_26 (BatchN  (None, 16, 16, 128)  512        ['separable_conv2d_2[0][0]']     \n",
      " ormalization)                                                                                    \n",
      "                                                                                                  \n",
      " leaky_re_lu_23 (LeakyReLU)     (None, 16, 16, 128)  0           ['batch_normalization_23[0][0]'] \n",
      "                                                                                                  \n",
      " leaky_re_lu_24 (LeakyReLU)     (None, 16, 16, 128)  0           ['batch_normalization_24[0][0]'] \n",
      "                                                                                                  \n",
      " leaky_re_lu_25 (LeakyReLU)     (None, 16, 16, 128)  0           ['batch_normalization_25[0][0]'] \n",
      "                                                                                                  \n",
      " leaky_re_lu_26 (LeakyReLU)     (None, 16, 16, 128)  0           ['batch_normalization_26[0][0]'] \n",
      "                                                                                                  \n",
      " concatenate (Concatenate)      (None, 16, 16, 512)  0           ['leaky_re_lu_23[0][0]',         \n",
      "                                                                  'leaky_re_lu_24[0][0]',         \n",
      "                                                                  'leaky_re_lu_25[0][0]',         \n",
      "                                                                  'leaky_re_lu_26[0][0]']         \n",
      "                                                                                                  \n",
      " conv2d_13 (Conv2D)             (None, 16, 16, 128)  65664       ['concatenate[0][0]']            \n",
      "                                                                                                  \n",
      " separable_conv2d_3 (SeparableC  (None, 16, 16, 128)  70272      ['concatenate[0][0]']            \n",
      " onv2D)                                                                                           \n",
      "                                                                                                  \n",
      " separable_conv2d_4 (SeparableC  (None, 16, 16, 128)  78464      ['concatenate[0][0]']            \n",
      " onv2D)                                                                                           \n",
      "                                                                                                  \n",
      " separable_conv2d_5 (SeparableC  (None, 16, 16, 128)  90752      ['concatenate[0][0]']            \n",
      " onv2D)                                                                                           \n",
      "                                                                                                  \n",
      " batch_normalization_27 (BatchN  (None, 16, 16, 128)  512        ['conv2d_13[0][0]']              \n",
      " ormalization)                                                                                    \n",
      "                                                                                                  \n",
      " batch_normalization_28 (BatchN  (None, 16, 16, 128)  512        ['separable_conv2d_3[0][0]']     \n",
      " ormalization)                                                                                    \n",
      "                                                                                                  \n",
      " batch_normalization_29 (BatchN  (None, 16, 16, 128)  512        ['separable_conv2d_4[0][0]']     \n",
      " ormalization)                                                                                    \n",
      "                                                                                                  \n",
      " batch_normalization_30 (BatchN  (None, 16, 16, 128)  512        ['separable_conv2d_5[0][0]']     \n",
      " ormalization)                                                                                    \n",
      "                                                                                                  \n",
      " leaky_re_lu_27 (LeakyReLU)     (None, 16, 16, 128)  0           ['batch_normalization_27[0][0]'] \n",
      "                                                                                                  \n",
      " leaky_re_lu_28 (LeakyReLU)     (None, 16, 16, 128)  0           ['batch_normalization_28[0][0]'] \n",
      "                                                                                                  \n",
      " leaky_re_lu_29 (LeakyReLU)     (None, 16, 16, 128)  0           ['batch_normalization_29[0][0]'] \n",
      "                                                                                                  \n",
      " leaky_re_lu_30 (LeakyReLU)     (None, 16, 16, 128)  0           ['batch_normalization_30[0][0]'] \n",
      "                                                                                                  \n",
      " concatenate_1 (Concatenate)    (None, 16, 16, 512)  0           ['leaky_re_lu_27[0][0]',         \n",
      "                                                                  'leaky_re_lu_28[0][0]',         \n",
      "                                                                  'leaky_re_lu_29[0][0]',         \n",
      "                                                                  'leaky_re_lu_30[0][0]']         \n",
      "                                                                                                  \n",
      " conv2d_14 (Conv2D)             (None, 16, 16, 512)  262656      ['concatenate_1[0][0]']          \n",
      "                                                                                                  \n",
      " batch_normalization_31 (BatchN  (None, 16, 16, 512)  2048       ['conv2d_14[0][0]']              \n",
      " ormalization)                                                                                    \n",
      "                                                                                                  \n",
      " leaky_re_lu_31 (LeakyReLU)     (None, 16, 16, 512)  0           ['batch_normalization_31[0][0]'] \n",
      "                                                                                                  \n",
      " concatenate_2 (Concatenate)    (None, 16, 16, 1024  0           ['leaky_re_lu_31[0][0]',         \n",
      "                                )                                 'input_2[0][0]']                \n",
      "                                                                                                  \n",
      " reshape (Reshape)              (None, 256, 1024)    0           ['concatenate_2[0][0]']          \n",
      "                                                                                                  \n",
      " dropout (Dropout)              (None, 256, 1024)    0           ['reshape[0][0]']                \n",
      "                                                                                                  \n",
      " dense_1 (Dense)                (None, 256, 256)     262400      ['dropout[0][0]']                \n",
      "                                                                                                  \n",
      " leaky_re_lu_32 (LeakyReLU)     (None, 256, 256)     0           ['dense_1[0][0]']                \n",
      "                                                                                                  \n",
      " dense_2 (Dense)                (None, 256, 1)       257         ['leaky_re_lu_32[0][0]']         \n",
      "                                                                                                  \n",
      "==================================================================================================\n",
      "Total params: 1,141,761\n",
      "Trainable params: 1,138,689\n",
      "Non-trainable params: 3,072\n",
      "__________________________________________________________________________________________________\n"
     ]
    }
   ],
   "source": [
    "# Build model\n",
    "inception = inception_blocks()\n",
    "inception.summary()"
   ]
  },
  {
   "cell_type": "markdown",
   "metadata": {
    "id": "ZC2rUaNwzZSP"
   },
   "source": [
    "Build the combined model. If we set cnn_blendering to False, then this corresponds to the first method with 2d transformer encoder; if set cnn_blendering to True, then this corresponds to the second method with customized inception blocks."
   ]
  },
  {
   "cell_type": "code",
   "execution_count": null,
   "metadata": {
    "id": "RvuwZmT6zD4u"
   },
   "outputs": [],
   "source": [
    "class MyModel(tf.keras.Model):\n",
    "\n",
    "  def __init__(self, mobile_net, encoder, cnn_blendering=False):\n",
    "    super(MyModel, self).__init__()\n",
    "    self.mobile_net = mobile_net\n",
    "    self.encoder = encoder\n",
    "    self.cnn_blendering = cnn_blendering\n",
    "\n",
    "  def call(self, inputs, training=False): # inputs format sample: [(5, 16, 64, 64, 1), (16, 7, 64, 64, 1)]\n",
    "    batch_size = len(inputs)\n",
    "    batch_seq_len = [0]\n",
    "    batch_inputs = []\n",
    "    batch_h_shapes = []\n",
    "    batch_w_shapes = []\n",
    "    for j in range(batch_size):\n",
    "      h_len = inputs[j].shape[0]\n",
    "      w_len = inputs[j].shape[1]\n",
    "      batch_h_shapes.append(h_len)\n",
    "      batch_w_shapes.append(w_len)\n",
    "      seq_len = h_len * w_len\n",
    "      batch_seq_len.append(seq_len)\n",
    "      for k in range(h_len):\n",
    "        for l in range(w_len):\n",
    "          batch_inputs.append(inputs[j][k,l,...])\n",
    "    segments = [np.sum(batch_seq_len[0:i+1]) for i in range(batch_size+1)] # [0, 80, 192]\n",
    "\n",
    "    train_batch = tf.convert_to_tensor(batch_inputs)\n",
    "    mobile_out = self.mobile_net(train_batch, training=training)\n",
    "\n",
    "    t_inputs = []\n",
    "    attn_mask_2d = np.zeros((batch_size, 16, 16), dtype=bool)\n",
    "    mask = []\n",
    "    for j in range(batch_size):\n",
    "      vecs = mobile_out[segments[j]:segments[j+1],:]\n",
    "      assert(vecs.shape[0] == batch_h_shapes[j]*batch_w_shapes[j])\n",
    "      vecs = tf.reshape(vecs, [batch_h_shapes[j], batch_w_shapes[j], 512])\n",
    "      # print(vecs.shape) # (5, 16, 512)\n",
    "      paddings = tf.constant([[0, 16-batch_h_shapes[j]], [0, 16-batch_w_shapes[j]], [0, 0]])\n",
    "      # print(paddings.shape)\n",
    "      vecs = tf.pad(vecs, paddings, \"CONSTANT\")  # (16, 16, 512)\n",
    "      if self.cnn_blendering:\n",
    "        t_inputs.append(vecs)\n",
    "      else:\n",
    "        t_inputs.append(tf.reshape(vecs, [16*16, 512]))\n",
    "        attn_mask_2d[j, 0:batch_h_shapes[j], 0:batch_w_shapes[j]] = 1\n",
    "        mask.append(tf.reshape(attn_mask_2d[j,...], [256]))\n",
    "    train_tfm = tf.convert_to_tensor(t_inputs)\n",
    "    attn_mask = tf.convert_to_tensor(mask)\n",
    "\n",
    "    # print(train_tfm.shape)  # (8, 16*16, 512) \n",
    "    # print(attn_mask.shape)  # (8, 16*16)\n",
    "\n",
    "    # pass into the encoder corresponding to the value of self.cnn_blendering\n",
    "    if self.cnn_blendering:\n",
    "      output = self.encoder(train_tfm, training=training)\n",
    "    else:  \n",
    "      output = self.encoder(train_tfm, attn_mask, training=training)\n",
    "\n",
    "    return output\n",
    "\n",
    "# model_combined = MyModel(mobile_net, encoder)"
   ]
  },
  {
   "cell_type": "code",
   "execution_count": null,
   "metadata": {
    "colab": {
     "base_uri": "https://localhost:8080/"
    },
    "id": "FEqXLlRE0luY",
    "outputId": "5d654888-dc63-4514-88bf-2a5505d91a2e"
   },
   "outputs": [
    {
     "data": {
      "text/plain": [
       "TensorShape([1, 256, 1])"
      ]
     },
     "execution_count": 32,
     "metadata": {},
     "output_type": "execute_result"
    }
   ],
   "source": [
    "# pass sample inputs to build the model\n",
    "model_combined = MyModel(mobile_net, inception, cnn_blendering=True)\n",
    "# model_combined = MyModel(mobile_net, encoder)\n",
    "out = model_combined([img_patches])\n",
    "out.shape"
   ]
  },
  {
   "cell_type": "code",
   "execution_count": null,
   "metadata": {
    "colab": {
     "base_uri": "https://localhost:8080/"
    },
    "id": "YO8z9-XlAWuj",
    "outputId": "b4b9cec6-4fd8-4738-8dd5-23b62b7737f7"
   },
   "outputs": [
    {
     "name": "stdout",
     "output_type": "stream",
     "text": [
      "Model: \"my_model\"\n",
      "_________________________________________________________________\n",
      " Layer (type)                Output Shape              Param #   \n",
      "=================================================================\n",
      " model (Functional)          (None, 512)               3220288   \n",
      "                                                                 \n",
      " model_1 (Functional)        (None, 256, 1)            1141761   \n",
      "                                                                 \n",
      "=================================================================\n",
      "Total params: 4,362,049\n",
      "Trainable params: 4,341,185\n",
      "Non-trainable params: 20,864\n",
      "_________________________________________________________________\n"
     ]
    }
   ],
   "source": [
    "model_combined.summary()"
   ]
  },
  {
   "cell_type": "code",
   "execution_count": null,
   "metadata": {
    "colab": {
     "base_uri": "https://localhost:8080/"
    },
    "id": "YfYy8wT5ARG2",
    "outputId": "c2e76530-0074-4fb5-96e6-1c41b2e9d15c"
   },
   "outputs": [
    {
     "data": {
      "text/plain": [
       "<tf.Tensor: shape=(10, 1), dtype=float32, numpy=\n",
       "array([[1.5996728e-15],\n",
       "       [1.7142939e-15],\n",
       "       [1.9315809e-15],\n",
       "       [1.9595732e-15],\n",
       "       [2.2914596e-15],\n",
       "       [1.6868919e-15],\n",
       "       [1.4945691e-15],\n",
       "       [1.7105322e-15],\n",
       "       [2.0100490e-15],\n",
       "       [2.1385803e-15]], dtype=float32)>"
      ]
     },
     "execution_count": 34,
     "metadata": {},
     "output_type": "execute_result"
    }
   ],
   "source": [
    "out[0,0:10,:]"
   ]
  },
  {
   "cell_type": "code",
   "execution_count": null,
   "metadata": {
    "id": "EJV_yWjkRcEJ"
   },
   "outputs": [],
   "source": [
    "# create dictionary to map indices to 4,000 training images and 1,000 validation images in our setup\n",
    "train_array = {}\n",
    "val_array = {}\n",
    "train_num_per_thousand = 400\n",
    "val_num_per_thousand = 100\n",
    "for i in range(10*train_num_per_thousand):\n",
    "  train_array[i] = 1000*(i//train_num_per_thousand) + i%train_num_per_thousand\n",
    "for i in range(10*val_num_per_thousand):\n",
    "  val_array[i] = 1000*(i//val_num_per_thousand) + i%val_num_per_thousand + train_num_per_thousand"
   ]
  },
  {
   "cell_type": "code",
   "execution_count": null,
   "metadata": {
    "colab": {
     "base_uri": "https://localhost:8080/"
    },
    "id": "sBSKpFE4U_Js",
    "outputId": "c0cc7136-a78a-44be-98b3-05d7ce7ce4a9"
   },
   "outputs": [
    {
     "data": {
      "text/plain": [
       "(4000, 1000, 0, 398, 399, 1000, 1001)"
      ]
     },
     "execution_count": 36,
     "metadata": {},
     "output_type": "execute_result"
    }
   ],
   "source": [
    "len(train_array), len(val_array), train_array[0], train_array[398], train_array[399], train_array[400], train_array[401]"
   ]
  },
  {
   "cell_type": "code",
   "execution_count": null,
   "metadata": {
    "colab": {
     "base_uri": "https://localhost:8080/"
    },
    "id": "DA-Hc19LI_29",
    "outputId": "8fcc8fc4-4516-4bf8-a0da-c4a5beb15c19"
   },
   "outputs": [
    {
     "name": "stdout",
     "output_type": "stream",
     "text": [
      "(1, 576, 1024, 1)\n",
      "(1, 576, 384, 1)\n"
     ]
    },
    {
     "data": {
      "text/plain": [
       "(TensorShape([9, 16, 64, 64, 1]), TensorShape([9, 6, 64, 64, 1]))"
      ]
     },
     "execution_count": 37,
     "metadata": {},
     "output_type": "execute_result"
    }
   ],
   "source": [
    "save_path = f'{parent_path}/npy_files'\n",
    "img_exp1 = tf.convert_to_tensor(np.load(f'{save_path}/img_npys/img_{1}.npy'))\n",
    "print(img_exp1.shape)\n",
    "h_blk, w_blk = img_exp1.shape[1]//64, img_exp1.shape[2]//64\n",
    "# print(w_blk, h_blk)\n",
    "patches1 = tf.convert_to_tensor([[img_exp1[0,i*64:(i+1)*64,j*64:(j+1)*64,:] for j in range(w_blk)] for i in range(h_blk)])\n",
    "\n",
    "img_exp2 = tf.convert_to_tensor(np.load(f'{save_path}/img_npys/img_{2}.npy'))\n",
    "print(img_exp2.shape)\n",
    "h_blk, w_blk = img_exp2.shape[1]//64, img_exp2.shape[2]//64\n",
    "# print(w_blk, h_blk)\n",
    "patches2 = tf.convert_to_tensor([[img_exp2[0,i*64:(i+1)*64,j*64:(j+1)*64,:] for j in range(w_blk)] for i in range(h_blk)])\n",
    "\n",
    "patches1.shape, patches2.shape"
   ]
  },
  {
   "cell_type": "code",
   "execution_count": null,
   "metadata": {
    "colab": {
     "base_uri": "https://localhost:8080/"
    },
    "id": "_ceeleozR-51",
    "outputId": "bfc897d1-a27c-49f5-d7fc-1d34c72f12f6"
   },
   "outputs": [
    {
     "data": {
      "text/plain": [
       "TensorShape([1, 256, 1])"
      ]
     },
     "execution_count": 51,
     "metadata": {},
     "output_type": "execute_result"
    }
   ],
   "source": [
    "model_combined = MyModel(mobile_net, encoder)\n",
    "out = model_combined([img_patches/255.])\n",
    "out.shape"
   ]
  },
  {
   "cell_type": "code",
   "execution_count": null,
   "metadata": {
    "colab": {
     "base_uri": "https://localhost:8080/"
    },
    "id": "S1ln2XTcSH68",
    "outputId": "1c2b853c-db12-4224-86ea-7c03596c0099"
   },
   "outputs": [
    {
     "name": "stdout",
     "output_type": "stream",
     "text": [
      "Model: \"my_model\"\n",
      "_________________________________________________________________\n",
      " Layer (type)                Output Shape              Param #   \n",
      "=================================================================\n",
      " model (Functional)          (None, 512)               3220288   \n",
      "                                                                 \n",
      " model_1 (Functional)        (None, 256, 1)            1141761   \n",
      "                                                                 \n",
      "=================================================================\n",
      "Total params: 4,362,049\n",
      "Trainable params: 4,341,185\n",
      "Non-trainable params: 20,864\n",
      "_________________________________________________________________\n"
     ]
    }
   ],
   "source": [
    "# loading saved weights to resume training\n",
    "# model_combined.load_weights(f'{parent_path}/npy_files/model_t1_simplifiedv2_weights_middle_39')\n",
    "model_combined.load_weights(f'{parent_path}/npy_files/model_t1_simplified_blk_weights')\n",
    "model_combined.summary()"
   ]
  },
  {
   "cell_type": "code",
   "execution_count": null,
   "metadata": {
    "id": "v7vVi6KTAeLn"
   },
   "outputs": [],
   "source": [
    "# create optimizer\n",
    "optimizer = keras.optimizers.Adam(learning_rate=2e-4)"
   ]
  },
  {
   "cell_type": "markdown",
   "metadata": {
    "id": "Pbtj61Ko0WpZ"
   },
   "source": [
    "Customized training loop"
   ]
  },
  {
   "cell_type": "code",
   "execution_count": null,
   "metadata": {
    "colab": {
     "base_uri": "https://localhost:8080/"
    },
    "id": "BBfsb5mTPR2T",
    "outputId": "d76d71ca-8c3d-40e5-ec47-39321e753d1f"
   },
   "outputs": [
    {
     "name": "stdout",
     "output_type": "stream",
     "text": [
      "\n",
      "Start epoch 0\n",
      "loss at 0, epoch 0: 89.533241\n",
      "loss at 16, epoch 0: 70.608994\n",
      "loss at 32, epoch 0: 75.987839\n",
      "loss at 48, epoch 0: 52.281418\n",
      "loss at 64, epoch 0: 52.725822\n",
      "loss at 80, epoch 0: 70.447708\n",
      "loss at 96, epoch 0: 104.473961\n",
      "loss at 112, epoch 0: 34.911709\n",
      "loss at 127, epoch 0: 61.831718\n",
      "total loss after epoch 0: 37587.3984\n",
      "average loss after epoch 0: 73.4129\n",
      "\n",
      "Start epoch 1\n",
      "loss at 0, epoch 1: 73.406433\n",
      "loss at 16, epoch 1: 59.229794\n",
      "loss at 32, epoch 1: 55.794674\n",
      "loss at 48, epoch 1: 80.291374\n",
      "loss at 64, epoch 1: 84.224617\n",
      "loss at 80, epoch 1: 77.812630\n",
      "loss at 96, epoch 1: 113.405701\n",
      "loss at 112, epoch 1: 51.872868\n",
      "loss at 127, epoch 1: 60.998013\n",
      "total loss after epoch 1: 34641.3672\n",
      "average loss after epoch 1: 67.6589\n",
      "\n",
      "Start epoch 2\n",
      "loss at 0, epoch 2: 44.720825\n",
      "loss at 16, epoch 2: 35.530003\n",
      "loss at 32, epoch 2: 53.931492\n",
      "loss at 48, epoch 2: 50.451267\n",
      "loss at 64, epoch 2: 36.015369\n",
      "loss at 80, epoch 2: 54.760242\n",
      "loss at 96, epoch 2: 69.635170\n",
      "loss at 112, epoch 2: 50.642139\n",
      "loss at 127, epoch 2: 85.819855\n",
      "total loss after epoch 2: 34007.2695\n",
      "average loss after epoch 2: 66.4204\n",
      "\n",
      "Start epoch 3\n",
      "loss at 0, epoch 3: 48.208855\n",
      "loss at 16, epoch 3: 66.244400\n",
      "loss at 32, epoch 3: 71.420303\n",
      "loss at 48, epoch 3: 72.434677\n",
      "loss at 64, epoch 3: 50.975033\n",
      "loss at 80, epoch 3: 133.399139\n",
      "loss at 96, epoch 3: 38.293530\n",
      "loss at 112, epoch 3: 50.378864\n",
      "loss at 127, epoch 3: 51.831345\n",
      "total loss after epoch 3: 31241.0254\n",
      "average loss after epoch 3: 61.0176\n",
      "\n",
      "Start epoch 4\n",
      "loss at 0, epoch 4: 51.362656\n",
      "loss at 16, epoch 4: 63.446213\n",
      "loss at 32, epoch 4: 171.539856\n",
      "loss at 48, epoch 4: 45.235428\n",
      "loss at 64, epoch 4: 50.059982\n",
      "loss at 80, epoch 4: 46.450275\n",
      "loss at 96, epoch 4: 64.884155\n",
      "loss at 112, epoch 4: 78.029961\n",
      "loss at 127, epoch 4: 83.637733\n",
      "total loss after epoch 4: 33067.2578\n",
      "average loss after epoch 4: 64.5845\n",
      "\n",
      "Start epoch 5\n",
      "loss at 0, epoch 5: 45.391087\n",
      "loss at 16, epoch 5: 23.591492\n",
      "loss at 32, epoch 5: 78.112457\n",
      "loss at 48, epoch 5: 45.688828\n",
      "loss at 64, epoch 5: 120.628311\n",
      "loss at 80, epoch 5: 72.992096\n",
      "loss at 96, epoch 5: 56.704094\n",
      "loss at 112, epoch 5: 71.466736\n",
      "loss at 127, epoch 5: 30.245880\n",
      "total loss after epoch 5: 30587.6270\n",
      "average loss after epoch 5: 59.7415\n",
      "\n",
      "Start epoch 6\n",
      "loss at 0, epoch 6: 89.819237\n",
      "loss at 16, epoch 6: 45.394711\n",
      "loss at 32, epoch 6: 29.065189\n",
      "loss at 48, epoch 6: 38.192924\n",
      "loss at 64, epoch 6: 49.062309\n",
      "loss at 80, epoch 6: 52.887058\n",
      "loss at 96, epoch 6: 77.394852\n",
      "loss at 112, epoch 6: 48.379463\n",
      "loss at 127, epoch 6: 32.318687\n",
      "total loss after epoch 6: 28318.0254\n",
      "average loss after epoch 6: 55.3086\n",
      "\n",
      "Start epoch 7\n",
      "loss at 0, epoch 7: 47.797859\n",
      "loss at 16, epoch 7: 70.598915\n",
      "loss at 32, epoch 7: 52.901978\n",
      "loss at 48, epoch 7: 58.310760\n",
      "loss at 64, epoch 7: 93.262207\n",
      "loss at 80, epoch 7: 26.889801\n",
      "loss at 96, epoch 7: 45.036354\n",
      "loss at 112, epoch 7: 41.719673\n",
      "loss at 127, epoch 7: 51.195736\n",
      "total loss after epoch 7: 28258.4785\n",
      "average loss after epoch 7: 55.1923\n",
      "\n",
      "Start epoch 8\n",
      "loss at 0, epoch 8: 40.516598\n",
      "loss at 16, epoch 8: 43.776394\n",
      "loss at 32, epoch 8: 43.273941\n",
      "loss at 48, epoch 8: 46.225269\n",
      "loss at 64, epoch 8: 63.117275\n",
      "loss at 80, epoch 8: 64.461006\n",
      "loss at 96, epoch 8: 126.429443\n",
      "loss at 112, epoch 8: 30.674284\n",
      "loss at 127, epoch 8: 102.919601\n",
      "total loss after epoch 8: 29670.6328\n",
      "average loss after epoch 8: 57.9505\n",
      "\n",
      "Start epoch 9\n",
      "loss at 0, epoch 9: 33.205803\n",
      "loss at 16, epoch 9: 40.597454\n",
      "loss at 32, epoch 9: 46.308113\n",
      "loss at 48, epoch 9: 53.831879\n",
      "loss at 64, epoch 9: 44.027908\n",
      "loss at 80, epoch 9: 39.256950\n",
      "loss at 96, epoch 9: 31.337244\n",
      "loss at 112, epoch 9: 44.516159\n",
      "loss at 127, epoch 9: 33.391766\n",
      "total loss after epoch 9: 27442.7012\n",
      "average loss after epoch 9: 53.5990\n",
      "\n",
      "Start epoch 10\n",
      "loss at 0, epoch 10: 57.527534\n",
      "loss at 16, epoch 10: 36.978535\n",
      "loss at 32, epoch 10: 152.030197\n",
      "loss at 48, epoch 10: 45.182125\n",
      "loss at 64, epoch 10: 64.688370\n",
      "loss at 80, epoch 10: 189.201614\n",
      "loss at 96, epoch 10: 51.619289\n",
      "loss at 112, epoch 10: 49.095528\n",
      "loss at 127, epoch 10: 33.815922\n",
      "total loss after epoch 10: 25912.1562\n",
      "average loss after epoch 10: 50.6097\n",
      "\n",
      "Start epoch 11\n",
      "loss at 0, epoch 11: 47.694340\n",
      "loss at 16, epoch 11: 28.756802\n",
      "loss at 32, epoch 11: 30.038845\n",
      "loss at 48, epoch 11: 37.538494\n",
      "loss at 64, epoch 11: 32.723167\n",
      "loss at 80, epoch 11: 37.428413\n",
      "loss at 96, epoch 11: 33.032108\n",
      "loss at 112, epoch 11: 42.242580\n",
      "loss at 127, epoch 11: 47.034100\n",
      "total loss after epoch 11: 25554.9434\n",
      "average loss after epoch 11: 49.9120\n",
      "\n",
      "Start epoch 12\n",
      "loss at 0, epoch 12: 26.397907\n",
      "loss at 16, epoch 12: 53.161072\n",
      "loss at 32, epoch 12: 62.321098\n",
      "loss at 48, epoch 12: 29.940983\n",
      "loss at 64, epoch 12: 56.739334\n",
      "loss at 80, epoch 12: 57.213585\n",
      "loss at 96, epoch 12: 48.040768\n",
      "loss at 112, epoch 12: 26.553976\n",
      "loss at 127, epoch 12: 59.259903\n",
      "total loss after epoch 12: 26160.1406\n",
      "average loss after epoch 12: 51.0940\n",
      "\n",
      "Start epoch 13\n",
      "loss at 0, epoch 13: 26.867783\n",
      "loss at 16, epoch 13: 34.156696\n",
      "loss at 32, epoch 13: 33.967369\n",
      "loss at 48, epoch 13: 44.914200\n",
      "loss at 64, epoch 13: 45.262035\n",
      "loss at 80, epoch 13: 29.149446\n",
      "loss at 96, epoch 13: 28.558655\n",
      "loss at 112, epoch 13: 22.420433\n",
      "loss at 127, epoch 13: 48.538311\n",
      "total loss after epoch 13: 23931.2559\n",
      "average loss after epoch 13: 46.7407\n",
      "\n",
      "Start epoch 14\n",
      "loss at 0, epoch 14: 39.186096\n",
      "loss at 16, epoch 14: 30.205610\n",
      "loss at 32, epoch 14: 39.193310\n",
      "loss at 48, epoch 14: 35.022465\n",
      "loss at 64, epoch 14: 50.395523\n",
      "loss at 80, epoch 14: 27.382200\n",
      "loss at 96, epoch 14: 38.297256\n",
      "loss at 112, epoch 14: 28.293396\n",
      "loss at 127, epoch 14: 36.705475\n",
      "total loss after epoch 14: 23197.9805\n",
      "average loss after epoch 14: 45.3086\n",
      "\n",
      "Start epoch 15\n",
      "loss at 0, epoch 15: 36.474186\n",
      "loss at 16, epoch 15: 35.105797\n",
      "loss at 32, epoch 15: 26.696913\n",
      "loss at 48, epoch 15: 48.087055\n",
      "loss at 64, epoch 15: 32.373894\n",
      "loss at 80, epoch 15: 43.416878\n",
      "loss at 96, epoch 15: 54.594959\n",
      "loss at 112, epoch 15: 40.122761\n",
      "loss at 127, epoch 15: 116.279381\n",
      "total loss after epoch 15: 24587.6953\n",
      "average loss after epoch 15: 48.0228\n",
      "\n",
      "Start epoch 16\n",
      "loss at 0, epoch 16: 50.506264\n",
      "loss at 16, epoch 16: 41.884163\n",
      "loss at 32, epoch 16: 34.972519\n",
      "loss at 48, epoch 16: 38.756489\n",
      "loss at 64, epoch 16: 42.468628\n",
      "loss at 80, epoch 16: 33.274952\n",
      "loss at 96, epoch 16: 28.075060\n",
      "loss at 112, epoch 16: 37.900734\n",
      "loss at 127, epoch 16: 45.594715\n",
      "total loss after epoch 16: 23066.4727\n",
      "average loss after epoch 16: 45.0517\n",
      "\n",
      "Start epoch 17\n",
      "loss at 0, epoch 17: 40.310722\n",
      "loss at 16, epoch 17: 54.635571\n",
      "loss at 32, epoch 17: 31.986900\n",
      "loss at 48, epoch 17: 27.890364\n",
      "loss at 64, epoch 17: 47.658791\n",
      "loss at 80, epoch 17: 123.022484\n",
      "loss at 96, epoch 17: 26.912445\n",
      "loss at 112, epoch 17: 20.546780\n",
      "loss at 127, epoch 17: 50.541016\n",
      "total loss after epoch 17: 26220.6699\n",
      "average loss after epoch 17: 51.2122\n",
      "\n",
      "Start epoch 18\n",
      "loss at 0, epoch 18: 15.659485\n",
      "loss at 16, epoch 18: 67.495110\n",
      "loss at 32, epoch 18: 32.272308\n",
      "loss at 48, epoch 18: 33.038528\n",
      "loss at 64, epoch 18: 25.464390\n",
      "loss at 80, epoch 18: 57.384403\n",
      "loss at 96, epoch 18: 49.360264\n",
      "loss at 112, epoch 18: 47.273293\n",
      "loss at 127, epoch 18: 49.160980\n",
      "total loss after epoch 18: 22542.9785\n",
      "average loss after epoch 18: 44.0293\n",
      "\n",
      "Start epoch 19\n",
      "loss at 0, epoch 19: 42.990715\n",
      "loss at 16, epoch 19: 26.619547\n",
      "loss at 32, epoch 19: 45.223675\n",
      "loss at 48, epoch 19: 32.902271\n",
      "loss at 64, epoch 19: 32.836571\n",
      "loss at 80, epoch 19: 28.149988\n",
      "loss at 96, epoch 19: 24.500517\n",
      "loss at 112, epoch 19: 39.181953\n",
      "loss at 127, epoch 19: 22.530733\n",
      "total loss after epoch 19: 21802.7578\n",
      "average loss after epoch 19: 42.5835\n",
      "\n",
      "Start epoch 20\n",
      "loss at 0, epoch 20: 25.082085\n",
      "loss at 16, epoch 20: 42.661217\n",
      "loss at 32, epoch 20: 43.067673\n",
      "loss at 48, epoch 20: 41.552345\n",
      "loss at 64, epoch 20: 38.550518\n",
      "loss at 80, epoch 20: 70.430031\n",
      "loss at 96, epoch 20: 50.273834\n",
      "loss at 112, epoch 20: 49.566895\n",
      "loss at 127, epoch 20: 38.653831\n",
      "total loss after epoch 20: 22318.5078\n",
      "average loss after epoch 20: 43.5908\n",
      "\n",
      "Start epoch 21\n",
      "loss at 0, epoch 21: 56.150265\n",
      "loss at 16, epoch 21: 26.502577\n",
      "loss at 32, epoch 21: 36.984264\n",
      "loss at 48, epoch 21: 41.694183\n",
      "loss at 64, epoch 21: 53.886215\n",
      "loss at 80, epoch 21: 77.164398\n",
      "loss at 96, epoch 21: 45.311199\n",
      "loss at 112, epoch 21: 47.275078\n",
      "loss at 127, epoch 21: 27.393461\n",
      "total loss after epoch 21: 21809.5469\n",
      "average loss after epoch 21: 42.5968\n",
      "\n",
      "Start epoch 22\n",
      "loss at 0, epoch 22: 47.863224\n",
      "loss at 16, epoch 22: 77.070641\n",
      "loss at 32, epoch 22: 97.847603\n",
      "loss at 48, epoch 22: 35.689693\n",
      "loss at 64, epoch 22: 38.650486\n",
      "loss at 80, epoch 22: 18.980694\n",
      "loss at 96, epoch 22: 45.209873\n",
      "loss at 112, epoch 22: 52.528488\n",
      "loss at 127, epoch 22: 44.144432\n",
      "total loss after epoch 22: 23394.8438\n",
      "average loss after epoch 22: 45.6931\n",
      "\n",
      "Start epoch 23\n",
      "loss at 0, epoch 23: 42.492786\n",
      "loss at 16, epoch 23: 37.435371\n",
      "loss at 32, epoch 23: 32.761608\n",
      "loss at 48, epoch 23: 43.653149\n",
      "loss at 64, epoch 23: 55.837769\n",
      "loss at 80, epoch 23: 27.256260\n",
      "loss at 96, epoch 23: 50.371334\n",
      "loss at 112, epoch 23: 25.150820\n",
      "loss at 127, epoch 23: 45.736069\n",
      "total loss after epoch 23: 22289.1074\n",
      "average loss after epoch 23: 43.5334\n",
      "\n",
      "Start epoch 24\n",
      "loss at 0, epoch 24: 83.306656\n",
      "loss at 16, epoch 24: 41.152813\n",
      "loss at 32, epoch 24: 63.045666\n",
      "loss at 48, epoch 24: 33.951321\n",
      "loss at 64, epoch 24: 38.088234\n",
      "loss at 80, epoch 24: 72.889496\n",
      "loss at 96, epoch 24: 27.954266\n",
      "loss at 112, epoch 24: 41.170486\n",
      "loss at 127, epoch 24: 89.905716\n",
      "total loss after epoch 24: 23348.9883\n",
      "average loss after epoch 24: 45.6035\n",
      "\n",
      "Start epoch 25\n",
      "loss at 0, epoch 25: 51.473946\n",
      "loss at 16, epoch 25: 30.933369\n",
      "loss at 32, epoch 25: 37.113884\n",
      "loss at 48, epoch 25: 31.203402\n",
      "loss at 64, epoch 25: 68.327324\n",
      "loss at 80, epoch 25: 44.207088\n",
      "loss at 96, epoch 25: 72.388992\n",
      "loss at 112, epoch 25: 39.441628\n",
      "loss at 127, epoch 25: 81.003471\n",
      "total loss after epoch 25: 22532.2910\n",
      "average loss after epoch 25: 44.0084\n",
      "\n",
      "Start epoch 26\n",
      "loss at 0, epoch 26: 33.889164\n",
      "loss at 16, epoch 26: 31.040915\n",
      "loss at 32, epoch 26: 30.471970\n",
      "loss at 48, epoch 26: 34.253834\n",
      "loss at 64, epoch 26: 81.310997\n",
      "loss at 80, epoch 26: 34.959641\n",
      "loss at 96, epoch 26: 32.677616\n",
      "loss at 112, epoch 26: 35.195541\n",
      "loss at 127, epoch 26: 31.829462\n",
      "total loss after epoch 26: 21216.6660\n",
      "average loss after epoch 26: 41.4388\n",
      "\n",
      "Start epoch 27\n",
      "loss at 0, epoch 27: 28.398623\n",
      "loss at 16, epoch 27: 37.325470\n",
      "loss at 32, epoch 27: 41.874531\n",
      "loss at 48, epoch 27: 45.585972\n",
      "loss at 64, epoch 27: 59.554684\n",
      "loss at 80, epoch 27: 46.244049\n",
      "loss at 96, epoch 27: 100.552750\n",
      "loss at 112, epoch 27: 29.012796\n",
      "loss at 127, epoch 27: 42.916042\n",
      "total loss after epoch 27: 22912.3496\n",
      "average loss after epoch 27: 44.7507\n",
      "\n",
      "Start epoch 28\n",
      "loss at 0, epoch 28: 23.044960\n",
      "loss at 16, epoch 28: 38.289223\n",
      "loss at 32, epoch 28: 39.529209\n",
      "loss at 48, epoch 28: 38.047939\n",
      "loss at 64, epoch 28: 30.605122\n",
      "loss at 80, epoch 28: 23.878803\n",
      "loss at 96, epoch 28: 30.747398\n",
      "loss at 112, epoch 28: 38.177383\n",
      "loss at 127, epoch 28: 46.045235\n",
      "total loss after epoch 28: 22946.4434\n",
      "average loss after epoch 28: 44.8173\n",
      "\n",
      "Start epoch 29\n",
      "loss at 0, epoch 29: 35.368027\n",
      "loss at 16, epoch 29: 28.416889\n",
      "loss at 32, epoch 29: 39.963013\n",
      "loss at 48, epoch 29: 69.432007\n",
      "loss at 64, epoch 29: 27.887989\n",
      "loss at 80, epoch 29: 31.673929\n",
      "loss at 96, epoch 29: 30.300514\n",
      "loss at 112, epoch 29: 24.877237\n",
      "loss at 127, epoch 29: 35.585804\n",
      "total loss after epoch 29: 20688.7930\n",
      "average loss after epoch 29: 40.4078\n",
      "\n",
      "Start epoch 30\n",
      "loss at 0, epoch 30: 35.622017\n",
      "loss at 16, epoch 30: 25.324417\n",
      "loss at 32, epoch 30: 40.808708\n",
      "loss at 48, epoch 30: 31.294361\n",
      "loss at 64, epoch 30: 30.107513\n",
      "loss at 80, epoch 30: 32.322063\n",
      "loss at 96, epoch 30: 28.867676\n",
      "loss at 112, epoch 30: 43.950432\n",
      "loss at 127, epoch 30: 202.531891\n",
      "total loss after epoch 30: 21412.0273\n",
      "average loss after epoch 30: 41.8204\n",
      "\n",
      "Start epoch 31\n",
      "loss at 0, epoch 31: 48.900059\n",
      "loss at 16, epoch 31: 54.937984\n",
      "loss at 32, epoch 31: 29.466860\n",
      "loss at 48, epoch 31: 85.990486\n",
      "loss at 64, epoch 31: 49.186146\n",
      "loss at 80, epoch 31: 40.321983\n",
      "loss at 96, epoch 31: 42.959087\n",
      "loss at 112, epoch 31: 28.298929\n",
      "loss at 127, epoch 31: 37.715710\n",
      "total loss after epoch 31: 19884.4219\n",
      "average loss after epoch 31: 38.8368\n",
      "\n",
      "Start epoch 32\n",
      "loss at 0, epoch 32: 29.669697\n",
      "loss at 16, epoch 32: 56.588482\n",
      "loss at 32, epoch 32: 59.284451\n",
      "loss at 48, epoch 32: 25.570419\n",
      "loss at 64, epoch 32: 35.366390\n",
      "loss at 80, epoch 32: 28.786774\n",
      "loss at 96, epoch 32: 27.826698\n",
      "loss at 112, epoch 32: 29.320555\n",
      "loss at 127, epoch 32: 33.857086\n",
      "total loss after epoch 32: 20373.0449\n",
      "average loss after epoch 32: 39.7911\n",
      "\n",
      "Start epoch 33\n",
      "loss at 0, epoch 33: 52.112007\n",
      "loss at 16, epoch 33: 58.367996\n",
      "loss at 32, epoch 33: 24.389740\n",
      "loss at 48, epoch 33: 36.147461\n",
      "loss at 64, epoch 33: 58.486416\n",
      "loss at 80, epoch 33: 22.425127\n",
      "loss at 96, epoch 33: 22.699780\n",
      "loss at 112, epoch 33: 17.852791\n",
      "loss at 127, epoch 33: 40.684292\n",
      "total loss after epoch 33: 19065.9199\n",
      "average loss after epoch 33: 37.2381\n",
      "\n",
      "Start epoch 34\n",
      "loss at 0, epoch 34: 42.785587\n",
      "loss at 16, epoch 34: 23.028311\n",
      "loss at 32, epoch 34: 64.361870\n",
      "loss at 48, epoch 34: 41.598183\n",
      "loss at 64, epoch 34: 47.191055\n",
      "loss at 80, epoch 34: 66.023933\n",
      "loss at 96, epoch 34: 20.396124\n",
      "loss at 112, epoch 34: 32.147369\n",
      "loss at 127, epoch 34: 57.878136\n",
      "total loss after epoch 34: 18930.1875\n",
      "average loss after epoch 34: 36.9730\n",
      "\n",
      "Start epoch 35\n",
      "loss at 0, epoch 35: 25.210484\n",
      "loss at 16, epoch 35: 39.213070\n",
      "loss at 32, epoch 35: 36.363728\n",
      "loss at 48, epoch 35: 41.063858\n",
      "loss at 64, epoch 35: 19.459799\n",
      "loss at 80, epoch 35: 22.136297\n",
      "loss at 96, epoch 35: 22.270071\n",
      "loss at 112, epoch 35: 31.885386\n",
      "loss at 127, epoch 35: 63.008171\n",
      "total loss after epoch 35: 19493.4414\n",
      "average loss after epoch 35: 38.0731\n",
      "\n",
      "Start epoch 36\n",
      "loss at 0, epoch 36: 29.802204\n",
      "loss at 16, epoch 36: 24.722261\n",
      "loss at 32, epoch 36: 43.735123\n",
      "loss at 48, epoch 36: 37.389194\n",
      "loss at 64, epoch 36: 39.380394\n",
      "loss at 80, epoch 36: 33.927238\n",
      "loss at 96, epoch 36: 57.489513\n",
      "loss at 112, epoch 36: 33.588665\n",
      "loss at 127, epoch 36: 32.292870\n",
      "total loss after epoch 36: 18328.7441\n",
      "average loss after epoch 36: 35.7983\n",
      "\n",
      "Start epoch 37\n",
      "loss at 0, epoch 37: 75.680595\n",
      "loss at 16, epoch 37: 24.214928\n",
      "loss at 32, epoch 37: 47.825844\n",
      "loss at 48, epoch 37: 50.846104\n",
      "loss at 64, epoch 37: 37.758629\n",
      "loss at 80, epoch 37: 31.973747\n",
      "loss at 96, epoch 37: 25.504721\n",
      "loss at 112, epoch 37: 40.159698\n",
      "loss at 127, epoch 37: 39.613964\n",
      "total loss after epoch 37: 20424.2617\n",
      "average loss after epoch 37: 39.8911\n",
      "\n",
      "Start epoch 38\n",
      "loss at 0, epoch 38: 33.857052\n",
      "loss at 16, epoch 38: 39.850407\n",
      "loss at 32, epoch 38: 17.397243\n",
      "loss at 48, epoch 38: 38.760960\n",
      "loss at 64, epoch 38: 36.444439\n",
      "loss at 80, epoch 38: 29.941603\n",
      "loss at 96, epoch 38: 22.813030\n",
      "loss at 112, epoch 38: 26.633940\n",
      "loss at 127, epoch 38: 42.911087\n",
      "total loss after epoch 38: 18916.9336\n",
      "average loss after epoch 38: 36.9471\n",
      "\n",
      "Start epoch 39\n",
      "loss at 0, epoch 39: 20.346090\n",
      "loss at 16, epoch 39: 25.972857\n",
      "loss at 32, epoch 39: 25.131260\n",
      "loss at 48, epoch 39: 47.921135\n",
      "loss at 64, epoch 39: 32.740299\n",
      "loss at 80, epoch 39: 24.039631\n",
      "loss at 96, epoch 39: 66.066208\n",
      "loss at 112, epoch 39: 37.278362\n",
      "loss at 127, epoch 39: 33.862690\n",
      "total loss after epoch 39: 19715.6758\n",
      "average loss after epoch 39: 38.5072\n"
     ]
    }
   ],
   "source": [
    "save_path = f'{parent_path}/npy_files'\n",
    "epochs = 40\n",
    "num = 512\n",
    "batch_size = 4\n",
    "for epoch in range(epochs):\n",
    "    print(\"\\nStart epoch\", epoch)\n",
    "    total_loss = 0\n",
    "\n",
    "    np.random.seed(epoch)\n",
    "    arr = np.arange(4000)\n",
    "    np.random.shuffle(arr)\n",
    "    for i in range(num//batch_size):  # 512/4 = 128, 512/8 = 64\n",
    "      with tf.GradientTape() as tape:\n",
    "        batch_loss = 0\n",
    "        batch_train = []\n",
    "        batch_label = []\n",
    "        batch_mask = []\n",
    "        for j in range(batch_size):\n",
    "          idx = batch_size*i+j\n",
    "          img_idx = train_array[arr[idx]]\n",
    "          img_np = np.load(f'{save_path}/img_npys/img_{img_idx+1}.npy')  # img start from 1 here\n",
    "          img_tensor = tf.convert_to_tensor(img_np)\n",
    "          # print(img_tensor.shape)\n",
    "          h_blk, w_blk = img_tensor.shape[1]//64, img_tensor.shape[2]//64\n",
    "          # print(h_blk, w_blk)\n",
    "          patches = tf.convert_to_tensor([[img_tensor[0,i*64:(i+1)*64,j*64:(j+1)*64,:] for j in range(w_blk)] \n",
    "                                          for i in range(h_blk)])\n",
    "          batch_train.append(patches)\n",
    "\n",
    "          lb = label_list[img_idx]\n",
    "          label_map = np.zeros((16, 16))\n",
    "          for k in range(len(lb)):\n",
    "            label_map[lb[k][0], lb[k][1]] = 1\n",
    "          label_map = label_map.reshape((256,))\n",
    "\n",
    "          mask = np.zeros((16, 16))\n",
    "          mask[0:h_blk, 0:w_blk] = 1\n",
    "          mask = mask.reshape((256,))\n",
    "\n",
    "          batch_label.append(label_map)\n",
    "          batch_mask.append(mask)\n",
    "          \n",
    "        batch_label = tf.convert_to_tensor(batch_label, dtype=tf.float32)\n",
    "        batch_mask = tf.convert_to_tensor(batch_mask, dtype=tf.float32)\n",
    "\n",
    "        out = model_combined(batch_train, training=True)\n",
    "\n",
    "        # out.shape: (batch_size, 256, 1)\n",
    "        # label shape: (batch_size, 256, 1)\n",
    "\n",
    "        # weighted binary cross entropy loss, weight is set to 5.0\n",
    "        loss_matrix = tf.nn.weighted_cross_entropy_with_logits(batch_label, out[...,0], pos_weight=tf.constant(5.0))\n",
    "        loss = K.sum(loss_matrix * batch_mask)/batch_size\n",
    "\n",
    "        total_loss += loss * batch_size\n",
    "\n",
    "        grads = tape.gradient(loss, model_combined.trainable_weights)\n",
    "        optimizer.apply_gradients(zip(grads, model_combined.trainable_weights))\n",
    "      # Logging.\n",
    "      if i % 16 == 0 or i == num//batch_size-1:\n",
    "      # Print metrics\n",
    "        print(\"loss at %d, epoch %d: %f\" % (i, epoch, loss))\n",
    "\n",
    "    print(\"total loss after epoch %d: %.4f\" % (epoch, total_loss))\n",
    "    print(\"average loss after epoch %d: %.4f\" % (epoch, total_loss/num))\n",
    "    # save model weights periodically after certain epochs\n",
    "    if epoch % 8 == 7:\n",
    "      model_combined.save_weights(f\"{save_path}/model_t1_simplified_blk_weights_middle_{epoch}\")\n",
    "\n",
    "# save trained weights at the end\n",
    "model_combined.save_weights(f\"{save_path}/model_t1_simplified_blk_weights\")\n",
    "# using transformer, after 40 epochs, avg loss dropped from >70 to around 43\n",
    "# using inception blocks, after 40 epochs, avg loss dropped from >70 to around 38"
   ]
  },
  {
   "cell_type": "code",
   "execution_count": null,
   "metadata": {
    "id": "yT2GgSDlLy72"
   },
   "outputs": [],
   "source": [
    "# model_combined.save_weights(f\"{save_path}/model_t1_simplified_weights_small_trial\")"
   ]
  },
  {
   "cell_type": "code",
   "execution_count": null,
   "metadata": {
    "colab": {
     "base_uri": "https://localhost:8080/"
    },
    "id": "oiOKh6RixipY",
    "outputId": "bbd22ff3-ca37-4f9c-fabe-5bdbe1e19ae9"
   },
   "outputs": [
    {
     "data": {
      "text/plain": [
       "(0, 399, 496, 499, 1400, 1401)"
      ]
     },
     "execution_count": 40,
     "metadata": {},
     "output_type": "execute_result"
    }
   ],
   "source": [
    "train_array[0], train_array[399], val_array[96], val_array[99], val_array[100], val_array[101]"
   ]
  },
  {
   "cell_type": "markdown",
   "metadata": {
    "id": "JHjgEsz30kzM"
   },
   "source": [
    "Examine the model outputs on sample images"
   ]
  },
  {
   "cell_type": "code",
   "execution_count": null,
   "metadata": {
    "colab": {
     "base_uri": "https://localhost:8080/"
    },
    "id": "cUNH4GoIx5TI",
    "outputId": "bacbe62e-8b1c-4787-b9cd-5fd71ab24ce6"
   },
   "outputs": [
    {
     "name": "stdout",
     "output_type": "stream",
     "text": [
      "9 6\n",
      "(9, 6, 64, 64, 1)\n"
     ]
    }
   ],
   "source": [
    "img_np = np.load(f'{parent_path}/npy_files/img_npys/img_{2}.npy')  # first start from 1\n",
    "img_tensor = tf.convert_to_tensor(img_np)\n",
    "# print(img_exp1.shape)\n",
    "h_blk, w_blk = img_tensor.shape[1]//64, img_tensor.shape[2]//64\n",
    "print(h_blk, w_blk)\n",
    "patches = tf.convert_to_tensor([[img_tensor[0,i*64:(i+1)*64,j*64:(j+1)*64,:] for j in range(w_blk)] \n",
    "                                for i in range(h_blk)])\n",
    "print(patches.shape)"
   ]
  },
  {
   "cell_type": "code",
   "execution_count": null,
   "metadata": {
    "colab": {
     "base_uri": "https://localhost:8080/"
    },
    "id": "jvbP_Yshz2yd",
    "outputId": "9024a0cf-ec8f-4749-8e7a-94e72091f2dc"
   },
   "outputs": [
    {
     "data": {
      "text/plain": [
       "[[6, 4], [6, 1], [7, 2], [7, 3], [7, 4]]"
      ]
     },
     "execution_count": 42,
     "metadata": {},
     "output_type": "execute_result"
    }
   ],
   "source": [
    "label_list[train_array[1]]"
   ]
  },
  {
   "cell_type": "code",
   "execution_count": null,
   "metadata": {
    "id": "rophtisa0M0P"
   },
   "outputs": [],
   "source": [
    "img = Image.open('./gdrive/MyDrive/Colab_Notebooks/computer_vision_project/img_data/ImagesPart1/tr_img_00002.jpg')\n",
    "img = tf.image.rgb_to_grayscale(np.asarray(img))\n",
    "h, w = img.shape[0], img.shape[1]\n",
    "if max(h, w) <=1024:\n",
    "  new_w = max(int((w//64)*64), 64)\n",
    "  new_h = max(int((h//64)*64), 64)\n",
    "elif h <= w:\n",
    "  new_w = 1024\n",
    "  new_h = max(int(((new_w*h/w)//64)*64), 64)\n",
    "else:\n",
    "  new_h = 1024\n",
    "  new_w = max(int(((new_h*w/h)//64)*64), 64)\n",
    "img = tf.image.resize(tf.reshape(img, [1,h,w,1]), (new_h, new_w),\n",
    "                      method = tf.image.ResizeMethod.BILINEAR)"
   ]
  },
  {
   "cell_type": "code",
   "execution_count": null,
   "metadata": {
    "colab": {
     "base_uri": "https://localhost:8080/"
    },
    "id": "aPGL85F81s0V",
    "outputId": "53281393-5c25-4fb2-d99c-26212f771686"
   },
   "outputs": [
    {
     "name": "stdout",
     "output_type": "stream",
     "text": [
      "576 384\n",
      "9 6\n"
     ]
    }
   ],
   "source": [
    "print(new_h, new_w)\n",
    "h_blocks, w_blocks = int(new_h/64), int(new_w/64)\n",
    "print(h_blocks, w_blocks)"
   ]
  },
  {
   "cell_type": "code",
   "execution_count": null,
   "metadata": {
    "colab": {
     "base_uri": "https://localhost:8080/",
     "height": 340
    },
    "id": "B4pt8hNW1w9h",
    "outputId": "10bc4378-cdc4-4736-dd04-7736e11ddbfc"
   },
   "outputs": [
    {
     "name": "stdout",
     "output_type": "stream",
     "text": [
      "(9, 6, 64, 64, 1)\n"
     ]
    },
    {
     "data": {
      "image/png": "[encoded data removed]",
      "text/plain": [
       "<Figure size 720x360 with 54 Axes>"
      ]
     },
     "metadata": {
      "needs_background": "light"
     },
     "output_type": "display_data"
    }
   ],
   "source": [
    "img_patches = tf.convert_to_tensor([[img[0,i*64:(i+1)*64,j*64:(j+1)*64,:] for j in range(w_blocks)] for i in range(h_blocks)])\n",
    "print(img_patches.shape)\n",
    "plt.figure(figsize = (10,5))\n",
    "for i in range(h_blocks*w_blocks):\n",
    "  plt.subplot(h_blocks, w_blocks, i+1)\n",
    "  plt.imshow(img_patches[i//w_blocks][i%w_blocks][...,0], cmap='gray')"
   ]
  },
  {
   "cell_type": "code",
   "execution_count": null,
   "metadata": {
    "colab": {
     "base_uri": "https://localhost:8080/"
    },
    "id": "k8Pf2Dss2M4F",
    "outputId": "59a319a0-bdf4-4ab5-f04b-5b382d5adc1c"
   },
   "outputs": [
    {
     "data": {
      "text/plain": [
       "TensorShape([1, 256, 1])"
      ]
     },
     "execution_count": 46,
     "metadata": {},
     "output_type": "execute_result"
    }
   ],
   "source": [
    "output = model_combined([img_patches/255], training=False)  # the demo is in range [0,255], needs to divide by 255 before \n",
    "                                                            # feed into the model\n",
    "output.shape"
   ]
  },
  {
   "cell_type": "code",
   "execution_count": null,
   "metadata": {
    "colab": {
     "base_uri": "https://localhost:8080/"
    },
    "id": "PxIarwxp2haF",
    "outputId": "83a7898e-1b82-457d-8fff-b75ac080fa5e"
   },
   "outputs": [
    {
     "data": {
      "text/plain": [
       "<tf.Tensor: shape=(16, 16), dtype=float32, numpy=\n",
       "array([[-7.9716506 , -8.097841  , -7.9493494 , -8.126218  , -8.468433  ,\n",
       "        -8.060169  , -3.595179  , -4.1130075 , -3.2274282 , -3.9878638 ,\n",
       "        -4.0573196 , -4.116075  , -4.055831  , -4.276828  , -4.268801  ,\n",
       "        -4.6352787 ],\n",
       "       [-6.639061  , -5.024096  , -5.111775  , -4.331134  , -4.029096  ,\n",
       "        -5.112097  , -4.2611494 , -4.2683496 , -3.732704  , -3.9481163 ,\n",
       "        -4.047379  , -3.9552073 , -3.8338842 , -4.191247  , -4.202552  ,\n",
       "        -4.3314333 ],\n",
       "       [-6.2869496 , -2.500317  ,  0.15904698,  0.23653296,  0.23600617,\n",
       "        -5.219083  , -2.4979153 , -4.371456  , -3.4093273 , -3.7824748 ,\n",
       "        -4.0495405 , -3.9801967 , -3.8525476 , -4.2691164 , -4.2843904 ,\n",
       "        -4.2958355 ],\n",
       "       [-7.546871  , -6.6818695 , -4.102707  , -1.4749558 , -5.3816032 ,\n",
       "        -6.752533  , -1.941907  , -3.423632  , -3.0195942 , -3.2400396 ,\n",
       "        -3.85236   , -3.8373094 , -3.7808642 , -4.223824  , -4.352073  ,\n",
       "        -4.3283286 ],\n",
       "       [-7.638368  , -6.4733114 , -3.2084692 , -1.6682236 , -5.108098  ,\n",
       "        -5.8633947 , -1.1548884 , -2.8395848 , -3.022563  , -3.1586645 ,\n",
       "        -3.83924   , -3.8136454 , -3.7808642 , -4.223824  , -4.352073  ,\n",
       "        -4.3283286 ],\n",
       "       [-7.12451   , -6.2702794 , -0.6427659 ,  0.02402592, -5.8574386 ,\n",
       "        -6.2637024 , -1.4906293 , -4.3530774 , -3.575147  , -3.4240685 ,\n",
       "        -3.8616564 , -3.8050787 , -3.7808642 , -4.223824  , -4.352073  ,\n",
       "        -4.3283286 ],\n",
       "       [-4.1741323 ,  0.4270363 ,  2.2879264 ,  2.2004616 ,  0.85328275,\n",
       "        -1.6577922 , -2.5085995 , -4.3836675 , -3.4589734 , -3.366782  ,\n",
       "        -3.816501  , -3.7814147 , -3.7808642 , -4.223824  , -4.352073  ,\n",
       "        -4.3283286 ],\n",
       "       [-4.3973193 , -0.64467394,  3.95097   ,  4.1244435 ,  2.8525848 ,\n",
       "        -5.309778  , -2.2520032 , -3.4463313 , -3.3886685 , -3.5322    ,\n",
       "        -3.8068304 , -3.769623  , -3.7808642 , -4.223824  , -4.352073  ,\n",
       "        -4.3283286 ],\n",
       "       [-5.979893  , -5.9328732 , -6.991521  , -7.726069  , -7.6392484 ,\n",
       "        -7.1158714 , -2.9678013 , -3.2598548 , -3.8688982 , -3.547534  ,\n",
       "        -3.797587  , -3.7486591 , -3.7808642 , -4.223824  , -4.352073  ,\n",
       "        -4.3283286 ],\n",
       "       [-4.556858  , -5.4483953 , -6.1451545 , -6.979653  , -6.7155886 ,\n",
       "        -6.017346  , -5.2039814 , -4.9346786 , -4.509722  , -3.735244  ,\n",
       "        -3.7027338 , -3.7398927 , -3.7808642 , -4.223824  , -4.352073  ,\n",
       "        -4.3283286 ],\n",
       "       [-5.009181  , -5.0928354 , -5.33318   , -5.849332  , -5.7888703 ,\n",
       "        -5.4236503 , -4.974514  , -4.6916323 , -4.2751894 , -3.7174153 ,\n",
       "        -3.7396169 , -3.7524056 , -3.7808642 , -4.223824  , -4.352073  ,\n",
       "        -4.3283286 ],\n",
       "       [-5.675754  , -5.291175  , -5.345462  , -5.4472127 , -5.3394117 ,\n",
       "        -4.8871408 , -4.4999003 , -4.229411  , -4.084267  , -3.7600386 ,\n",
       "        -3.7551641 , -3.7767365 , -3.7808642 , -4.223824  , -4.352073  ,\n",
       "        -4.3283286 ],\n",
       "       [-5.2600527 , -4.900141  , -4.7934136 , -4.755175  , -4.699134  ,\n",
       "        -4.5348654 , -4.2394276 , -4.078586  , -3.9327362 , -3.798413  ,\n",
       "        -3.7625923 , -3.7825286 , -3.7808642 , -4.223824  , -4.352073  ,\n",
       "        -4.3283286 ],\n",
       "       [-5.7842536 , -5.2681513 , -4.9781876 , -4.76043   , -4.731616  ,\n",
       "        -4.680017  , -4.633874  , -4.68058   , -4.6514955 , -4.6422586 ,\n",
       "        -4.669232  , -4.682966  , -4.688572  , -4.986725  , -4.979915  ,\n",
       "        -4.854405  ],\n",
       "       [-6.1594167 , -5.738089  , -5.4483066 , -5.261236  , -5.273635  ,\n",
       "        -5.30837   , -5.309937  , -5.3239293 , -5.322565  , -5.320001  ,\n",
       "        -5.30525   , -5.294595  , -5.294071  , -5.479255  , -5.417813  ,\n",
       "        -5.3603425 ],\n",
       "       [-6.0856624 , -5.744604  , -5.4864254 , -5.302656  , -5.302656  ,\n",
       "        -5.302656  , -5.302656  , -5.302656  , -5.302656  , -5.302656  ,\n",
       "        -5.302656  , -5.302656  , -5.302656  , -5.481418  , -5.500231  ,\n",
       "        -5.464555  ]], dtype=float32)>"
      ]
     },
     "execution_count": 47,
     "metadata": {},
     "output_type": "execute_result"
    }
   ],
   "source": [
    "output = output[0,:,0].numpy().reshape(16, 16)\n",
    "output = tf.convert_to_tensor(output, dtype=tf.float32)\n",
    "output"
   ]
  },
  {
   "cell_type": "code",
   "execution_count": null,
   "metadata": {
    "colab": {
     "base_uri": "https://localhost:8080/"
    },
    "id": "8BYNXI1g2p-h",
    "outputId": "64d3502b-e6e8-4b56-ec1f-c3bc19d7357c"
   },
   "outputs": [
    {
     "data": {
      "text/plain": [
       "<tf.Tensor: shape=(2, 16), dtype=float32, numpy=\n",
       "array([[-4.1741323 ,  0.4270363 ,  2.2879264 ,  2.2004616 ,  0.85328275,\n",
       "        -1.6577922 , -2.5085995 , -4.3836675 , -3.4589734 , -3.366782  ,\n",
       "        -3.816501  , -3.7814147 , -3.7808642 , -4.223824  , -4.352073  ,\n",
       "        -4.3283286 ],\n",
       "       [-4.3973193 , -0.64467394,  3.95097   ,  4.1244435 ,  2.8525848 ,\n",
       "        -5.309778  , -2.2520032 , -3.4463313 , -3.3886685 , -3.5322    ,\n",
       "        -3.8068304 , -3.769623  , -3.7808642 , -4.223824  , -4.352073  ,\n",
       "        -4.3283286 ]], dtype=float32)>"
      ]
     },
     "execution_count": 48,
     "metadata": {},
     "output_type": "execute_result"
    }
   ],
   "source": [
    "# we can see that generally the values corresponding to the actual labels have positive value\n",
    "# [[6, 1], [6, 4], [7, 2], [7, 3], [7, 4]]\n",
    "y = output[6:8,:]\n",
    "y"
   ]
  },
  {
   "cell_type": "code",
   "execution_count": null,
   "metadata": {
    "colab": {
     "base_uri": "https://localhost:8080/"
    },
    "id": "7IrhXc5KoGzc",
    "outputId": "5c73b0e0-b832-4fbd-f337-8457f21fc6d1"
   },
   "outputs": [
    {
     "data": {
      "text/plain": [
       "<tf.Tensor: shape=(2, 16), dtype=bool, numpy=\n",
       "array([[False,  True,  True,  True,  True, False, False, False, False,\n",
       "        False, False, False, False, False, False, False],\n",
       "       [False, False,  True,  True,  True, False, False, False, False,\n",
       "        False, False, False, False, False, False, False]])>"
      ]
     },
     "execution_count": 49,
     "metadata": {},
     "output_type": "execute_result"
    }
   ],
   "source": [
    "# [[6, 1], [6, 4], [7, 2], [7, 3], [7, 4]]\n",
    "y > 0"
   ]
  },
  {
   "cell_type": "code",
   "execution_count": null,
   "metadata": {
    "colab": {
     "base_uri": "https://localhost:8080/"
    },
    "id": "Lpdd7Hkf1q_y",
    "outputId": "9224ab49-0b0a-43dc-958b-20f1c6b73b11",
    "scrolled": true
   },
   "outputs": [
    {
     "name": "stdout",
     "output_type": "stream",
     "text": [
      "0\n",
      "1\n",
      "2\n",
      "3\n",
      "4\n",
      "5\n",
      "6\n",
      "7\n",
      "8\n",
      "9\n",
      "10\n",
      "11\n",
      "12\n",
      "13\n",
      "14\n",
      "15\n",
      "16\n",
      "17\n",
      "18\n",
      "19\n",
      "20\n",
      "21\n",
      "22\n",
      "23\n",
      "24\n",
      "25\n",
      "26\n",
      "27\n",
      "28\n",
      "29\n",
      "30\n",
      "31\n",
      "32\n",
      "33\n",
      "34\n",
      "35\n",
      "36\n",
      "37\n",
      "38\n",
      "39\n"
     ]
    }
   ],
   "source": [
    "# batched prediction of 1,000 validation images\n",
    "val_outputs = []\n",
    "val_batch = 25\n",
    "for i in range(len(val_array)//val_batch): # 1000//25 = 40 \n",
    "  print(i)\n",
    "  batch_val = []\n",
    "  for j in range(val_batch):\n",
    "    idx = val_batch*i+j\n",
    "    img_idx = val_array[idx]\n",
    "    img_np = np.load(f'{save_path}/img_npys/img_{img_idx+1}.npy')  # img start from 1 here\n",
    "    img_tensor = tf.convert_to_tensor(img_np)\n",
    "    h_blk, w_blk = img_tensor.shape[1]//64, img_tensor.shape[2]//64\n",
    "    patches = tf.convert_to_tensor([[img_tensor[0,i*64:(i+1)*64,j*64:(j+1)*64,:] for j in range(w_blk)] \n",
    "                                    for i in range(h_blk)])\n",
    "    batch_val.append(patches)\n",
    "\n",
    "  outputs = model_combined(batch_val, training=False)\n",
    "  assert(outputs.shape == (val_batch, 256, 1))\n",
    "\n",
    "  for j in range(val_batch):\n",
    "    output_slice = outputs[j,:,0].numpy().reshape(16, 16)\n",
    "    val_outputs.append(output_slice)"
   ]
  },
  {
   "cell_type": "code",
   "execution_count": null,
   "metadata": {
    "id": "55CZfcyC54xP"
   },
   "outputs": [],
   "source": [
    "# import pickle\n",
    "# with open(f\"{parent_path}/npy_files/val_outputs_v2_blk\", \"wb\") as fp:   # Pickling\n",
    "#   pickle.dump(val_outputs, fp)"
   ]
  },
  {
   "cell_type": "code",
   "execution_count": null,
   "metadata": {
    "colab": {
     "base_uri": "https://localhost:8080/"
    },
    "id": "kGhB6x_t8yS_",
    "outputId": "eecd4410-fe63-4b12-96c7-71d2b9c7a093"
   },
   "outputs": [
    {
     "data": {
      "text/plain": [
       "(1000, (16, 16))"
      ]
     },
     "execution_count": 81,
     "metadata": {},
     "output_type": "execute_result"
    }
   ],
   "source": [
    "with open(f\"{parent_path}/npy_files/val_outputs_v2_blk\", \"rb\") as fp:   # Unpickling\n",
    "  val_outputs = pickle.load(fp)\n",
    "len(val_outputs), val_outputs[0].shape"
   ]
  },
  {
   "cell_type": "markdown",
   "metadata": {
    "id": "_msoxJoB1DZ3"
   },
   "source": [
    "Compute F1-score on validation images. Note that we can change the threshold to determine if we are more strict or relaxed on having positive outputs. Due to the tensorflow loss function setup, the threshold here is the value before sigmoid activation (so a threshold of 0. actually means a probability of 0.5). Since we are evaluating on validation sets, we are free to change the threshold to find the best value as long as we keep it fixed during actual testing."
   ]
  },
  {
   "cell_type": "code",
   "execution_count": null,
   "metadata": {
    "colab": {
     "base_uri": "https://localhost:8080/"
    },
    "id": "u89gZP9o1GfF",
    "outputId": "2df79c67-5402-4d1d-9d81-61be31fbcae5"
   },
   "outputs": [
    {
     "name": "stdout",
     "output_type": "stream",
     "text": [
      "3509 3824 3154 6663\n",
      "0.4785217509886813 0.5266396518084947 0.5014289797084881\n"
     ]
    }
   ],
   "source": [
    "TP, FP, FN = [0, 0, 0]\n",
    "threshold = 1.\n",
    "for idx in range(len(val_array)):\n",
    "  val_map = val_outputs[idx]\n",
    "  val_idx = val_array[idx]\n",
    "  h_blk, w_blk = num_blocks[val_idx, 0], num_blocks[val_idx, 1]\n",
    "  lb = label_list[val_idx]\n",
    "  label_map = np.zeros((16, 16))\n",
    "  for k in range(len(lb)):\n",
    "    label_map[lb[k][0], lb[k][1]] = 1\n",
    "  for i in range(h_blk):\n",
    "    for j in range(w_blk):\n",
    "      if label_map[i][j] == 1 and val_map[i][j] > threshold:\n",
    "        TP += 1\n",
    "      elif label_map[i][j] == 1 and val_map[i][j] <= threshold:\n",
    "        FN += 1\n",
    "      elif label_map[i][j] == 0 and val_map[i][j] > threshold:\n",
    "        FP += 1\n",
    "\n",
    "print(TP, FP, FN, TP+FN)\n",
    "precision, recall = TP/(TP+FP), TP/(TP+FN)\n",
    "f1_score = 2*precision*recall/(precision+recall)\n",
    "print(precision, recall, f1_score)"
   ]
  },
  {
   "cell_type": "code",
   "execution_count": null,
   "metadata": {
    "id": "zUaSh0cY_kfG"
   },
   "outputs": [],
   "source": [
    "# transformer version\n",
    "# TP=3261, FP=4099, FN=3402, total_tags=6663; \n",
    "\n",
    "# threshold = 1. (before sigmoid):\n",
    "# precision=0.3923, recall=0.5669, f1_score=0.4637;\n",
    "\n",
    "# threshold = 1.39 (before sigmoid): [highest one here]\n",
    "# precision=0.4665, recall=0.4818, f1_score=0.4740;\n",
    "\n",
    "# threshold = 1.5 (before sigmoid):\n",
    "# precision=0.4889, recall=0.4570, f1_score=0.4724;\n",
    "\n",
    "# threshold = 1.75 (before sigmoid):\n",
    "# precision=0.5341, recall=0.4025, f1_score=0.4591;"
   ]
  },
  {
   "cell_type": "code",
   "execution_count": null,
   "metadata": {
    "id": "H3jCFIDdLb_x"
   },
   "outputs": [],
   "source": [
    "# inception block version\n",
    "# TP=3509, FP=3824, FN=3154, total_tags=6663; \n",
    "\n",
    "# threshold = 0.5 (before sigmoid):\n",
    "# precision=0.4054, recall=0.6252, f1_score=0.4919;\n",
    "\n",
    "# threshold = 1. (before sigmoid): [highest one here]\n",
    "# precision=0.4785, recall=0.5266, f1_score=0.5014;\n",
    "\n",
    "# threshold = 1.39 (before sigmoid):\n",
    "# precision=0.5372, recall=0.4430, f1_score=0.4856;\n",
    "\n",
    "# threshold = 1.5 (before sigmoid):\n",
    "# precision=0.5514, recall=0.4162, f1_score=0.4743;"
   ]
  },
  {
   "cell_type": "code",
   "execution_count": null,
   "metadata": {
    "colab": {
     "base_uri": "https://localhost:8080/"
    },
    "id": "Zo2_8EbaAGbz",
    "outputId": "af2d1f0d-8ea7-463e-f745-3475c055af58"
   },
   "outputs": [
    {
     "data": {
      "text/plain": [
       "<tf.Tensor: shape=(5,), dtype=float32, numpy=\n",
       "array([0.62245935, 0.73105854, 0.80059224, 0.81757444, 0.85195285],\n",
       "      dtype=float32)>"
      ]
     },
     "execution_count": 83,
     "metadata": {},
     "output_type": "execute_result"
    }
   ],
   "source": [
    "# the mapping from threshold before sigmoid to the corresponding probability after sigmoid\n",
    "tf.sigmoid([0.5, 1., 1.39, 1.5, 1.75])"
   ]
  }
 ],
 "metadata": {
  "accelerator": "GPU",
  "colab": {
   "collapsed_sections": [],
   "name": "MLT_text_detection_simplified.ipynb",
   "provenance": []
  },
  "kernelspec": {
   "display_name": "Python 3",
   "language": "python",
   "name": "python3"
  },
  "language_info": {
   "codemirror_mode": {
    "name": "ipython",
    "version": 3
   },
   "file_extension": ".py",
   "mimetype": "text/x-python",
   "name": "python",
   "nbconvert_exporter": "python",
   "pygments_lexer": "ipython3",
   "version": "3.8.3"
  }
 },
 "nbformat": 4,
 "nbformat_minor": 1
}
