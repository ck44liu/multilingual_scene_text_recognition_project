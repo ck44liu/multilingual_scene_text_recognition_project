{
  "nbformat": 4,
  "nbformat_minor": 0,
  "metadata": {
    "colab": {
      "name": "CVSI_script_identification.ipynb",
      "provenance": [],
      "collapsed_sections": []
    },
    "kernelspec": {
      "name": "python3",
      "display_name": "Python 3"
    },
    "language_info": {
      "name": "python"
    },
    "accelerator": "GPU"
  },
  "cells": [
    {
      "cell_type": "markdown",
      "metadata": {
        "id": "jG0mWKYUY12V"
      },
      "source": [
        "This is the script identification task implementation on CVSI-2015 dataset. The first method in our report only uses the mobilenet model by resizing each image into (64, 96, 1). By modifying the constructed transformer encoder class, we can choose to add positional encoding or not (which is the second method in our report), or directly perform average pooling after mobilenet output (which is the third method in our report). The image data can be downloaded from http://www.ict.griffith.edu.au/cvsi2015/Dataset.php after registration on the website. The image data and labels are transformed into lists of numpy arrays and lists of integers respectively and stored as pickles in our preprocessing."
      ]
    },
    {
      "cell_type": "code",
      "metadata": {
        "id": "aJVAIicN-i3j",
        "colab": {
          "base_uri": "https://localhost:8080/"
        },
        "outputId": "92c02ae9-842c-4688-96ab-aaaea2969143"
      },
      "source": [
        "# check gpu status\n",
        "!nvidia-smi"
      ],
      "execution_count": null,
      "outputs": [
        {
          "output_type": "stream",
          "name": "stdout",
          "text": [
            "Mon Nov 29 06:05:38 2021       \n",
            "+-----------------------------------------------------------------------------+\n",
            "| NVIDIA-SMI 495.44       Driver Version: 460.32.03    CUDA Version: 11.2     |\n",
            "|-------------------------------+----------------------+----------------------+\n",
            "| GPU  Name        Persistence-M| Bus-Id        Disp.A | Volatile Uncorr. ECC |\n",
            "| Fan  Temp  Perf  Pwr:Usage/Cap|         Memory-Usage | GPU-Util  Compute M. |\n",
            "|                               |                      |               MIG M. |\n",
            "|===============================+======================+======================|\n",
            "|   0  Tesla K80           Off  | 00000000:00:04.0 Off |                    0 |\n",
            "| N/A   72C    P8    36W / 149W |      0MiB / 11441MiB |      0%      Default |\n",
            "|                               |                      |                  N/A |\n",
            "+-------------------------------+----------------------+----------------------+\n",
            "                                                                               \n",
            "+-----------------------------------------------------------------------------+\n",
            "| Processes:                                                                  |\n",
            "|  GPU   GI   CI        PID   Type   Process name                  GPU Memory |\n",
            "|        ID   ID                                                   Usage      |\n",
            "|=============================================================================|\n",
            "|  No running processes found                                                 |\n",
            "+-----------------------------------------------------------------------------+\n"
          ]
        }
      ]
    },
    {
      "cell_type": "code",
      "metadata": {
        "colab": {
          "base_uri": "https://localhost:8080/"
        },
        "id": "n6DDSTZm-mzf",
        "outputId": "1df75e07-17c1-46d8-80ca-f30f57ceb92c"
      },
      "source": [
        "# mount Google drive\n",
        "from google.colab import drive\n",
        "drive.mount('/content/gdrive')"
      ],
      "execution_count": null,
      "outputs": [
        {
          "output_type": "stream",
          "name": "stdout",
          "text": [
            "Drive already mounted at /content/gdrive; to attempt to forcibly remount, call drive.mount(\"/content/gdrive\", force_remount=True).\n"
          ]
        }
      ]
    },
    {
      "cell_type": "code",
      "metadata": {
        "id": "79FYK7nJ-7l2"
      },
      "source": [
        "%matplotlib inline \n",
        "import numpy as np\n",
        "import pandas as pd\n",
        "import matplotlib.pyplot as plt\n",
        "import cv2\n",
        "import tensorflow as tf\n",
        "from tensorflow import keras\n",
        "from tensorflow.keras import backend as K\n",
        "from tensorflow.keras import layers\n",
        "from tensorflow.keras.layers import Input, DepthwiseConv2D\n",
        "from tensorflow.keras.layers import Conv2D, BatchNormalization\n",
        "from tensorflow.keras.layers import ReLU, LeakyReLU, Flatten, Dense\n",
        "from PIL import Image\n",
        "import glob\n",
        "import os\n",
        "import pickle"
      ],
      "execution_count": null,
      "outputs": []
    },
    {
      "cell_type": "markdown",
      "metadata": {
        "id": "OI61CFVQaMd-"
      },
      "source": [
        "Create ground truth label mapping, import image data and perform sample visualization"
      ]
    },
    {
      "cell_type": "code",
      "metadata": {
        "id": "JWcWOVtbZb7o"
      },
      "source": [
        "# create dictionary mapping between script type and corresponding id label\n",
        "id_to_script = {0: 'Arabic', 1: 'Bengali', 2: 'English', 3: 'Gujrathi', 4: 'Hindi', \n",
        "                5: 'Kannada', 6: 'Oriya', 7: 'Punjabi', 8: 'Tamil', 9: 'Telegu'}\n",
        "script_to_id = {v: k for (k, v) in id_to_script.items()}"
      ],
      "execution_count": null,
      "outputs": []
    },
    {
      "cell_type": "code",
      "metadata": {
        "colab": {
          "base_uri": "https://localhost:8080/"
        },
        "id": "l6RNw6OdaGE2",
        "outputId": "8671216f-d75c-4750-c05f-de5914a7a93d"
      },
      "source": [
        "script_to_id"
      ],
      "execution_count": null,
      "outputs": [
        {
          "output_type": "execute_result",
          "data": {
            "text/plain": [
              "{'Arabic': 0,\n",
              " 'Bengali': 1,\n",
              " 'English': 2,\n",
              " 'Gujrathi': 3,\n",
              " 'Hindi': 4,\n",
              " 'Kannada': 5,\n",
              " 'Oriya': 6,\n",
              " 'Punjabi': 7,\n",
              " 'Tamil': 8,\n",
              " 'Telegu': 9}"
            ]
          },
          "metadata": {},
          "execution_count": 5
        }
      ]
    },
    {
      "cell_type": "code",
      "metadata": {
        "id": "dOB3mD5SCjd8"
      },
      "source": [
        "# unpickle training data\n",
        "with open(\"./gdrive/MyDrive/Colab_Notebooks/task_cvsi/train_data\", \"rb\") as fp:   # Unpickling\n",
        "  train_data = pickle.load(fp)"
      ],
      "execution_count": null,
      "outputs": []
    },
    {
      "cell_type": "code",
      "metadata": {
        "id": "K1zAAAs_nxu_"
      },
      "source": [
        "# unpickle training label\n",
        "with open(\"./gdrive/MyDrive/Colab_Notebooks/task_cvsi/train_label\", \"rb\") as fp:   # Unpickling\n",
        "  label = pickle.load(fp)"
      ],
      "execution_count": null,
      "outputs": []
    },
    {
      "cell_type": "code",
      "metadata": {
        "colab": {
          "base_uri": "https://localhost:8080/"
        },
        "id": "Pg_Uk_jdCoSz",
        "outputId": "997d76b1-fef5-43a1-d094-a89d7f718940"
      },
      "source": [
        "len(train_data) # 6412"
      ],
      "execution_count": null,
      "outputs": [
        {
          "output_type": "execute_result",
          "data": {
            "text/plain": [
              "6412"
            ]
          },
          "metadata": {},
          "execution_count": 11
        }
      ]
    },
    {
      "cell_type": "code",
      "metadata": {
        "id": "oCU39bmSI9y8"
      },
      "source": [
        "# unpickle validation data\n",
        "with open(\"./gdrive/MyDrive/Colab_Notebooks/task_cvsi/val_data\", \"rb\") as fp:   # Unpickling\n",
        "  val_data = pickle.load(fp)"
      ],
      "execution_count": null,
      "outputs": []
    },
    {
      "cell_type": "code",
      "metadata": {
        "id": "l3QkV84JI-R3"
      },
      "source": [
        "# unpickle validation label\n",
        "with open(\"./gdrive/MyDrive/Colab_Notebooks/task_cvsi/val_label\", \"rb\") as fp:   # Unpickling\n",
        "  val_label = pickle.load(fp)"
      ],
      "execution_count": null,
      "outputs": []
    },
    {
      "cell_type": "code",
      "metadata": {
        "colab": {
          "base_uri": "https://localhost:8080/"
        },
        "id": "ETyA1EgZJBW8",
        "outputId": "748b5e92-682d-4696-f0a5-c9afb6b56f44"
      },
      "source": [
        "len(val_data) # 1069"
      ],
      "execution_count": null,
      "outputs": [
        {
          "output_type": "execute_result",
          "data": {
            "text/plain": [
              "1069"
            ]
          },
          "metadata": {},
          "execution_count": 14
        }
      ]
    },
    {
      "cell_type": "code",
      "metadata": {
        "id": "2Ab6WhOr-8eu"
      },
      "source": [
        "# unpickle test data\n",
        "with open(\"./gdrive/MyDrive/Colab_Notebooks/task_cvsi/test_data\", \"rb\") as fp:   # Unpickling\n",
        "  test_data = pickle.load(fp)"
      ],
      "execution_count": null,
      "outputs": []
    },
    {
      "cell_type": "code",
      "metadata": {
        "id": "qdsmBkyr-_TC"
      },
      "source": [
        "# unpickle test label\n",
        "with open(\"./gdrive/MyDrive/Colab_Notebooks/task_cvsi/test_label\", \"rb\") as fp:   # Unpickling\n",
        "  test_label = pickle.load(fp)"
      ],
      "execution_count": null,
      "outputs": []
    },
    {
      "cell_type": "code",
      "metadata": {
        "colab": {
          "base_uri": "https://localhost:8080/"
        },
        "id": "q0keeVQ7_C5d",
        "outputId": "cc69c29b-e96c-49f5-fa35-0fce3d51b5e6"
      },
      "source": [
        "len(test_data) # 3207"
      ],
      "execution_count": null,
      "outputs": [
        {
          "output_type": "execute_result",
          "data": {
            "text/plain": [
              "3207"
            ]
          },
          "metadata": {},
          "execution_count": 17
        }
      ]
    },
    {
      "cell_type": "code",
      "metadata": {
        "colab": {
          "base_uri": "https://localhost:8080/",
          "height": 225
        },
        "id": "fYG4m59ToYpU",
        "outputId": "278e9264-df8e-49a8-ae93-941fc4c56991"
      },
      "source": [
        "# visualiza an image sample\n",
        "idx = 10\n",
        "print(id_to_script[label[idx]])\n",
        "xx = np.asarray(train_data[idx])\n",
        "print(xx.shape)\n",
        "xx = xx.astype(int)\n",
        "plt.imshow(xx)"
      ],
      "execution_count": null,
      "outputs": [
        {
          "output_type": "stream",
          "name": "stdout",
          "text": [
            "Arabic\n",
            "(38, 104, 3)\n"
          ]
        },
        {
          "output_type": "execute_result",
          "data": {
            "text/plain": [
              "<matplotlib.image.AxesImage at 0x7feadadfb890>"
            ]
          },
          "metadata": {},
          "execution_count": 18
        },
        {
          "output_type": "display_data",
          "data": {
            "image/png": "[encoded data removed]",
            "text/plain": [
              "<Figure size 432x288 with 1 Axes>"
            ]
          },
          "metadata": {
            "needs_background": "light"
          }
        }
      ]
    },
    {
      "cell_type": "code",
      "metadata": {
        "colab": {
          "base_uri": "https://localhost:8080/",
          "height": 198
        },
        "id": "gbmg75YRwMsD",
        "outputId": "84a44c26-56bf-4372-d5f0-497cdd83ce2b"
      },
      "source": [
        "# grayscaling and resizing image to multiples of 64\n",
        "img = tf.image.rgb_to_grayscale(xx)\n",
        "h, w = img.shape[0],img.shape[1]\n",
        "new_w = int(((w*64/h - 1)//64 + 1) * 64)  # can use np.ceil() instead for simplicity\n",
        "xxx = tf.image.resize(tf.reshape(img, [1,h,w,1]), (64, new_w),\n",
        "                      method = tf.image.ResizeMethod.BILINEAR)\n",
        "print(xxx.shape)\n",
        "plt.imshow(xxx[0,:,:,0], cmap='gray')"
      ],
      "execution_count": null,
      "outputs": [
        {
          "output_type": "stream",
          "name": "stdout",
          "text": [
            "(1, 64, 192, 1)\n"
          ]
        },
        {
          "output_type": "execute_result",
          "data": {
            "text/plain": [
              "<matplotlib.image.AxesImage at 0x7fead0276950>"
            ]
          },
          "metadata": {},
          "execution_count": 19
        },
        {
          "output_type": "display_data",
          "data": {
            "image/png": "[encoded data removed]",
            "text/plain": [
              "<Figure size 432x288 with 1 Axes>"
            ]
          },
          "metadata": {
            "needs_background": "light"
          }
        }
      ]
    },
    {
      "cell_type": "code",
      "metadata": {
        "colab": {
          "base_uri": "https://localhost:8080/"
        },
        "id": "FAxThKld9pfv",
        "outputId": "576d8a77-49fa-4deb-b1d1-c50f6edaa736"
      },
      "source": [
        "# convert into patches of (64, 64, 1)\n",
        "img_patches = tf.convert_to_tensor([xxx[0,:,i*64:(i+1)*64,:] for i in range(new_w//64)])\n",
        "img_patches.shape"
      ],
      "execution_count": null,
      "outputs": [
        {
          "output_type": "execute_result",
          "data": {
            "text/plain": [
              "TensorShape([3, 64, 64, 1])"
            ]
          },
          "metadata": {},
          "execution_count": 20
        }
      ]
    },
    {
      "cell_type": "code",
      "metadata": {
        "colab": {
          "base_uri": "https://localhost:8080/",
          "height": 167
        },
        "id": "Xqo3lm-y-K4y",
        "outputId": "b5b93934-26c0-42ab-c6d6-9bb8617d6438"
      },
      "source": [
        "# visualize patches\n",
        "plt.subplot(1, 3, 1)\n",
        "plt.imshow(img_patches[0][...,0], cmap='gray')\n",
        "plt.subplot(1, 3, 2)\n",
        "plt.imshow(img_patches[1][...,0], cmap='gray')\n",
        "plt.subplot(1, 3, 3)\n",
        "plt.imshow(img_patches[2][...,0], cmap='gray')"
      ],
      "execution_count": null,
      "outputs": [
        {
          "output_type": "execute_result",
          "data": {
            "text/plain": [
              "<matplotlib.image.AxesImage at 0x7fead01fd910>"
            ]
          },
          "metadata": {},
          "execution_count": 21
        },
        {
          "output_type": "display_data",
          "data": {
            "image/png": "[encoded data removed]",
            "text/plain": [
              "<Figure size 432x288 with 3 Axes>"
            ]
          },
          "metadata": {
            "needs_background": "light"
          }
        }
      ]
    },
    {
      "cell_type": "code",
      "metadata": {
        "id": "9ovLFGQt5eoG",
        "colab": {
          "base_uri": "https://localhost:8080/"
        },
        "outputId": "1f046e4b-0151-40db-b0bb-bf848c26d8d4"
      },
      "source": [
        "# examine image sizes and aspect ratios\n",
        "shapes = np.asarray([[data.shape[0], data.shape[1]] for data in train_data])\n",
        "print(np.min(shapes, axis=0))\n",
        "print(np.max(shapes, axis=0))\n",
        "# only min/max values of height and width, not necessarily corresponding to existing shapes\n",
        "# aspect ratio (width over height)\n",
        "print(np.min(shapes[:,1]/shapes[:,0]))\n",
        "print(np.max(shapes[:,1]/shapes[:,0]))\n",
        "# max aspect ratio observed in train data, which is 10.74 (hence making max length as 11)"
      ],
      "execution_count": null,
      "outputs": [
        {
          "output_type": "stream",
          "name": "stdout",
          "text": [
            "[ 9 18]\n",
            "[149 461]\n",
            "0.6206896551724138\n",
            "10.741935483870968\n"
          ]
        }
      ]
    },
    {
      "cell_type": "code",
      "metadata": {
        "id": "Mz1bdN8tHgip"
      },
      "source": [
        "# create the function, which takes in grayscle images and resizes and converts them into\n",
        "# collections of (64, 64, 1) tensors, as displayed in the examples above\n",
        "def to_patches(gray_img):\n",
        "  gray_img /= 255\n",
        "  h, w = gray_img.shape[0], gray_img.shape[1]\n",
        "  new_w = int(((w*64/h - 1)//64 + 1) * 64)\n",
        "  img = tf.image.resize(tf.reshape(gray_img, [1,h,w,1]), (64, new_w),\n",
        "                        method = tf.image.ResizeMethod.BILINEAR)\n",
        "  patches = tf.convert_to_tensor([img[0, :, i*64:(i+1)*64, :] for i in range(new_w//64)])\n",
        "  return patches"
      ],
      "execution_count": null,
      "outputs": []
    },
    {
      "cell_type": "markdown",
      "metadata": {
        "id": "GHpkqv9OWpii"
      },
      "source": [
        "Model Construction"
      ]
    },
    {
      "cell_type": "code",
      "metadata": {
        "id": "HAhQEMTTf2HV"
      },
      "source": [
        "# Build customized mobileNet model\n",
        "# MobileNet block\n",
        "def mobilnet_block (x, filters, strides):\n",
        "  x = DepthwiseConv2D(kernel_size = 3, strides = strides, padding = 'same')(x)\n",
        "  x = BatchNormalization(epsilon=1e-6)(x)\n",
        "  x = LeakyReLU(alpha=0.1)(x)\n",
        "    \n",
        "  x = Conv2D(filters = filters, kernel_size = 1, strides = 1)(x)\n",
        "  x = BatchNormalization(epsilon=1e-6)(x)\n",
        "  x = LeakyReLU(alpha=0.1)(x)\n",
        "    \n",
        "  return x"
      ],
      "execution_count": null,
      "outputs": []
    },
    {
      "cell_type": "code",
      "metadata": {
        "colab": {
          "base_uri": "https://localhost:8080/"
        },
        "id": "eFR67vaC32nm",
        "outputId": "d707c479-f06d-4fce-97d4-57a860fe7a9e"
      },
      "source": [
        "#stem of the model\n",
        "input = Input(shape = (64, 64, 1))\n",
        "x = Conv2D(filters = 32, kernel_size = 3, strides = 2, padding = 'same')(input)\n",
        "x = BatchNormalization(epsilon=1e-6)(x)\n",
        "x = LeakyReLU(alpha=0.1)(x)\n",
        "# main part of the model\n",
        "x = mobilnet_block(x, filters = 64, strides = 1)\n",
        "x = mobilnet_block(x, filters = 128, strides = 2)\n",
        "x = mobilnet_block(x, filters = 128, strides = 1)\n",
        "x = mobilnet_block(x, filters = 256, strides = 2)\n",
        "x = mobilnet_block(x, filters = 256, strides = 1)\n",
        "x = mobilnet_block(x, filters = 512, strides = 2)\n",
        "x = mobilnet_block(x, filters = 512, strides = 1)\n",
        "\n",
        "# # full mobilenet has five blocks below, we only use two blocks here\n",
        "# for _ in range (5):\n",
        "#   x = mobilnet_block(x, filters = 512, strides = 1)\n",
        "x = mobilnet_block(x, filters = 512, strides = 1)\n",
        "x = mobilnet_block(x, filters = 512, strides = 1)\n",
        "\n",
        "x = mobilnet_block(x, filters = 1024, strides = 2)\n",
        "x = mobilnet_block(x, filters = 1024, strides = 1)\n",
        "x = keras.layers.AveragePooling2D(pool_size=(2, 2))(x)\n",
        "x = keras.layers.Flatten()(x)\n",
        "mobile_out = keras.layers.Dense(512)(x)\n",
        "\n",
        "print(mobile_out.shape)"
      ],
      "execution_count": null,
      "outputs": [
        {
          "output_type": "stream",
          "name": "stdout",
          "text": [
            "(None, 512)\n"
          ]
        }
      ]
    },
    {
      "cell_type": "code",
      "metadata": {
        "colab": {
          "base_uri": "https://localhost:8080/"
        },
        "id": "d7nnWX3M7Oo_",
        "outputId": "b793a963-4364-4ca9-e945-523cac9b4be6"
      },
      "source": [
        "# build model and summary\n",
        "mobile_net = keras.Model(inputs=input, outputs=mobile_out)\n",
        "mobile_net.summary()"
      ],
      "execution_count": null,
      "outputs": [
        {
          "output_type": "stream",
          "name": "stdout",
          "text": [
            "Model: \"model\"\n",
            "_________________________________________________________________\n",
            " Layer (type)                Output Shape              Param #   \n",
            "=================================================================\n",
            " input_1 (InputLayer)        [(None, 64, 64, 1)]       0         \n",
            "                                                                 \n",
            " conv2d (Conv2D)             (None, 32, 32, 32)        320       \n",
            "                                                                 \n",
            " batch_normalization (BatchN  (None, 32, 32, 32)       128       \n",
            " ormalization)                                                   \n",
            "                                                                 \n",
            " leaky_re_lu (LeakyReLU)     (None, 32, 32, 32)        0         \n",
            "                                                                 \n",
            " depthwise_conv2d (Depthwise  (None, 32, 32, 32)       320       \n",
            " Conv2D)                                                         \n",
            "                                                                 \n",
            " batch_normalization_1 (Batc  (None, 32, 32, 32)       128       \n",
            " hNormalization)                                                 \n",
            "                                                                 \n",
            " leaky_re_lu_1 (LeakyReLU)   (None, 32, 32, 32)        0         \n",
            "                                                                 \n",
            " conv2d_1 (Conv2D)           (None, 32, 32, 64)        2112      \n",
            "                                                                 \n",
            " batch_normalization_2 (Batc  (None, 32, 32, 64)       256       \n",
            " hNormalization)                                                 \n",
            "                                                                 \n",
            " leaky_re_lu_2 (LeakyReLU)   (None, 32, 32, 64)        0         \n",
            "                                                                 \n",
            " depthwise_conv2d_1 (Depthwi  (None, 16, 16, 64)       640       \n",
            " seConv2D)                                                       \n",
            "                                                                 \n",
            " batch_normalization_3 (Batc  (None, 16, 16, 64)       256       \n",
            " hNormalization)                                                 \n",
            "                                                                 \n",
            " leaky_re_lu_3 (LeakyReLU)   (None, 16, 16, 64)        0         \n",
            "                                                                 \n",
            " conv2d_2 (Conv2D)           (None, 16, 16, 128)       8320      \n",
            "                                                                 \n",
            " batch_normalization_4 (Batc  (None, 16, 16, 128)      512       \n",
            " hNormalization)                                                 \n",
            "                                                                 \n",
            " leaky_re_lu_4 (LeakyReLU)   (None, 16, 16, 128)       0         \n",
            "                                                                 \n",
            " depthwise_conv2d_2 (Depthwi  (None, 16, 16, 128)      1280      \n",
            " seConv2D)                                                       \n",
            "                                                                 \n",
            " batch_normalization_5 (Batc  (None, 16, 16, 128)      512       \n",
            " hNormalization)                                                 \n",
            "                                                                 \n",
            " leaky_re_lu_5 (LeakyReLU)   (None, 16, 16, 128)       0         \n",
            "                                                                 \n",
            " conv2d_3 (Conv2D)           (None, 16, 16, 128)       16512     \n",
            "                                                                 \n",
            " batch_normalization_6 (Batc  (None, 16, 16, 128)      512       \n",
            " hNormalization)                                                 \n",
            "                                                                 \n",
            " leaky_re_lu_6 (LeakyReLU)   (None, 16, 16, 128)       0         \n",
            "                                                                 \n",
            " depthwise_conv2d_3 (Depthwi  (None, 8, 8, 128)        1280      \n",
            " seConv2D)                                                       \n",
            "                                                                 \n",
            " batch_normalization_7 (Batc  (None, 8, 8, 128)        512       \n",
            " hNormalization)                                                 \n",
            "                                                                 \n",
            " leaky_re_lu_7 (LeakyReLU)   (None, 8, 8, 128)         0         \n",
            "                                                                 \n",
            " conv2d_4 (Conv2D)           (None, 8, 8, 256)         33024     \n",
            "                                                                 \n",
            " batch_normalization_8 (Batc  (None, 8, 8, 256)        1024      \n",
            " hNormalization)                                                 \n",
            "                                                                 \n",
            " leaky_re_lu_8 (LeakyReLU)   (None, 8, 8, 256)         0         \n",
            "                                                                 \n",
            " depthwise_conv2d_4 (Depthwi  (None, 8, 8, 256)        2560      \n",
            " seConv2D)                                                       \n",
            "                                                                 \n",
            " batch_normalization_9 (Batc  (None, 8, 8, 256)        1024      \n",
            " hNormalization)                                                 \n",
            "                                                                 \n",
            " leaky_re_lu_9 (LeakyReLU)   (None, 8, 8, 256)         0         \n",
            "                                                                 \n",
            " conv2d_5 (Conv2D)           (None, 8, 8, 256)         65792     \n",
            "                                                                 \n",
            " batch_normalization_10 (Bat  (None, 8, 8, 256)        1024      \n",
            " chNormalization)                                                \n",
            "                                                                 \n",
            " leaky_re_lu_10 (LeakyReLU)  (None, 8, 8, 256)         0         \n",
            "                                                                 \n",
            " depthwise_conv2d_5 (Depthwi  (None, 4, 4, 256)        2560      \n",
            " seConv2D)                                                       \n",
            "                                                                 \n",
            " batch_normalization_11 (Bat  (None, 4, 4, 256)        1024      \n",
            " chNormalization)                                                \n",
            "                                                                 \n",
            " leaky_re_lu_11 (LeakyReLU)  (None, 4, 4, 256)         0         \n",
            "                                                                 \n",
            " conv2d_6 (Conv2D)           (None, 4, 4, 512)         131584    \n",
            "                                                                 \n",
            " batch_normalization_12 (Bat  (None, 4, 4, 512)        2048      \n",
            " chNormalization)                                                \n",
            "                                                                 \n",
            " leaky_re_lu_12 (LeakyReLU)  (None, 4, 4, 512)         0         \n",
            "                                                                 \n",
            " depthwise_conv2d_6 (Depthwi  (None, 4, 4, 512)        5120      \n",
            " seConv2D)                                                       \n",
            "                                                                 \n",
            " batch_normalization_13 (Bat  (None, 4, 4, 512)        2048      \n",
            " chNormalization)                                                \n",
            "                                                                 \n",
            " leaky_re_lu_13 (LeakyReLU)  (None, 4, 4, 512)         0         \n",
            "                                                                 \n",
            " conv2d_7 (Conv2D)           (None, 4, 4, 512)         262656    \n",
            "                                                                 \n",
            " batch_normalization_14 (Bat  (None, 4, 4, 512)        2048      \n",
            " chNormalization)                                                \n",
            "                                                                 \n",
            " leaky_re_lu_14 (LeakyReLU)  (None, 4, 4, 512)         0         \n",
            "                                                                 \n",
            " depthwise_conv2d_7 (Depthwi  (None, 4, 4, 512)        5120      \n",
            " seConv2D)                                                       \n",
            "                                                                 \n",
            " batch_normalization_15 (Bat  (None, 4, 4, 512)        2048      \n",
            " chNormalization)                                                \n",
            "                                                                 \n",
            " leaky_re_lu_15 (LeakyReLU)  (None, 4, 4, 512)         0         \n",
            "                                                                 \n",
            " conv2d_8 (Conv2D)           (None, 4, 4, 512)         262656    \n",
            "                                                                 \n",
            " batch_normalization_16 (Bat  (None, 4, 4, 512)        2048      \n",
            " chNormalization)                                                \n",
            "                                                                 \n",
            " leaky_re_lu_16 (LeakyReLU)  (None, 4, 4, 512)         0         \n",
            "                                                                 \n",
            " depthwise_conv2d_8 (Depthwi  (None, 4, 4, 512)        5120      \n",
            " seConv2D)                                                       \n",
            "                                                                 \n",
            " batch_normalization_17 (Bat  (None, 4, 4, 512)        2048      \n",
            " chNormalization)                                                \n",
            "                                                                 \n",
            " leaky_re_lu_17 (LeakyReLU)  (None, 4, 4, 512)         0         \n",
            "                                                                 \n",
            " conv2d_9 (Conv2D)           (None, 4, 4, 512)         262656    \n",
            "                                                                 \n",
            " batch_normalization_18 (Bat  (None, 4, 4, 512)        2048      \n",
            " chNormalization)                                                \n",
            "                                                                 \n",
            " leaky_re_lu_18 (LeakyReLU)  (None, 4, 4, 512)         0         \n",
            "                                                                 \n",
            " depthwise_conv2d_9 (Depthwi  (None, 2, 2, 512)        5120      \n",
            " seConv2D)                                                       \n",
            "                                                                 \n",
            " batch_normalization_19 (Bat  (None, 2, 2, 512)        2048      \n",
            " chNormalization)                                                \n",
            "                                                                 \n",
            " leaky_re_lu_19 (LeakyReLU)  (None, 2, 2, 512)         0         \n",
            "                                                                 \n",
            " conv2d_10 (Conv2D)          (None, 2, 2, 1024)        525312    \n",
            "                                                                 \n",
            " batch_normalization_20 (Bat  (None, 2, 2, 1024)       4096      \n",
            " chNormalization)                                                \n",
            "                                                                 \n",
            " leaky_re_lu_20 (LeakyReLU)  (None, 2, 2, 1024)        0         \n",
            "                                                                 \n",
            " depthwise_conv2d_10 (Depthw  (None, 2, 2, 1024)       10240     \n",
            " iseConv2D)                                                      \n",
            "                                                                 \n",
            " batch_normalization_21 (Bat  (None, 2, 2, 1024)       4096      \n",
            " chNormalization)                                                \n",
            "                                                                 \n",
            " leaky_re_lu_21 (LeakyReLU)  (None, 2, 2, 1024)        0         \n",
            "                                                                 \n",
            " conv2d_11 (Conv2D)          (None, 2, 2, 1024)        1049600   \n",
            "                                                                 \n",
            " batch_normalization_22 (Bat  (None, 2, 2, 1024)       4096      \n",
            " chNormalization)                                                \n",
            "                                                                 \n",
            " leaky_re_lu_22 (LeakyReLU)  (None, 2, 2, 1024)        0         \n",
            "                                                                 \n",
            " average_pooling2d (AverageP  (None, 1, 1, 1024)       0         \n",
            " ooling2D)                                                       \n",
            "                                                                 \n",
            " flatten (Flatten)           (None, 1024)              0         \n",
            "                                                                 \n",
            " dense (Dense)               (None, 512)               524800    \n",
            "                                                                 \n",
            "=================================================================\n",
            "Total params: 3,220,288\n",
            "Trainable params: 3,202,496\n",
            "Non-trainable params: 17,792\n",
            "_________________________________________________________________\n"
          ]
        }
      ]
    },
    {
      "cell_type": "markdown",
      "source": [
        "Create transformer encoder class. Note that if we set stack to 0 and remove the concatenation in the call function, the encoder will directly perform masked average pooling after receiving the inputs from the patched mobilenet above."
      ],
      "metadata": {
        "id": "Mx797lHer1a7"
      }
    },
    {
      "cell_type": "code",
      "metadata": {
        "id": "WZk_ZlxI3NQU"
      },
      "source": [
        "# transformer encoder\n",
        "class Encoder(tf.keras.Model):\n",
        "\n",
        "  def __init__(self, head_size: int, num_heads: int, ff_dim: int, stack=2, dropout=0):\n",
        "    super(Encoder, self).__init__()\n",
        "    self.head_size = head_size\n",
        "    self.num_heads = num_heads\n",
        "    self.ff_dim = ff_dim\n",
        "    self.stack = stack\n",
        "    self.scale = tf.sqrt(float(head_size))\n",
        "    self.pos_embeds = self._position_embedding()\n",
        "\n",
        "    self.attention = [[layers.Attention(use_scale=False) for j in range(num_heads)] for i in range(stack)]\n",
        "    self.attn_dense = [[[layers.Dense(head_size, use_bias=False) for k in range(2)] for j in range(num_heads)] for i in range(stack)]\n",
        "    self.dropout = layers.Dropout(dropout)\n",
        "    self.layer_norm = [[layers.LayerNormalization(epsilon=1e-6) for j in range(2)] for i in range(stack)]\n",
        "    self.conv1 = [layers.Conv1D(filters=ff_dim, kernel_size=1) for i in range(stack)]\n",
        "    self.leakyrelu = layers.LeakyReLU(alpha=0.1)\n",
        "    self.conv2 = [layers.Conv1D(filters=head_size*num_heads, kernel_size=1) for i in range(stack)]\n",
        "\n",
        "    self.avgpool = layers.GlobalAveragePooling1D()\n",
        "    self.dense1 = layers.Dense(128)\n",
        "    self.dropout2 = layers.Dropout(0.2)\n",
        "    self.dense2 = layers.Dense(10, activation='softmax')\n",
        "\n",
        "  def get_angles(self, pos, i, d_model):\n",
        "    angle_rates = 1 / np.power(10000, (2 * (i//2)) / np.float32(d_model))\n",
        "    return pos * angle_rates\n",
        "\n",
        "  def _position_embedding(self, seq_len=11, d_model=512):\n",
        "    angle_rads = self.get_angles(np.arange(seq_len)[:, np.newaxis],\n",
        "                                 np.arange(d_model)[np.newaxis, :],\n",
        "                                 d_model)\n",
        "    \n",
        "    # apply sin to even indices in the array; 2i\n",
        "    angle_rads[:, 0::2] = np.sin(angle_rads[:, 0::2])\n",
        "    # apply cos to odd indices in the array; 2i+1\n",
        "    angle_rads[:, 1::2] = np.cos(angle_rads[:, 1::2])\n",
        "\n",
        "    angle_rads = angle_rads[np.newaxis, ...]\n",
        "    pos_enc = tf.cast(angle_rads, dtype=tf.float32)\n",
        "    return tf.constant(pos_enc)\n",
        "\n",
        "  def call(self, inputs, mask, training=False):\n",
        "    # inputs shape: (batch_size, 11, 512)\n",
        "    initials = inputs\n",
        "\n",
        "    # # add positional encoding, which does not bring much difference in this particular setting\n",
        "    # batch_size, seq_len, d_model = inputs.shape\n",
        "    # pos_embeds = tf.broadcast_to(self.pos_embeds, [batch_size, seq_len, d_model])\n",
        "    # pos_mask = tf.expand_dims(tf.constant(tf.cast(mask, dtype=tf.float32)), axis=-1)\n",
        "    # inputs += pos_embeds * pos_mask\n",
        "\n",
        "    for i in range(self.stack):\n",
        "      # multi-head self attention\n",
        "      x = inputs\n",
        "      entries = [[self.attn_dense[i][j][0](x), self.attn_dense[i][j][1](x)] \n",
        "                 for j in range(self.num_heads)]\n",
        "      attentions = [self.attention[i][j](inputs = [entries[j][0]/self.scale, entries[j][1], entries[j][1]],\n",
        "                                         mask = [mask, mask])   \n",
        "                    for j in range(self.num_heads)]\n",
        "      x = tf.concat(attentions, axis=-1)\n",
        "      x = self.dropout(x, training=training)\n",
        "      res = x + inputs\n",
        "\n",
        "      # feed forward\n",
        "      x = self.layer_norm[i][0](res)\n",
        "      x = self.conv1[i](x)\n",
        "      x = self.leakyrelu(x)\n",
        "      x = self.dropout(x, training=training)\n",
        "      x = self.conv2[i](x)\n",
        "      inputs = self.layer_norm[i][1](x + res)\n",
        "\n",
        "    # mask size is (batch_size, 11, 11)\n",
        "    # shape is (batch_size, 11, 512)\n",
        "\n",
        "    pooling_mask = mask\n",
        "    # residual concatenation\n",
        "    x = tf.concat([inputs, initials], axis=-1)\n",
        "    # masked average pooling\n",
        "    x = self.avgpool(x, pooling_mask)\n",
        "    x = self.dropout2(x, training=training)\n",
        "    x = self.dense1(x)\n",
        "    x = self.leakyrelu(x)\n",
        "    output = self.dense2(x)\n",
        "\n",
        "    return output"
      ],
      "execution_count": null,
      "outputs": []
    },
    {
      "cell_type": "code",
      "metadata": {
        "id": "xT-fg3m7EsCx"
      },
      "source": [
        "# build encoder by passing sample inputs\n",
        "encoder = Encoder(head_size=64, num_heads=8, ff_dim=512, stack=2, dropout=0.1)\n",
        "a = np.random.normal(size=(2, 11, 512))\n",
        "mk = np.zeros((2, 11), dtype=bool)\n",
        "mk[0, 0:2] = 1\n",
        "mk[1, 0:3] = 1\n",
        "a = tf.convert_to_tensor(a)\n",
        "mk = tf.convert_to_tensor(mk)"
      ],
      "execution_count": null,
      "outputs": []
    },
    {
      "cell_type": "code",
      "metadata": {
        "colab": {
          "base_uri": "https://localhost:8080/"
        },
        "id": "QNwYNq0tKzGq",
        "outputId": "97d440ca-7305-4be0-a6f0-f6f5b44151cf"
      },
      "source": [
        "out_enc = encoder(a, mk, training=False)\n",
        "out_enc.shape"
      ],
      "execution_count": null,
      "outputs": [
        {
          "output_type": "execute_result",
          "data": {
            "text/plain": [
              "TensorShape([2, 10])"
            ]
          },
          "metadata": {},
          "execution_count": 33
        }
      ]
    },
    {
      "cell_type": "code",
      "metadata": {
        "colab": {
          "base_uri": "https://localhost:8080/"
        },
        "id": "8xa_JbZw8X1H",
        "outputId": "d3b634da-52b8-469a-811a-7346df8dff23"
      },
      "source": [
        "out_enc"
      ],
      "execution_count": null,
      "outputs": [
        {
          "output_type": "execute_result",
          "data": {
            "text/plain": [
              "<tf.Tensor: shape=(2, 10), dtype=float32, numpy=\n",
              "array([[0.097752  , 0.02092698, 0.31286165, 0.10316021, 0.03188926,\n",
              "        0.05589854, 0.01535039, 0.08654529, 0.24652103, 0.0290947 ],\n",
              "       [0.29804477, 0.05680877, 0.15916204, 0.055171  , 0.03056469,\n",
              "        0.04746022, 0.13418545, 0.05974154, 0.05973216, 0.09912944]],\n",
              "      dtype=float32)>"
            ]
          },
          "metadata": {},
          "execution_count": 34
        }
      ]
    },
    {
      "cell_type": "code",
      "metadata": {
        "colab": {
          "base_uri": "https://localhost:8080/"
        },
        "id": "VHCzSgrfEz4y",
        "outputId": "1bf2c66a-8d14-447f-f4ae-c413257298af"
      },
      "source": [
        "# encoder summary\n",
        "encoder.summary()"
      ],
      "execution_count": null,
      "outputs": [
        {
          "output_type": "stream",
          "name": "stdout",
          "text": [
            "Model: \"encoder\"\n",
            "_________________________________________________________________\n",
            " Layer (type)                Output Shape              Param #   \n",
            "=================================================================\n",
            " attention (Attention)       multiple                  0         \n",
            "                                                                 \n",
            " attention_1 (Attention)     multiple                  0         \n",
            "                                                                 \n",
            " attention_2 (Attention)     multiple                  0         \n",
            "                                                                 \n",
            " attention_3 (Attention)     multiple                  0         \n",
            "                                                                 \n",
            " attention_4 (Attention)     multiple                  0         \n",
            "                                                                 \n",
            " attention_5 (Attention)     multiple                  0         \n",
            "                                                                 \n",
            " attention_6 (Attention)     multiple                  0         \n",
            "                                                                 \n",
            " attention_7 (Attention)     multiple                  0         \n",
            "                                                                 \n",
            " attention_8 (Attention)     multiple                  0         \n",
            "                                                                 \n",
            " attention_9 (Attention)     multiple                  0         \n",
            "                                                                 \n",
            " attention_10 (Attention)    multiple                  0         \n",
            "                                                                 \n",
            " attention_11 (Attention)    multiple                  0         \n",
            "                                                                 \n",
            " attention_12 (Attention)    multiple                  0         \n",
            "                                                                 \n",
            " attention_13 (Attention)    multiple                  0         \n",
            "                                                                 \n",
            " attention_14 (Attention)    multiple                  0         \n",
            "                                                                 \n",
            " attention_15 (Attention)    multiple                  0         \n",
            "                                                                 \n",
            " dense_1 (Dense)             multiple                  32768     \n",
            "                                                                 \n",
            " dense_2 (Dense)             multiple                  32768     \n",
            "                                                                 \n",
            " dense_3 (Dense)             multiple                  32768     \n",
            "                                                                 \n",
            " dense_4 (Dense)             multiple                  32768     \n",
            "                                                                 \n",
            " dense_5 (Dense)             multiple                  32768     \n",
            "                                                                 \n",
            " dense_6 (Dense)             multiple                  32768     \n",
            "                                                                 \n",
            " dense_7 (Dense)             multiple                  32768     \n",
            "                                                                 \n",
            " dense_8 (Dense)             multiple                  32768     \n",
            "                                                                 \n",
            " dense_9 (Dense)             multiple                  32768     \n",
            "                                                                 \n",
            " dense_10 (Dense)            multiple                  32768     \n",
            "                                                                 \n",
            " dense_11 (Dense)            multiple                  32768     \n",
            "                                                                 \n",
            " dense_12 (Dense)            multiple                  32768     \n",
            "                                                                 \n",
            " dense_13 (Dense)            multiple                  32768     \n",
            "                                                                 \n",
            " dense_14 (Dense)            multiple                  32768     \n",
            "                                                                 \n",
            " dense_15 (Dense)            multiple                  32768     \n",
            "                                                                 \n",
            " dense_16 (Dense)            multiple                  32768     \n",
            "                                                                 \n",
            " dense_17 (Dense)            multiple                  32768     \n",
            "                                                                 \n",
            " dense_18 (Dense)            multiple                  32768     \n",
            "                                                                 \n",
            " dense_19 (Dense)            multiple                  32768     \n",
            "                                                                 \n",
            " dense_20 (Dense)            multiple                  32768     \n",
            "                                                                 \n",
            " dense_21 (Dense)            multiple                  32768     \n",
            "                                                                 \n",
            " dense_22 (Dense)            multiple                  32768     \n",
            "                                                                 \n",
            " dense_23 (Dense)            multiple                  32768     \n",
            "                                                                 \n",
            " dense_24 (Dense)            multiple                  32768     \n",
            "                                                                 \n",
            " dense_25 (Dense)            multiple                  32768     \n",
            "                                                                 \n",
            " dense_26 (Dense)            multiple                  32768     \n",
            "                                                                 \n",
            " dense_27 (Dense)            multiple                  32768     \n",
            "                                                                 \n",
            " dense_28 (Dense)            multiple                  32768     \n",
            "                                                                 \n",
            " dense_29 (Dense)            multiple                  32768     \n",
            "                                                                 \n",
            " dense_30 (Dense)            multiple                  32768     \n",
            "                                                                 \n",
            " dense_31 (Dense)            multiple                  32768     \n",
            "                                                                 \n",
            " dense_32 (Dense)            multiple                  32768     \n",
            "                                                                 \n",
            " dropout (Dropout)           multiple                  0         \n",
            "                                                                 \n",
            " layer_normalization (LayerN  multiple                 1024      \n",
            " ormalization)                                                   \n",
            "                                                                 \n",
            " layer_normalization_1 (Laye  multiple                 1024      \n",
            " rNormalization)                                                 \n",
            "                                                                 \n",
            " layer_normalization_2 (Laye  multiple                 1024      \n",
            " rNormalization)                                                 \n",
            "                                                                 \n",
            " layer_normalization_3 (Laye  multiple                 1024      \n",
            " rNormalization)                                                 \n",
            "                                                                 \n",
            " conv1d (Conv1D)             multiple                  262656    \n",
            "                                                                 \n",
            " conv1d_1 (Conv1D)           multiple                  262656    \n",
            "                                                                 \n",
            " leaky_re_lu_23 (LeakyReLU)  multiple                  0         \n",
            "                                                                 \n",
            " conv1d_2 (Conv1D)           multiple                  262656    \n",
            "                                                                 \n",
            " conv1d_3 (Conv1D)           multiple                  262656    \n",
            "                                                                 \n",
            " global_average_pooling1d (G  multiple                 0         \n",
            " lobalAveragePooling1D)                                          \n",
            "                                                                 \n",
            " dense_33 (Dense)            multiple                  131200    \n",
            "                                                                 \n",
            " dropout_1 (Dropout)         multiple                  0         \n",
            "                                                                 \n",
            " dense_34 (Dense)            multiple                  1290      \n",
            "                                                                 \n",
            "=================================================================\n",
            "Total params: 2,235,786\n",
            "Trainable params: 2,235,786\n",
            "Non-trainable params: 0\n",
            "_________________________________________________________________\n"
          ]
        }
      ]
    },
    {
      "cell_type": "code",
      "metadata": {
        "id": "oFMF1UlSwDBg"
      },
      "source": [
        "# create full model using the mobilenet and encoder constructed above\n",
        "class MyModel(tf.keras.Model):\n",
        "\n",
        "  def __init__(self, mobile_net, encoder):\n",
        "    super(MyModel, self).__init__()\n",
        "    self.mobile_net = mobile_net\n",
        "    self.encoder = encoder\n",
        "\n",
        "  def call(self, inputs, training=False): # sample batch inputs: [(5, 64, 64, 1), (3, 64, 64, 1)]\n",
        "    batch_size = len(inputs)\n",
        "    batch_seq_len = [0]\n",
        "    batch_inputs = []\n",
        "    for j in range(batch_size):\n",
        "      seq_len = inputs[j].shape[0]\n",
        "      batch_seq_len.append(seq_len)\n",
        "      for k in range(seq_len):\n",
        "        batch_inputs.append(inputs[j][k,...])\n",
        "\n",
        "    # create a segments array to track the number of patches in each image sample\n",
        "    segments = [np.sum(batch_seq_len[0:i+1]) for i in range(batch_size+1)]\n",
        "\n",
        "    train_batch = tf.convert_to_tensor(batch_inputs)\n",
        "    mobile_out = self.mobile_net(train_batch, training=training)\n",
        "\n",
        "    t_inputs = []\n",
        "    attn_mask = np.zeros((batch_size, 11), dtype=bool)\n",
        "    for j in range(batch_size):\n",
        "      # use the segments array to retrieve from mobilenet into padded (batch_size, 11, 512) shaped tensor\n",
        "      vecs = mobile_out[segments[j]:segments[j+1],:]\n",
        "      paddings = tf.constant([[0, 11-(segments[j+1]-segments[j])], [0, 0]])\n",
        "      attn_mask[j, 0:segments[j+1]-segments[j]] = 1\n",
        "      vecs = tf.pad(vecs, paddings, \"CONSTANT\")\n",
        "      t_inputs.append(vecs)\n",
        "    train_tfm = tf.convert_to_tensor(t_inputs)\n",
        "    attn_mask = tf.convert_to_tensor(attn_mask)\n",
        "\n",
        "    # print(train_tfm.shape)  # (batch_size, 11, 512) \n",
        "    # print(attn_mask.shape)  # (batch_size, 11)\n",
        "\n",
        "    output = self.encoder(train_tfm, attn_mask, training=training)\n",
        "\n",
        "    return output\n",
        "\n",
        "model_combined = MyModel(mobile_net, encoder)"
      ],
      "execution_count": null,
      "outputs": []
    },
    {
      "cell_type": "code",
      "metadata": {
        "id": "hoEOrj6B0-YT"
      },
      "source": [
        "# create sample batched inputs to pass into the model to build it\n",
        "xx = tf.image.rgb_to_grayscale(np.asarray(train_data[1634]))\n",
        "patches = to_patches(xx)\n",
        "xx2 = tf.image.rgb_to_grayscale(np.asarray(train_data[1635]))\n",
        "patches2 = to_patches(xx2)\n",
        "input_xx = [patches, patches2]\n",
        "\n",
        "out = model_combined(input_xx)"
      ],
      "execution_count": null,
      "outputs": []
    },
    {
      "cell_type": "code",
      "metadata": {
        "colab": {
          "base_uri": "https://localhost:8080/"
        },
        "id": "xn28kP_x1osJ",
        "outputId": "875688d0-e4ce-4ec8-8334-22fcde6beffa"
      },
      "source": [
        "out.shape"
      ],
      "execution_count": null,
      "outputs": [
        {
          "output_type": "execute_result",
          "data": {
            "text/plain": [
              "TensorShape([2, 10])"
            ]
          },
          "metadata": {},
          "execution_count": 41
        }
      ]
    },
    {
      "cell_type": "code",
      "metadata": {
        "colab": {
          "base_uri": "https://localhost:8080/"
        },
        "id": "lswzuoY93_S0",
        "outputId": "a0f1bd5e-3627-4a94-b8c9-2f5f285e1095"
      },
      "source": [
        "out"
      ],
      "execution_count": null,
      "outputs": [
        {
          "output_type": "execute_result",
          "data": {
            "text/plain": [
              "<tf.Tensor: shape=(2, 10), dtype=float32, numpy=\n",
              "array([[0.09999841, 0.09999885, 0.09999962, 0.10000159, 0.09999329,\n",
              "        0.09999878, 0.10000402, 0.09999463, 0.10001107, 0.09999974],\n",
              "       [0.0999981 , 0.09999836, 0.09999964, 0.1000018 , 0.09999207,\n",
              "        0.09999912, 0.10000525, 0.0999939 , 0.10001226, 0.09999955]],\n",
              "      dtype=float32)>"
            ]
          },
          "metadata": {},
          "execution_count": 42
        }
      ]
    },
    {
      "cell_type": "code",
      "metadata": {
        "colab": {
          "base_uri": "https://localhost:8080/"
        },
        "id": "q4sM1b0ECDBT",
        "outputId": "bfa32fc0-5ede-46b3-9013-54f59e71e14f"
      },
      "source": [
        "# full model summary\n",
        "model_combined.summary()"
      ],
      "execution_count": null,
      "outputs": [
        {
          "output_type": "stream",
          "name": "stdout",
          "text": [
            "Model: \"my_model\"\n",
            "_________________________________________________________________\n",
            " Layer (type)                Output Shape              Param #   \n",
            "=================================================================\n",
            " model (Functional)          (None, 512)               3220288   \n",
            "                                                                 \n",
            " encoder (Encoder)           multiple                  2235786   \n",
            "                                                                 \n",
            "=================================================================\n",
            "Total params: 5,456,074\n",
            "Trainable params: 5,438,282\n",
            "Non-trainable params: 17,792\n",
            "_________________________________________________________________\n"
          ]
        }
      ]
    },
    {
      "cell_type": "code",
      "metadata": {
        "id": "6BiceBrGbh4f"
      },
      "source": [
        "# create optimizer\n",
        "optimizer = keras.optimizers.Adam(learning_rate=8e-4)"
      ],
      "execution_count": null,
      "outputs": []
    },
    {
      "cell_type": "markdown",
      "source": [
        "Build Customized Training Loop"
      ],
      "metadata": {
        "id": "HPVANU3fqIgN"
      }
    },
    {
      "cell_type": "code",
      "metadata": {
        "colab": {
          "base_uri": "https://localhost:8080/"
        },
        "id": "76JWOeeuwnCD",
        "outputId": "e10c6317-0b49-4596-98a3-6c7da1de6c54"
      },
      "source": [
        "epochs = 24\n",
        "num = 6412  # 6412\n",
        "batch_size = 16\n",
        "for epoch in range(epochs):\n",
        "    print(\"\\nStart epoch\", epoch)\n",
        "    total_loss = 0\n",
        "    # perform random shuffling each time\n",
        "    np.random.seed(epoch)\n",
        "    arr = np.arange(num)\n",
        "    np.random.shuffle(arr)\n",
        "    for i in range(num//batch_size):  # 6412/8 = ~800, 6412/16 = ~ 400\n",
        "      with tf.GradientTape() as tape:\n",
        "        batch_loss = 0\n",
        "        batch_tr = []\n",
        "        batch_lb = []\n",
        "        for j in range(batch_size):\n",
        "          idx = batch_size*i+j\n",
        "          img = train_data[arr[idx]]\n",
        "          img = tf.image.rgb_to_grayscale(img)\n",
        "          patches = to_patches(img)\n",
        "          batch_tr.append(patches)\n",
        "\n",
        "          lb = tf.one_hot(label[arr[idx]], 10)\n",
        "          batch_lb.append(lb)\n",
        "          \n",
        "        label_batch = tf.convert_to_tensor(batch_lb)\n",
        "\n",
        "        out = model_combined(batch_tr, training=True)\n",
        "\n",
        "        # print(batch_seq_len) # [0, 2, 2, 4, 2, 2, 3, 2, 3]\n",
        "        # print(segments) # [0, 2, 4, 8, 10, 12, 15, 17, 20]\n",
        "        # print(mobile_out.shape) # (20, 256)\n",
        "\n",
        "        # use categorical cross entropy loss\n",
        "        loss = tf.keras.losses.CategoricalCrossentropy()(label_batch, out)\n",
        "\n",
        "        total_loss += loss * size\n",
        "\n",
        "        grads = tape.gradient(loss, model_combined.trainable_weights)\n",
        "        optimizer.apply_gradients(zip(grads, model_combined.trainable_weights))\n",
        "      # Logging.\n",
        "      if i % 50 == 0:\n",
        "      # Print metrics\n",
        "        print(\"loss at %d, epoch %d: %f\" % (i, epoch, loss))\n",
        "\n",
        "    print(\"total loss after epoch %d: %.4f\" % (epoch, total_loss))\n",
        "    print(\"average loss after epoch %d: %.4f\" % (epoch, total_loss/num))\n",
        "\n",
        "    # batched validation evaluation\n",
        "    print(\"compute validation accuracy ...\")\n",
        "    accuracy = 0\n",
        "    val_batch_img = []\n",
        "    for i in range(1069):\n",
        "      img = val_data[i]\n",
        "      img = tf.image.rgb_to_grayscale(img)\n",
        "      patches = to_patches(img)\n",
        "      val_batch_img.append(patches)\n",
        "\n",
        "    preds = model_combined(val_batch_img, training=False)\n",
        "\n",
        "    pred_labels = tf.argmax(preds, axis=-1).numpy()\n",
        "    ground_truth = np.asarray(val_label)\n",
        "    accuracy = np.sum(pred_labels == ground_truth)/1069\n",
        "    print(\"validation accuracy after epoch %d: %f\" % (epoch, accuracy))\n",
        "\n",
        "# save model weights at the end\n",
        "model_combined.save_weights('./gdrive/MyDrive/Colab_Notebooks/task_cvsi/new_ver_models/model_tfm_v3x_weights')"
      ],
      "execution_count": null,
      "outputs": [
        {
          "output_type": "stream",
          "name": "stdout",
          "text": [
            "\n",
            "Start epoch 0\n",
            "loss at 0, epoch 0: 3.142861\n",
            "loss at 50, epoch 0: 2.107354\n",
            "loss at 100, epoch 0: 1.499105\n",
            "loss at 150, epoch 0: 1.138572\n",
            "loss at 200, epoch 0: 1.303158\n",
            "loss at 250, epoch 0: 1.810595\n",
            "loss at 300, epoch 0: 0.327965\n",
            "loss at 350, epoch 0: 0.779339\n",
            "loss at 400, epoch 0: 1.688773\n",
            "total loss after epoch 0: 9080.4961\n",
            "average loss after epoch 0: 1.4162\n",
            "compute validation accuracy ...\n",
            "validation accuracy after epoch 0: 0.100094\n",
            "\n",
            "Start epoch 1\n",
            "loss at 0, epoch 1: 0.398253\n",
            "loss at 50, epoch 1: 0.634347\n",
            "loss at 100, epoch 1: 0.995629\n",
            "loss at 150, epoch 1: 0.376066\n",
            "loss at 200, epoch 1: 0.372300\n",
            "loss at 250, epoch 1: 0.692364\n",
            "loss at 300, epoch 1: 0.059832\n",
            "loss at 350, epoch 1: 0.384256\n",
            "loss at 400, epoch 1: 1.801185\n",
            "total loss after epoch 1: 4072.9639\n",
            "average loss after epoch 1: 0.6352\n",
            "compute validation accuracy ...\n",
            "validation accuracy after epoch 1: 0.623012\n",
            "\n",
            "Start epoch 2\n",
            "loss at 0, epoch 2: 0.220084\n",
            "loss at 50, epoch 2: 0.216667\n",
            "loss at 100, epoch 2: 0.653717\n",
            "loss at 150, epoch 2: 0.237769\n",
            "loss at 200, epoch 2: 0.587366\n",
            "loss at 250, epoch 2: 0.146896\n",
            "loss at 300, epoch 2: 0.061171\n",
            "loss at 350, epoch 2: 0.376024\n",
            "loss at 400, epoch 2: 1.193693\n",
            "total loss after epoch 2: 2562.6255\n",
            "average loss after epoch 2: 0.3997\n",
            "compute validation accuracy ...\n",
            "validation accuracy after epoch 2: 0.714687\n",
            "\n",
            "Start epoch 3\n",
            "loss at 0, epoch 3: 0.194892\n",
            "loss at 50, epoch 3: 0.116474\n",
            "loss at 100, epoch 3: 0.752850\n",
            "loss at 150, epoch 3: 0.315719\n",
            "loss at 200, epoch 3: 0.098573\n",
            "loss at 250, epoch 3: 0.164021\n",
            "loss at 300, epoch 3: 0.042413\n",
            "loss at 350, epoch 3: 0.674300\n",
            "loss at 400, epoch 3: 0.538121\n",
            "total loss after epoch 3: 1986.3918\n",
            "average loss after epoch 3: 0.3098\n",
            "compute validation accuracy ...\n",
            "validation accuracy after epoch 3: 0.782039\n",
            "\n",
            "Start epoch 4\n",
            "loss at 0, epoch 4: 0.055752\n",
            "loss at 50, epoch 4: 0.162769\n",
            "loss at 100, epoch 4: 0.196620\n",
            "loss at 150, epoch 4: 0.123761\n",
            "loss at 200, epoch 4: 0.161565\n",
            "loss at 250, epoch 4: 0.384814\n",
            "loss at 300, epoch 4: 0.040673\n",
            "loss at 350, epoch 4: 0.173104\n",
            "loss at 400, epoch 4: 0.317843\n",
            "total loss after epoch 4: 1691.9396\n",
            "average loss after epoch 4: 0.2639\n",
            "compute validation accuracy ...\n",
            "validation accuracy after epoch 4: 0.805426\n",
            "\n",
            "Start epoch 5\n",
            "loss at 0, epoch 5: 0.302755\n",
            "loss at 50, epoch 5: 0.025677\n",
            "loss at 100, epoch 5: 0.233533\n",
            "loss at 150, epoch 5: 0.045937\n",
            "loss at 200, epoch 5: 0.140873\n",
            "loss at 250, epoch 5: 0.660238\n",
            "loss at 300, epoch 5: 0.084027\n",
            "loss at 350, epoch 5: 0.203004\n",
            "loss at 400, epoch 5: 0.431596\n",
            "total loss after epoch 5: 1353.3276\n",
            "average loss after epoch 5: 0.2111\n",
            "compute validation accuracy ...\n",
            "validation accuracy after epoch 5: 0.672591\n",
            "\n",
            "Start epoch 6\n",
            "loss at 0, epoch 6: 0.007445\n",
            "loss at 50, epoch 6: 0.036777\n",
            "loss at 100, epoch 6: 0.222066\n",
            "loss at 150, epoch 6: 0.259330\n",
            "loss at 200, epoch 6: 0.133688\n",
            "loss at 250, epoch 6: 1.006949\n",
            "loss at 300, epoch 6: 0.075632\n",
            "loss at 350, epoch 6: 0.327933\n",
            "loss at 400, epoch 6: 0.487903\n",
            "total loss after epoch 6: 1280.9442\n",
            "average loss after epoch 6: 0.1998\n",
            "compute validation accuracy ...\n",
            "validation accuracy after epoch 6: 0.807297\n",
            "\n",
            "Start epoch 7\n",
            "loss at 0, epoch 7: 0.028242\n",
            "loss at 50, epoch 7: 0.007079\n",
            "loss at 100, epoch 7: 0.433891\n",
            "loss at 150, epoch 7: 0.211750\n",
            "loss at 200, epoch 7: 0.122994\n",
            "loss at 250, epoch 7: 0.289543\n",
            "loss at 300, epoch 7: 0.061999\n",
            "loss at 350, epoch 7: 0.297359\n",
            "loss at 400, epoch 7: 1.329323\n",
            "total loss after epoch 7: 1116.4047\n",
            "average loss after epoch 7: 0.1741\n",
            "compute validation accuracy ...\n",
            "validation accuracy after epoch 7: 0.783910\n",
            "\n",
            "Start epoch 8\n",
            "loss at 0, epoch 8: 0.040362\n",
            "loss at 50, epoch 8: 0.127030\n",
            "loss at 100, epoch 8: 0.046954\n",
            "loss at 150, epoch 8: 0.014255\n",
            "loss at 200, epoch 8: 0.024709\n",
            "loss at 250, epoch 8: 0.011806\n",
            "loss at 300, epoch 8: 0.005347\n",
            "loss at 350, epoch 8: 0.306062\n",
            "loss at 400, epoch 8: 0.903311\n",
            "total loss after epoch 8: 826.1608\n",
            "average loss after epoch 8: 0.1288\n",
            "compute validation accuracy ...\n",
            "validation accuracy after epoch 8: 0.845650\n",
            "\n",
            "Start epoch 9\n",
            "loss at 0, epoch 9: 0.241862\n",
            "loss at 50, epoch 9: 0.006777\n",
            "loss at 100, epoch 9: 0.724578\n",
            "loss at 150, epoch 9: 0.123021\n",
            "loss at 200, epoch 9: 0.076829\n",
            "loss at 250, epoch 9: 0.109779\n",
            "loss at 300, epoch 9: 0.005347\n",
            "loss at 350, epoch 9: 0.199652\n",
            "loss at 400, epoch 9: 0.393536\n",
            "total loss after epoch 9: 1432.2457\n",
            "average loss after epoch 9: 0.2234\n",
            "compute validation accuracy ...\n",
            "validation accuracy after epoch 9: 0.839102\n",
            "\n",
            "Start epoch 10\n",
            "loss at 0, epoch 10: 0.033540\n",
            "loss at 50, epoch 10: 0.025303\n",
            "loss at 100, epoch 10: 0.453852\n",
            "loss at 150, epoch 10: 0.013662\n",
            "loss at 200, epoch 10: 0.088992\n",
            "loss at 250, epoch 10: 0.009977\n",
            "loss at 300, epoch 10: 0.030117\n",
            "loss at 350, epoch 10: 0.084477\n",
            "loss at 400, epoch 10: 0.166324\n",
            "total loss after epoch 10: 744.5056\n",
            "average loss after epoch 10: 0.1161\n",
            "compute validation accuracy ...\n",
            "validation accuracy after epoch 10: 0.855005\n",
            "\n",
            "Start epoch 11\n",
            "loss at 0, epoch 11: 0.021975\n",
            "loss at 50, epoch 11: 0.016485\n",
            "loss at 100, epoch 11: 0.001572\n",
            "loss at 150, epoch 11: 0.002420\n",
            "loss at 200, epoch 11: 0.360910\n",
            "loss at 250, epoch 11: 0.000695\n",
            "loss at 300, epoch 11: 0.006635\n",
            "loss at 350, epoch 11: 0.017415\n",
            "loss at 400, epoch 11: 0.339416\n",
            "total loss after epoch 11: 747.8552\n",
            "average loss after epoch 11: 0.1166\n",
            "compute validation accuracy ...\n",
            "validation accuracy after epoch 11: 0.876520\n",
            "\n",
            "Start epoch 12\n",
            "loss at 0, epoch 12: 0.004386\n",
            "loss at 50, epoch 12: 0.022317\n",
            "loss at 100, epoch 12: 0.000887\n",
            "loss at 150, epoch 12: 0.005453\n",
            "loss at 200, epoch 12: 0.228929\n",
            "loss at 250, epoch 12: 0.130458\n",
            "loss at 300, epoch 12: 0.371423\n",
            "loss at 350, epoch 12: 0.007707\n",
            "loss at 400, epoch 12: 0.965371\n",
            "total loss after epoch 12: 625.7194\n",
            "average loss after epoch 12: 0.0976\n",
            "compute validation accuracy ...\n",
            "validation accuracy after epoch 12: 0.866230\n",
            "\n",
            "Start epoch 13\n",
            "loss at 0, epoch 13: 0.000825\n",
            "loss at 50, epoch 13: 0.299923\n",
            "loss at 100, epoch 13: 0.752188\n",
            "loss at 150, epoch 13: 0.001067\n",
            "loss at 200, epoch 13: 0.051678\n",
            "loss at 250, epoch 13: 0.002596\n",
            "loss at 300, epoch 13: 0.009367\n",
            "loss at 350, epoch 13: 0.873587\n",
            "loss at 400, epoch 13: 0.455692\n",
            "total loss after epoch 13: 670.7481\n",
            "average loss after epoch 13: 0.1046\n",
            "compute validation accuracy ...\n",
            "validation accuracy after epoch 13: 0.907390\n",
            "\n",
            "Start epoch 14\n",
            "loss at 0, epoch 14: 0.006037\n",
            "loss at 50, epoch 14: 0.028853\n",
            "loss at 100, epoch 14: 0.133352\n",
            "loss at 150, epoch 14: 0.115461\n",
            "loss at 200, epoch 14: 0.033953\n",
            "loss at 250, epoch 14: 0.002589\n",
            "loss at 300, epoch 14: 0.000188\n",
            "loss at 350, epoch 14: 0.004404\n",
            "loss at 400, epoch 14: 0.941409\n",
            "total loss after epoch 14: 456.7693\n",
            "average loss after epoch 14: 0.0712\n",
            "compute validation accuracy ...\n",
            "validation accuracy after epoch 14: 0.898971\n",
            "\n",
            "Start epoch 15\n",
            "loss at 0, epoch 15: 0.000497\n",
            "loss at 50, epoch 15: 0.006969\n",
            "loss at 100, epoch 15: 0.002177\n",
            "loss at 150, epoch 15: 0.024327\n",
            "loss at 200, epoch 15: 0.077868\n",
            "loss at 250, epoch 15: 0.313832\n",
            "loss at 300, epoch 15: 0.006050\n",
            "loss at 350, epoch 15: 0.303856\n",
            "loss at 400, epoch 15: 0.115149\n",
            "total loss after epoch 15: 989.7978\n",
            "average loss after epoch 15: 0.1544\n",
            "compute validation accuracy ...\n",
            "validation accuracy after epoch 15: 0.863424\n",
            "\n",
            "Start epoch 16\n",
            "loss at 0, epoch 16: 0.025944\n",
            "loss at 50, epoch 16: 0.002250\n",
            "loss at 100, epoch 16: 0.142396\n",
            "loss at 150, epoch 16: 0.001183\n",
            "loss at 200, epoch 16: 0.114875\n",
            "loss at 250, epoch 16: 0.036923\n",
            "loss at 300, epoch 16: 0.027527\n",
            "loss at 350, epoch 16: 0.035591\n",
            "loss at 400, epoch 16: 0.162686\n",
            "total loss after epoch 16: 473.0609\n",
            "average loss after epoch 16: 0.0738\n",
            "compute validation accuracy ...\n",
            "validation accuracy after epoch 16: 0.899906\n",
            "\n",
            "Start epoch 17\n",
            "loss at 0, epoch 17: 0.000337\n",
            "loss at 50, epoch 17: 0.059314\n",
            "loss at 100, epoch 17: 0.015885\n",
            "loss at 150, epoch 17: 0.000196\n",
            "loss at 200, epoch 17: 0.000133\n",
            "loss at 250, epoch 17: 0.000058\n",
            "loss at 300, epoch 17: 0.000108\n",
            "loss at 350, epoch 17: 0.005745\n",
            "loss at 400, epoch 17: 0.022830\n",
            "total loss after epoch 17: 145.1034\n",
            "average loss after epoch 17: 0.0226\n",
            "compute validation accuracy ...\n",
            "validation accuracy after epoch 17: 0.911132\n",
            "\n",
            "Start epoch 18\n",
            "loss at 0, epoch 18: 0.000594\n",
            "loss at 50, epoch 18: 0.009601\n",
            "loss at 100, epoch 18: 0.172784\n",
            "loss at 150, epoch 18: 0.131870\n",
            "loss at 200, epoch 18: 0.447260\n",
            "loss at 250, epoch 18: 0.244829\n",
            "loss at 300, epoch 18: 0.001154\n",
            "loss at 350, epoch 18: 0.130066\n",
            "loss at 400, epoch 18: 0.340951\n",
            "total loss after epoch 18: 629.6828\n",
            "average loss after epoch 18: 0.0982\n",
            "compute validation accuracy ...\n",
            "validation accuracy after epoch 18: 0.886810\n",
            "\n",
            "Start epoch 19\n",
            "loss at 0, epoch 19: 0.002361\n",
            "loss at 50, epoch 19: 0.000484\n",
            "loss at 100, epoch 19: 0.011174\n",
            "loss at 150, epoch 19: 0.000701\n",
            "loss at 200, epoch 19: 0.010685\n",
            "loss at 250, epoch 19: 0.000467\n",
            "loss at 300, epoch 19: 0.001040\n",
            "loss at 350, epoch 19: 0.023713\n",
            "loss at 400, epoch 19: 0.004927\n",
            "total loss after epoch 19: 324.0467\n",
            "average loss after epoch 19: 0.0505\n",
            "compute validation accuracy ...\n",
            "validation accuracy after epoch 19: 0.891487\n",
            "\n",
            "Start epoch 20\n",
            "loss at 0, epoch 20: 0.029317\n",
            "loss at 50, epoch 20: 0.003512\n",
            "loss at 100, epoch 20: 0.181841\n",
            "loss at 150, epoch 20: 0.000787\n",
            "loss at 200, epoch 20: 0.002568\n",
            "loss at 250, epoch 20: 0.099143\n",
            "loss at 300, epoch 20: 0.029908\n",
            "loss at 350, epoch 20: 0.035030\n",
            "loss at 400, epoch 20: 0.045066\n",
            "total loss after epoch 20: 589.0562\n",
            "average loss after epoch 20: 0.0919\n",
            "compute validation accuracy ...\n",
            "validation accuracy after epoch 20: 0.856876\n",
            "\n",
            "Start epoch 21\n",
            "loss at 0, epoch 21: 0.076645\n",
            "loss at 50, epoch 21: 0.000640\n",
            "loss at 100, epoch 21: 0.001774\n",
            "loss at 150, epoch 21: 0.129554\n",
            "loss at 200, epoch 21: 0.008076\n",
            "loss at 250, epoch 21: 0.230951\n",
            "loss at 300, epoch 21: 0.011496\n",
            "loss at 350, epoch 21: 0.237504\n",
            "loss at 400, epoch 21: 0.771224\n",
            "total loss after epoch 21: 641.3389\n",
            "average loss after epoch 21: 0.1000\n",
            "compute validation accuracy ...\n",
            "validation accuracy after epoch 21: 0.859682\n",
            "\n",
            "Start epoch 22\n",
            "loss at 0, epoch 22: 0.000586\n",
            "loss at 50, epoch 22: 0.000149\n",
            "loss at 100, epoch 22: 0.020679\n",
            "loss at 150, epoch 22: 0.000357\n",
            "loss at 200, epoch 22: 0.003653\n",
            "loss at 250, epoch 22: 0.007567\n",
            "loss at 300, epoch 22: 0.001382\n",
            "loss at 350, epoch 22: 0.047312\n",
            "loss at 400, epoch 22: 0.122881\n",
            "total loss after epoch 22: 426.1423\n",
            "average loss after epoch 22: 0.0665\n",
            "compute validation accuracy ...\n",
            "validation accuracy after epoch 22: 0.790458\n",
            "\n",
            "Start epoch 23\n",
            "loss at 0, epoch 23: 0.001700\n",
            "loss at 50, epoch 23: 0.014216\n",
            "loss at 100, epoch 23: 0.045659\n",
            "loss at 150, epoch 23: 0.039185\n",
            "loss at 200, epoch 23: 0.013633\n",
            "loss at 250, epoch 23: 0.000845\n",
            "loss at 300, epoch 23: 0.000160\n",
            "loss at 350, epoch 23: 0.070395\n",
            "loss at 400, epoch 23: 0.159994\n",
            "total loss after epoch 23: 257.7110\n",
            "average loss after epoch 23: 0.0402\n",
            "compute validation accuracy ...\n",
            "validation accuracy after epoch 23: 0.885875\n"
          ]
        }
      ]
    },
    {
      "cell_type": "code",
      "metadata": {
        "id": "Dy5O7BNrBAum"
      },
      "source": [
        "# initilize a new model (in case we exit after training)\n",
        "model_0 = MyModel(mobile_net, encoder)\n",
        "out = model_0(input_xx)"
      ],
      "execution_count": null,
      "outputs": []
    },
    {
      "cell_type": "code",
      "metadata": {
        "colab": {
          "base_uri": "https://localhost:8080/"
        },
        "id": "CTowrzN7BRui",
        "outputId": "9ce92027-992f-41aa-d156-b26ba5a075f1"
      },
      "source": [
        "# load trained weights to the new model\n",
        "model_0.load_weights('./gdrive/MyDrive/Colab_Notebooks/task_cvsi/new_ver_models/model_tfm_v3x_weights')\n",
        "model_0.summary()"
      ],
      "execution_count": null,
      "outputs": [
        {
          "output_type": "stream",
          "name": "stdout",
          "text": [
            "Model: \"my_model_1\"\n",
            "_________________________________________________________________\n",
            " Layer (type)                Output Shape              Param #   \n",
            "=================================================================\n",
            " model (Functional)          (None, 512)               3220288   \n",
            "                                                                 \n",
            " encoder (Encoder)           multiple                  2235786   \n",
            "                                                                 \n",
            "=================================================================\n",
            "Total params: 5,456,074\n",
            "Trainable params: 5,438,282\n",
            "Non-trainable params: 17,792\n",
            "_________________________________________________________________\n"
          ]
        }
      ]
    },
    {
      "cell_type": "code",
      "metadata": {
        "id": "-5IWBDL6DT7x",
        "colab": {
          "base_uri": "https://localhost:8080/"
        },
        "outputId": "04bce543-bb97-427b-f225-126807a813de"
      },
      "source": [
        "# batched validation evaluation\n",
        "accuracy = 0\n",
        "batch_img = []\n",
        "for i in range(1069):\n",
        "  img = val_data[i]\n",
        "  img = tf.image.rgb_to_grayscale(img)\n",
        "  # edges = cv2.Canny(np.asarray(img, dtype=np.uint8), 200, 300)\n",
        "\n",
        "  # h, w = img.shape[0], img.shape[1]\n",
        "  # image = tf.image.resize(tf.reshape(img, [1,h,w,1]), (64, 96))/255\n",
        "  patches = to_patches(img)\n",
        "  batch_img.append(patches)\n",
        "  # image = tf.concat([image_1, image_2], axis=-1)\n",
        "\n",
        "pred = model_0(batch_img, training=False)\n",
        "\n",
        "pred_labels = tf.argmax(pred, axis=-1).numpy()\n",
        "ground_truth = np.asarray(val_label)\n",
        "accuracy = np.sum(pred_labels == ground_truth)/1069\n",
        "print(f'validation accuracy: {accuracy}')  # v2: 0.8110 \n",
        "                                           # v3: 0.9027 (highest 0.9186), v3x: 0.8858 (highest 0.9111)"
      ],
      "execution_count": null,
      "outputs": [
        {
          "output_type": "stream",
          "name": "stdout",
          "text": [
            "validation accuracy: 0.8858746492048644\n"
          ]
        }
      ]
    },
    {
      "cell_type": "code",
      "metadata": {
        "id": "EGRuE7uRWQGx",
        "colab": {
          "base_uri": "https://localhost:8080/"
        },
        "outputId": "c061eaf7-391f-4c65-8822-83439d79b790"
      },
      "source": [
        "# batched test evaluation\n",
        "accuracy = 0\n",
        "batch_img = []\n",
        "for i in range(3207):\n",
        "  img = test_data[i]\n",
        "  img = tf.image.rgb_to_grayscale(img)\n",
        "  # edges = cv2.Canny(np.asarray(img, dtype=np.uint8), 200, 300)\n",
        "\n",
        "  # h, w = img.shape[0], img.shape[1]\n",
        "  # image = tf.image.resize(tf.reshape(img, [1,h,w,1]), (64, 96))/255\n",
        "  patches = to_patches(img)\n",
        "  batch_img.append(patches)\n",
        "  # image = tf.concat([image_1, image_2], axis=-1)\n",
        "\n",
        "pred = model_0(batch_img, training=False)\n",
        "\n",
        "pred_labels = tf.argmax(pred, axis=-1).numpy()\n",
        "ground_truth = np.asarray(test_label)\n",
        "accuracy = np.sum(pred_labels == ground_truth)/3207\n",
        "print(f'test accuracy: {accuracy}')  # v2: 0.8291\n",
        "                                     # v3: 0.9086, v3x: 0.9052"
      ],
      "execution_count": null,
      "outputs": [
        {
          "output_type": "stream",
          "name": "stdout",
          "text": [
            "test accuracy: 0.905207358902401\n"
          ]
        }
      ]
    }
  ]
}